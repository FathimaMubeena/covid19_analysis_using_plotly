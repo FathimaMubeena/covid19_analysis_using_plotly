{
 "cells": [
  {
   "cell_type": "markdown",
   "metadata": {
    "id": "kkWIR2H4c6_j"
   },
   "source": [
    "# Chapter 3: Introduction to Data Analysis in Python Polars"
   ]
  },
  {
   "cell_type": "code",
   "source": [
    "#Install plotly\n",
    "!pip install plotly"
   ],
   "metadata": {
    "colab": {
     "base_uri": "https://localhost:8080/"
    },
    "id": "ZPtTk9NjBVif",
    "outputId": "2aca486b-785e-49f3-9882-f1da6eaa7c21"
   },
   "execution_count": null,
   "outputs": [
    {
     "output_type": "stream",
     "name": "stdout",
     "text": [
      "Requirement already satisfied: plotly in /usr/local/lib/python3.11/dist-packages (5.24.1)\n",
      "Requirement already satisfied: tenacity>=6.2.0 in /usr/local/lib/python3.11/dist-packages (from plotly) (9.1.2)\n",
      "Requirement already satisfied: packaging in /usr/local/lib/python3.11/dist-packages (from plotly) (24.2)\n"
     ]
    }
   ]
  },
  {
   "cell_type": "code",
   "source": [
    "#Install nbformat library to render Plotly visualizations\n",
    "!pip install nbformat"
   ],
   "metadata": {
    "colab": {
     "base_uri": "https://localhost:8080/"
    },
    "id": "20WkJDNVBjOn",
    "outputId": "286540c9-ebbd-420b-f49d-23d69904a734"
   },
   "execution_count": null,
   "outputs": [
    {
     "output_type": "stream",
     "name": "stdout",
     "text": [
      "Requirement already satisfied: nbformat in /usr/local/lib/python3.11/dist-packages (5.10.4)\n",
      "Requirement already satisfied: fastjsonschema>=2.15 in /usr/local/lib/python3.11/dist-packages (from nbformat) (2.21.1)\n",
      "Requirement already satisfied: jsonschema>=2.6 in /usr/local/lib/python3.11/dist-packages (from nbformat) (4.23.0)\n",
      "Requirement already satisfied: jupyter-core!=5.0.*,>=4.12 in /usr/local/lib/python3.11/dist-packages (from nbformat) (5.7.2)\n",
      "Requirement already satisfied: traitlets>=5.1 in /usr/local/lib/python3.11/dist-packages (from nbformat) (5.7.1)\n",
      "Requirement already satisfied: attrs>=22.2.0 in /usr/local/lib/python3.11/dist-packages (from jsonschema>=2.6->nbformat) (25.3.0)\n",
      "Requirement already satisfied: jsonschema-specifications>=2023.03.6 in /usr/local/lib/python3.11/dist-packages (from jsonschema>=2.6->nbformat) (2025.4.1)\n",
      "Requirement already satisfied: referencing>=0.28.4 in /usr/local/lib/python3.11/dist-packages (from jsonschema>=2.6->nbformat) (0.36.2)\n",
      "Requirement already satisfied: rpds-py>=0.7.1 in /usr/local/lib/python3.11/dist-packages (from jsonschema>=2.6->nbformat) (0.24.0)\n",
      "Requirement already satisfied: platformdirs>=2.5 in /usr/local/lib/python3.11/dist-packages (from jupyter-core!=5.0.*,>=4.12->nbformat) (4.3.8)\n",
      "Requirement already satisfied: typing-extensions>=4.4.0 in /usr/local/lib/python3.11/dist-packages (from referencing>=0.28.4->jsonschema>=2.6->nbformat) (4.13.2)\n"
     ]
    }
   ]
  },
  {
   "cell_type": "code",
   "source": [
    "#Make sure you import the library in your Python code.\n",
    "# We use Plotly Express in this recipe, which is a high-level interface for Plotly:\n",
    "import plotly.express as px"
   ],
   "metadata": {
    "id": "8SJ4n_KNB5X1"
   },
   "execution_count": null,
   "outputs": []
  },
  {
   "cell_type": "markdown",
   "metadata": {
    "id": "NjzxgZFac6_n"
   },
   "source": [
    "## Inspecting a DataFrame"
   ]
  },
  {
   "cell_type": "markdown",
   "metadata": {
    "id": "3GeJw6f2c6_n"
   },
   "source": [
    "### How to do it..."
   ]
  },
  {
   "cell_type": "code",
   "execution_count": null,
   "metadata": {
    "id": "Kv_zM0fTc6_o"
   },
   "outputs": [],
   "source": [
    "import polars as pl"
   ]
  },
  {
   "cell_type": "code",
   "source": [
    "from google.colab import drive\n",
    "drive.mount('/content/Drive', force_remount=True)\n",
    "\n",
    "data_directory = '/content/Drive/MyDrive/python_polars/covid_19_deaths.csv'\n"
   ],
   "metadata": {
    "colab": {
     "base_uri": "https://localhost:8080/"
    },
    "id": "gzFO73Jag8qo",
    "outputId": "b0bb0f44-51da-4d05-d559-f6037b67b44b"
   },
   "execution_count": null,
   "outputs": [
    {
     "output_type": "stream",
     "name": "stdout",
     "text": [
      "Mounted at /content/Drive\n"
     ]
    }
   ]
  },
  {
   "cell_type": "code",
   "execution_count": null,
   "metadata": {
    "id": "lWXjLpT7c6_p"
   },
   "outputs": [],
   "source": [
    "df_covid = pl.read_csv('/content/Drive/MyDrive/python_polars/covid_19_deaths.csv')"
   ]
  },
  {
   "cell_type": "code",
   "execution_count": null,
   "metadata": {
    "id": "-yOW9vs7c6_q",
    "outputId": "a647e169-5c9f-4ef4-dcb8-c26e82ea5816",
    "colab": {
     "base_uri": "https://localhost:8080/",
     "height": 359
    }
   },
   "outputs": [
    {
     "output_type": "execute_result",
     "data": {
      "text/plain": [
       "shape: (5, 16)\n",
       "┌────────────┬───────────┬───────────┬──────────┬───┬───────────┬───────────┬───────────┬──────────┐\n",
       "│ Data As Of ┆ Start     ┆ End Date  ┆ Group    ┆ … ┆ Pneumonia ┆ Influenza ┆ Pneumonia ┆ Footnote │\n",
       "│ ---        ┆ Date      ┆ ---       ┆ ---      ┆   ┆ and       ┆ Deaths    ┆ , Influen ┆ ---      │\n",
       "│ str        ┆ ---       ┆ str       ┆ str      ┆   ┆ COVID-19  ┆ ---       ┆ za, or    ┆ str      │\n",
       "│            ┆ str       ┆           ┆          ┆   ┆ Deaths    ┆ i64       ┆ COVID…    ┆          │\n",
       "│            ┆           ┆           ┆          ┆   ┆ ---       ┆           ┆ ---       ┆          │\n",
       "│            ┆           ┆           ┆          ┆   ┆ i64       ┆           ┆ i64       ┆          │\n",
       "╞════════════╪═══════════╪═══════════╪══════════╪═══╪═══════════╪═══════════╪═══════════╪══════════╡\n",
       "│ 09/27/2023 ┆ 01/01/202 ┆ 09/23/202 ┆ By Total ┆ … ┆ 569264    ┆ 22229     ┆ 1760095   ┆ null     │\n",
       "│            ┆ 0         ┆ 3         ┆          ┆   ┆           ┆           ┆           ┆          │\n",
       "│ 09/27/2023 ┆ 01/01/202 ┆ 09/23/202 ┆ By Total ┆ … ┆ 95        ┆ 64        ┆ 1541      ┆ null     │\n",
       "│            ┆ 0         ┆ 3         ┆          ┆   ┆           ┆           ┆           ┆          │\n",
       "│ 09/27/2023 ┆ 01/01/202 ┆ 09/23/202 ┆ By Total ┆ … ┆ 424       ┆ 509       ┆ 4716      ┆ null     │\n",
       "│            ┆ 0         ┆ 3         ┆          ┆   ┆           ┆           ┆           ┆          │\n",
       "│ 09/27/2023 ┆ 01/01/202 ┆ 09/23/202 ┆ By Total ┆ … ┆ 66        ┆ 177       ┆ 1079      ┆ null     │\n",
       "│            ┆ 0         ┆ 3         ┆          ┆   ┆           ┆           ┆           ┆          │\n",
       "│ 09/27/2023 ┆ 01/01/202 ┆ 09/23/202 ┆ By Total ┆ … ┆ 143       ┆ 219       ┆ 1390      ┆ null     │\n",
       "│            ┆ 0         ┆ 3         ┆          ┆   ┆           ┆           ┆           ┆          │\n",
       "└────────────┴───────────┴───────────┴──────────┴───┴───────────┴───────────┴───────────┴──────────┘"
      ],
      "text/html": [
       "<div><style>\n",
       ".dataframe > thead > tr,\n",
       ".dataframe > tbody > tr {\n",
       "  text-align: right;\n",
       "  white-space: pre-wrap;\n",
       "}\n",
       "</style>\n",
       "<small>shape: (5, 16)</small><table border=\"1\" class=\"dataframe\"><thead><tr><th>Data As Of</th><th>Start Date</th><th>End Date</th><th>Group</th><th>Year</th><th>Month</th><th>State</th><th>Sex</th><th>Age Group</th><th>COVID-19 Deaths</th><th>Total Deaths</th><th>Pneumonia Deaths</th><th>Pneumonia and COVID-19 Deaths</th><th>Influenza Deaths</th><th>Pneumonia, Influenza, or COVID-19 Deaths</th><th>Footnote</th></tr><tr><td>str</td><td>str</td><td>str</td><td>str</td><td>str</td><td>str</td><td>str</td><td>str</td><td>str</td><td>i64</td><td>i64</td><td>i64</td><td>i64</td><td>i64</td><td>i64</td><td>str</td></tr></thead><tbody><tr><td>&quot;09/27/2023&quot;</td><td>&quot;01/01/2020&quot;</td><td>&quot;09/23/2023&quot;</td><td>&quot;By Total&quot;</td><td>null</td><td>null</td><td>&quot;United States&quot;</td><td>&quot;All Sexes&quot;</td><td>&quot;All Ages&quot;</td><td>1146774</td><td>12303399</td><td>1162844</td><td>569264</td><td>22229</td><td>1760095</td><td>null</td></tr><tr><td>&quot;09/27/2023&quot;</td><td>&quot;01/01/2020&quot;</td><td>&quot;09/23/2023&quot;</td><td>&quot;By Total&quot;</td><td>null</td><td>null</td><td>&quot;United States&quot;</td><td>&quot;All Sexes&quot;</td><td>&quot;Under 1 year&quot;</td><td>519</td><td>73213</td><td>1056</td><td>95</td><td>64</td><td>1541</td><td>null</td></tr><tr><td>&quot;09/27/2023&quot;</td><td>&quot;01/01/2020&quot;</td><td>&quot;09/23/2023&quot;</td><td>&quot;By Total&quot;</td><td>null</td><td>null</td><td>&quot;United States&quot;</td><td>&quot;All Sexes&quot;</td><td>&quot;0-17 years&quot;</td><td>1696</td><td>130970</td><td>2961</td><td>424</td><td>509</td><td>4716</td><td>null</td></tr><tr><td>&quot;09/27/2023&quot;</td><td>&quot;01/01/2020&quot;</td><td>&quot;09/23/2023&quot;</td><td>&quot;By Total&quot;</td><td>null</td><td>null</td><td>&quot;United States&quot;</td><td>&quot;All Sexes&quot;</td><td>&quot;1-4 years&quot;</td><td>285</td><td>14299</td><td>692</td><td>66</td><td>177</td><td>1079</td><td>null</td></tr><tr><td>&quot;09/27/2023&quot;</td><td>&quot;01/01/2020&quot;</td><td>&quot;09/23/2023&quot;</td><td>&quot;By Total&quot;</td><td>null</td><td>null</td><td>&quot;United States&quot;</td><td>&quot;All Sexes&quot;</td><td>&quot;5-14 years&quot;</td><td>509</td><td>22008</td><td>818</td><td>143</td><td>219</td><td>1390</td><td>null</td></tr></tbody></table></div>"
      ]
     },
     "metadata": {},
     "execution_count": 8
    }
   ],
   "source": [
    "#Display the first five rows:\n",
    "df_covid.head(5)"
   ]
  },
  {
   "cell_type": "code",
   "execution_count": null,
   "metadata": {
    "id": "qTstBWzrc6_r",
    "outputId": "1e3bb8cb-fba1-4477-bc42-7b05413182a1",
    "colab": {
     "base_uri": "https://localhost:8080/",
     "height": 359
    }
   },
   "outputs": [
    {
     "output_type": "execute_result",
     "data": {
      "text/plain": [
       "shape: (5, 16)\n",
       "┌────────┬────────┬────────┬────────┬──────┬───────┬───┬────────┬────────┬────────┬────────┬───────┐\n",
       "│ Data   ┆ Start_ ┆ End    ┆ Group  ┆ Year ┆ Month ┆ … ┆ Pneumo ┆ Pneumo ┆ Influe ┆ Pneumo ┆ Footn │\n",
       "│ As Of  ┆ Date   ┆ Date   ┆ ---    ┆ ---  ┆ ---   ┆   ┆ nia    ┆ nia    ┆ nza    ┆ nia,   ┆ ote   │\n",
       "│ ---    ┆ ---    ┆ ---    ┆ str    ┆ str  ┆ str   ┆   ┆ Deaths ┆ and    ┆ Deaths ┆ Influe ┆ ---   │\n",
       "│ str    ┆ str    ┆ str    ┆        ┆      ┆       ┆   ┆ ---    ┆ COVID- ┆ ---    ┆ nza,   ┆ str   │\n",
       "│        ┆        ┆        ┆        ┆      ┆       ┆   ┆ i64    ┆ 19     ┆ i64    ┆ or     ┆       │\n",
       "│        ┆        ┆        ┆        ┆      ┆       ┆   ┆        ┆ Deaths ┆        ┆ COVID… ┆       │\n",
       "│        ┆        ┆        ┆        ┆      ┆       ┆   ┆        ┆ ---    ┆        ┆ ---    ┆       │\n",
       "│        ┆        ┆        ┆        ┆      ┆       ┆   ┆        ┆ i64    ┆        ┆ i64    ┆       │\n",
       "╞════════╪════════╪════════╪════════╪══════╪═══════╪═══╪════════╪════════╪════════╪════════╪═══════╡\n",
       "│ 09/27/ ┆ 2023-0 ┆ 09/23/ ┆ By     ┆ 2023 ┆ 9     ┆ … ┆ 14     ┆ null   ┆ 0      ┆ 14     ┆ One   │\n",
       "│ 2023   ┆ 9-01   ┆ 2023   ┆ Month  ┆      ┆       ┆   ┆        ┆        ┆        ┆        ┆ or    │\n",
       "│        ┆        ┆        ┆        ┆      ┆       ┆   ┆        ┆        ┆        ┆        ┆ more  │\n",
       "│        ┆        ┆        ┆        ┆      ┆       ┆   ┆        ┆        ┆        ┆        ┆ data  │\n",
       "│        ┆        ┆        ┆        ┆      ┆       ┆   ┆        ┆        ┆        ┆        ┆ cells │\n",
       "│        ┆        ┆        ┆        ┆      ┆       ┆   ┆        ┆        ┆        ┆        ┆ have  │\n",
       "│        ┆        ┆        ┆        ┆      ┆       ┆   ┆        ┆        ┆        ┆        ┆ co…   │\n",
       "│ 09/27/ ┆ 2023-0 ┆ 09/23/ ┆ By     ┆ 2023 ┆ 9     ┆ … ┆ 10     ┆ 0      ┆ 0      ┆ 10     ┆ null  │\n",
       "│ 2023   ┆ 9-01   ┆ 2023   ┆ Month  ┆      ┆       ┆   ┆        ┆        ┆        ┆        ┆       │\n",
       "│ 09/27/ ┆ 2023-0 ┆ 09/23/ ┆ By     ┆ 2023 ┆ 9     ┆ … ┆ null   ┆ null   ┆ 0      ┆ null   ┆ One   │\n",
       "│ 2023   ┆ 9-01   ┆ 2023   ┆ Month  ┆      ┆       ┆   ┆        ┆        ┆        ┆        ┆ or    │\n",
       "│        ┆        ┆        ┆        ┆      ┆       ┆   ┆        ┆        ┆        ┆        ┆ more  │\n",
       "│        ┆        ┆        ┆        ┆      ┆       ┆   ┆        ┆        ┆        ┆        ┆ data  │\n",
       "│        ┆        ┆        ┆        ┆      ┆       ┆   ┆        ┆        ┆        ┆        ┆ cells │\n",
       "│        ┆        ┆        ┆        ┆      ┆       ┆   ┆        ┆        ┆        ┆        ┆ have  │\n",
       "│        ┆        ┆        ┆        ┆      ┆       ┆   ┆        ┆        ┆        ┆        ┆ co…   │\n",
       "│ 09/27/ ┆ 2023-0 ┆ 09/23/ ┆ By     ┆ 2023 ┆ 9     ┆ … ┆ 36     ┆ null   ┆ 0      ┆ 38     ┆ One   │\n",
       "│ 2023   ┆ 9-01   ┆ 2023   ┆ Month  ┆      ┆       ┆   ┆        ┆        ┆        ┆        ┆ or    │\n",
       "│        ┆        ┆        ┆        ┆      ┆       ┆   ┆        ┆        ┆        ┆        ┆ more  │\n",
       "│        ┆        ┆        ┆        ┆      ┆       ┆   ┆        ┆        ┆        ┆        ┆ data  │\n",
       "│        ┆        ┆        ┆        ┆      ┆       ┆   ┆        ┆        ┆        ┆        ┆ cells │\n",
       "│        ┆        ┆        ┆        ┆      ┆       ┆   ┆        ┆        ┆        ┆        ┆ have  │\n",
       "│        ┆        ┆        ┆        ┆      ┆       ┆   ┆        ┆        ┆        ┆        ┆ co…   │\n",
       "│ 09/27/ ┆ 2023-0 ┆ 09/23/ ┆ By     ┆ 2023 ┆ 9     ┆ … ┆ 42     ┆ null   ┆ null   ┆ 44     ┆ One   │\n",
       "│ 2023   ┆ 9-01   ┆ 2023   ┆ Month  ┆      ┆       ┆   ┆        ┆        ┆        ┆        ┆ or    │\n",
       "│        ┆        ┆        ┆        ┆      ┆       ┆   ┆        ┆        ┆        ┆        ┆ more  │\n",
       "│        ┆        ┆        ┆        ┆      ┆       ┆   ┆        ┆        ┆        ┆        ┆ data  │\n",
       "│        ┆        ┆        ┆        ┆      ┆       ┆   ┆        ┆        ┆        ┆        ┆ cells │\n",
       "│        ┆        ┆        ┆        ┆      ┆       ┆   ┆        ┆        ┆        ┆        ┆ have  │\n",
       "│        ┆        ┆        ┆        ┆      ┆       ┆   ┆        ┆        ┆        ┆        ┆ co…   │\n",
       "└────────┴────────┴────────┴────────┴──────┴───────┴───┴────────┴────────┴────────┴────────┴───────┘"
      ],
      "text/html": [
       "<div><style>\n",
       ".dataframe > thead > tr,\n",
       ".dataframe > tbody > tr {\n",
       "  text-align: right;\n",
       "  white-space: pre-wrap;\n",
       "}\n",
       "</style>\n",
       "<small>shape: (5, 16)</small><table border=\"1\" class=\"dataframe\"><thead><tr><th>Data As Of</th><th>Start_Date</th><th>End Date</th><th>Group</th><th>Year</th><th>&hellip;</th><th>Pneumonia Deaths</th><th>Pneumonia and COVID-19 Deaths</th><th>Influenza Deaths</th><th>Pneumonia, Influenza, or COVID-19 Deaths</th><th>Footnote</th></tr><tr><td>str</td><td>str</td><td>str</td><td>str</td><td>str</td><td>&hellip;</td><td>i64</td><td>i64</td><td>i64</td><td>i64</td><td>str</td></tr></thead><tbody><tr><td>&quot;09/27/2023&quot;</td><td>&quot;2023-09-01&quot;</td><td>&quot;09/23/2023&quot;</td><td>&quot;By Month&quot;</td><td>&quot;2023&quot;</td><td>&hellip;</td><td>14</td><td>null</td><td>0</td><td>14</td><td>&quot;One or more data cells have co…</td></tr><tr><td>&quot;09/27/2023&quot;</td><td>&quot;2023-09-01&quot;</td><td>&quot;09/23/2023&quot;</td><td>&quot;By Month&quot;</td><td>&quot;2023&quot;</td><td>&hellip;</td><td>10</td><td>0</td><td>0</td><td>10</td><td>null</td></tr><tr><td>&quot;09/27/2023&quot;</td><td>&quot;2023-09-01&quot;</td><td>&quot;09/23/2023&quot;</td><td>&quot;By Month&quot;</td><td>&quot;2023&quot;</td><td>&hellip;</td><td>null</td><td>null</td><td>0</td><td>null</td><td>&quot;One or more data cells have co…</td></tr><tr><td>&quot;09/27/2023&quot;</td><td>&quot;2023-09-01&quot;</td><td>&quot;09/23/2023&quot;</td><td>&quot;By Month&quot;</td><td>&quot;2023&quot;</td><td>&hellip;</td><td>36</td><td>null</td><td>0</td><td>38</td><td>&quot;One or more data cells have co…</td></tr><tr><td>&quot;09/27/2023&quot;</td><td>&quot;2023-09-01&quot;</td><td>&quot;09/23/2023&quot;</td><td>&quot;By Month&quot;</td><td>&quot;2023&quot;</td><td>&hellip;</td><td>42</td><td>null</td><td>null</td><td>44</td><td>&quot;One or more data cells have co…</td></tr></tbody></table></div>"
      ]
     },
     "metadata": {},
     "execution_count": 65
    }
   ],
   "source": [
    "#Display the last n rows\n",
    "df_covid.tail(5)"
   ]
  },
  {
   "cell_type": "code",
   "execution_count": null,
   "metadata": {
    "id": "y14UYe9Zc6_s",
    "outputId": "fe0a420e-d51c-4521-bec0-4ec69bbf2812",
    "colab": {
     "base_uri": "https://localhost:8080/"
    }
   },
   "outputs": [
    {
     "output_type": "stream",
     "name": "stdout",
     "text": [
      "Rows: 137700\n",
      "Columns: 16\n",
      "$ Data As Of                               <str> '09/27/2023', '09/27/2023', '09/27/2023'\n",
      "$ Start Date                               <str> '01/01/2020', '01/01/2020', '01/01/2020'\n",
      "$ End Date                                 <str> '09/23/2023', '09/23/2023', '09/23/2023'\n",
      "$ Group                                    <str> 'By Total', 'By Total', 'By Total'\n",
      "$ Year                                     <str> None, None, None\n",
      "$ Month                                    <str> None, None, None\n",
      "$ State                                    <str> 'United States', 'United States', 'United States'\n",
      "$ Sex                                      <str> 'All Sexes', 'All Sexes', 'All Sexes'\n",
      "$ Age Group                                <str> 'All Ages', 'Under 1 year', '0-17 years'\n",
      "$ COVID-19 Deaths                          <i64> 1146774, 519, 1696\n",
      "$ Total Deaths                             <i64> 12303399, 73213, 130970\n",
      "$ Pneumonia Deaths                         <i64> 1162844, 1056, 2961\n",
      "$ Pneumonia and COVID-19 Deaths            <i64> 569264, 95, 424\n",
      "$ Influenza Deaths                         <i64> 22229, 64, 509\n",
      "$ Pneumonia, Influenza, or COVID-19 Deaths <i64> 1760095, 1541, 4716\n",
      "$ Footnote                                 <str> None, None, None\n",
      "\n"
     ]
    }
   ],
   "source": [
    "df_covid.glimpse(max_items_per_column=3)# alternative of head(),tail()"
   ]
  },
  {
   "cell_type": "code",
   "execution_count": null,
   "metadata": {
    "id": "WLGF2M83c6_s",
    "outputId": "1699b2a0-91b0-461d-99e2-965f95a01232",
    "colab": {
     "base_uri": "https://localhost:8080/"
    }
   },
   "outputs": [
    {
     "output_type": "execute_result",
     "data": {
      "text/plain": [
       "26.869400024414062"
      ]
     },
     "metadata": {},
     "execution_count": 60
    }
   ],
   "source": [
    "#To Check the estimated size of the DataFrame( b, kb, mb, and gb.)\n",
    "df_covid.estimated_size('mb')"
   ]
  },
  {
   "cell_type": "markdown",
   "source": [
    "How long the data has been captured ?\n",
    "\n",
    "1. Rename column name Start Date to Start_Date\n",
    "2. Convert the column: Start Date from str to Date\n",
    "3. Convert the Date into format yyyy-mm-dd\n",
    "4. Check the earliest Date and latest Date in the dataset."
   ],
   "metadata": {
    "id": "b8huXs8j64vz"
   }
  },
  {
   "cell_type": "code",
   "source": [
    "# prompt: 1. Rename column name Start Date to Start_Date\n",
    "# 2. Convert the column: Start Date from str to Date\n",
    "# 3. Convert the Date into format yyyy-mm-dd\n",
    "# 4. Check the earliest Date and latest Date in the dataset.\n",
    "\n",
    "import polars as pl\n",
    "\n",
    "# Assuming df_covid is already loaded as in your previous code\n",
    "\n",
    "# 1. Rename column 'Start Date' to 'Start_Date'\n",
    "df_covid = df_covid.rename({'Start Date': 'Start_Date'})\n",
    "\n",
    "# 2 & 3. Convert 'Start_Date' to datetime and format as 'yyyy-mm-dd'\n",
    "df_covid = df_covid.with_columns(\n",
    "    pl.col(\"Start_Date\").str.strptime(pl.Datetime, \"%m/%d/%Y\").dt.strftime(\"%Y-%m-%d\")\n",
    ")\n",
    "\n",
    "# 4. Check earliest and latest dates\n",
    "earliest_date = df_covid['Start_Date'].min()\n",
    "latest_date = df_covid['Start_Date'].max()\n",
    "\n",
    "print(f\"Earliest Date: {earliest_date}\")\n",
    "print(f\"Latest Date: {latest_date}\")\n"
   ],
   "metadata": {
    "colab": {
     "base_uri": "https://localhost:8080/"
    },
    "id": "F84WJCCE8Ejx",
    "outputId": "123c7d06-45cd-4b75-a73d-405985e24e2f"
   },
   "execution_count": null,
   "outputs": [
    {
     "output_type": "stream",
     "name": "stdout",
     "text": [
      "Earliest Date: 2020-01-01\n",
      "Latest Date: 2023-09-01\n"
     ]
    }
   ]
  },
  {
   "cell_type": "code",
   "execution_count": null,
   "metadata": {
    "id": "skQhdjnXc6_t",
    "outputId": "f1b589e6-34ce-4268-9150-c707553f98bf",
    "colab": {
     "base_uri": "https://localhost:8080/",
     "height": 380
    }
   },
   "outputs": [
    {
     "output_type": "execute_result",
     "data": {
      "text/plain": [
       "shape: (9, 7)\n",
       "┌────────────┬──────────────┬──────────────┬─────────────┬─────────────┬─────────────┬─────────────┐\n",
       "│ statistic  ┆ COVID-19     ┆ Total Deaths ┆ Pneumonia   ┆ Pneumonia   ┆ Influenza   ┆ Pneumonia,  │\n",
       "│ ---        ┆ Deaths       ┆ ---          ┆ Deaths      ┆ and         ┆ Deaths      ┆ Influenza,  │\n",
       "│ str        ┆ ---          ┆ f64          ┆ ---         ┆ COVID-19    ┆ ---         ┆ or COVID…   │\n",
       "│            ┆ f64          ┆              ┆ f64         ┆ Deaths      ┆ f64         ┆ ---         │\n",
       "│            ┆              ┆              ┆             ┆ ---         ┆             ┆ f64         │\n",
       "│            ┆              ┆              ┆             ┆ f64         ┆             ┆             │\n",
       "╞════════════╪══════════════╪══════════════╪═════════════╪═════════════╪═════════════╪═════════════╡\n",
       "│ count      ┆ 98270.0      ┆ 118191.0     ┆ 92836.0     ┆ 100816.0    ┆ 111012.0    ┆ 93467.0     │\n",
       "│ null_count ┆ 39430.0      ┆ 19509.0      ┆ 44864.0     ┆ 36884.0     ┆ 26688.0     ┆ 44233.0     │\n",
       "│ mean       ┆ 313.586547   ┆ 2841.952585  ┆ 336.597085  ┆ 152.513411  ┆ 5.002468    ┆ 505.491778  │\n",
       "│ std        ┆ 5992.341375  ┆ 56201.384331 ┆ 6126.573599 ┆ 2980.886938 ┆ 110.606691  ┆ 9256.951591 │\n",
       "│ min        ┆ 0.0          ┆ 0.0          ┆ 0.0         ┆ 0.0         ┆ 0.0         ┆ 0.0         │\n",
       "│ 25%        ┆ 0.0          ┆ 43.0         ┆ 0.0         ┆ 0.0         ┆ 0.0         ┆ 0.0         │\n",
       "│ 50%        ┆ 0.0          ┆ 153.0        ┆ 18.0        ┆ 0.0         ┆ 0.0         ┆ 25.0        │\n",
       "│ 75%        ┆ 50.0         ┆ 657.0        ┆ 74.0        ┆ 21.0        ┆ 0.0         ┆ 107.0       │\n",
       "│ max        ┆ 1.146774e6   ┆ 1.2303399e7  ┆ 1.162844e6  ┆ 569264.0    ┆ 22229.0     ┆ 1.760095e6  │\n",
       "└────────────┴──────────────┴──────────────┴─────────────┴─────────────┴─────────────┴─────────────┘"
      ],
      "text/html": [
       "<div><style>\n",
       ".dataframe > thead > tr,\n",
       ".dataframe > tbody > tr {\n",
       "  text-align: right;\n",
       "  white-space: pre-wrap;\n",
       "}\n",
       "</style>\n",
       "<small>shape: (9, 7)</small><table border=\"1\" class=\"dataframe\"><thead><tr><th>statistic</th><th>COVID-19 Deaths</th><th>Total Deaths</th><th>Pneumonia Deaths</th><th>Pneumonia and COVID-19 Deaths</th><th>Influenza Deaths</th><th>Pneumonia, Influenza, or COVID-19 Deaths</th></tr><tr><td>str</td><td>f64</td><td>f64</td><td>f64</td><td>f64</td><td>f64</td><td>f64</td></tr></thead><tbody><tr><td>&quot;count&quot;</td><td>98270.0</td><td>118191.0</td><td>92836.0</td><td>100816.0</td><td>111012.0</td><td>93467.0</td></tr><tr><td>&quot;null_count&quot;</td><td>39430.0</td><td>19509.0</td><td>44864.0</td><td>36884.0</td><td>26688.0</td><td>44233.0</td></tr><tr><td>&quot;mean&quot;</td><td>313.586547</td><td>2841.952585</td><td>336.597085</td><td>152.513411</td><td>5.002468</td><td>505.491778</td></tr><tr><td>&quot;std&quot;</td><td>5992.341375</td><td>56201.384331</td><td>6126.573599</td><td>2980.886938</td><td>110.606691</td><td>9256.951591</td></tr><tr><td>&quot;min&quot;</td><td>0.0</td><td>0.0</td><td>0.0</td><td>0.0</td><td>0.0</td><td>0.0</td></tr><tr><td>&quot;25%&quot;</td><td>0.0</td><td>43.0</td><td>0.0</td><td>0.0</td><td>0.0</td><td>0.0</td></tr><tr><td>&quot;50%&quot;</td><td>0.0</td><td>153.0</td><td>18.0</td><td>0.0</td><td>0.0</td><td>25.0</td></tr><tr><td>&quot;75%&quot;</td><td>50.0</td><td>657.0</td><td>74.0</td><td>21.0</td><td>0.0</td><td>107.0</td></tr><tr><td>&quot;max&quot;</td><td>1.146774e6</td><td>1.2303399e7</td><td>1.162844e6</td><td>569264.0</td><td>22229.0</td><td>1.760095e6</td></tr></tbody></table></div>"
      ]
     },
     "metadata": {},
     "execution_count": 66
    }
   ],
   "source": [
    "import polars.selectors as cs\n",
    "#To Generate summary statistics of the DataFrame\n",
    "df_covid.select(cs.numeric()).describe()"
   ]
  },
  {
   "cell_type": "code",
   "execution_count": null,
   "metadata": {
    "id": "_SLoVwTfc6_u",
    "outputId": "80f3a05b-1225-4fe5-a97e-fe809b478be5",
    "colab": {
     "base_uri": "https://localhost:8080/",
     "height": 129
    }
   },
   "outputs": [
    {
     "output_type": "execute_result",
     "data": {
      "text/plain": [
       "shape: (1, 16)\n",
       "┌────────┬────────┬────────┬───────┬──────┬───────┬───┬────────┬────────┬────────┬────────┬────────┐\n",
       "│ Data   ┆ Start_ ┆ End    ┆ Group ┆ Year ┆ Month ┆ … ┆ Pneumo ┆ Pneumo ┆ Influe ┆ Pneumo ┆ Footno │\n",
       "│ As Of  ┆ Date   ┆ Date   ┆ ---   ┆ ---  ┆ ---   ┆   ┆ nia    ┆ nia    ┆ nza    ┆ nia,   ┆ te     │\n",
       "│ ---    ┆ ---    ┆ ---    ┆ u32   ┆ u32  ┆ u32   ┆   ┆ Deaths ┆ and    ┆ Deaths ┆ Influe ┆ ---    │\n",
       "│ u32    ┆ u32    ┆ u32    ┆       ┆      ┆       ┆   ┆ ---    ┆ COVID- ┆ ---    ┆ nza,   ┆ u32    │\n",
       "│        ┆        ┆        ┆       ┆      ┆       ┆   ┆ u32    ┆ 19     ┆ u32    ┆ or     ┆        │\n",
       "│        ┆        ┆        ┆       ┆      ┆       ┆   ┆        ┆ Deaths ┆        ┆ COVID… ┆        │\n",
       "│        ┆        ┆        ┆       ┆      ┆       ┆   ┆        ┆ ---    ┆        ┆ ---    ┆        │\n",
       "│        ┆        ┆        ┆       ┆      ┆       ┆   ┆        ┆ u32    ┆        ┆ u32    ┆        │\n",
       "╞════════╪════════╪════════╪═══════╪══════╪═══════╪═══╪════════╪════════╪════════╪════════╪════════╡\n",
       "│ 0      ┆ 0      ┆ 0      ┆ 0     ┆ 2754 ┆ 13770 ┆ … ┆ 44864  ┆ 36884  ┆ 26688  ┆ 44233  ┆ 39804  │\n",
       "└────────┴────────┴────────┴───────┴──────┴───────┴───┴────────┴────────┴────────┴────────┴────────┘"
      ],
      "text/html": [
       "<div><style>\n",
       ".dataframe > thead > tr,\n",
       ".dataframe > tbody > tr {\n",
       "  text-align: right;\n",
       "  white-space: pre-wrap;\n",
       "}\n",
       "</style>\n",
       "<small>shape: (1, 16)</small><table border=\"1\" class=\"dataframe\"><thead><tr><th>Data As Of</th><th>Start_Date</th><th>End Date</th><th>Group</th><th>Year</th><th>&hellip;</th><th>Pneumonia Deaths</th><th>Pneumonia and COVID-19 Deaths</th><th>Influenza Deaths</th><th>Pneumonia, Influenza, or COVID-19 Deaths</th><th>Footnote</th></tr><tr><td>u32</td><td>u32</td><td>u32</td><td>u32</td><td>u32</td><td>&hellip;</td><td>u32</td><td>u32</td><td>u32</td><td>u32</td><td>u32</td></tr></thead><tbody><tr><td>0</td><td>0</td><td>0</td><td>0</td><td>2754</td><td>&hellip;</td><td>44864</td><td>36884</td><td>26688</td><td>44233</td><td>39804</td></tr></tbody></table></div>"
      ]
     },
     "metadata": {},
     "execution_count": 67
    }
   ],
   "source": [
    "#To display the count of null values\n",
    "df_covid.null_count()"
   ]
  },
  {
   "cell_type": "markdown",
   "metadata": {
    "id": "YNV_dXFec6_u"
   },
   "source": [
    "### There is more..."
   ]
  },
  {
   "cell_type": "code",
   "execution_count": null,
   "metadata": {
    "id": "tnuYZ_Qdc6_u",
    "outputId": "a5dd3090-cbba-4bff-c5d6-b004b3b06968",
    "colab": {
     "base_uri": "https://localhost:8080/"
    }
   },
   "outputs": [
    {
     "output_type": "stream",
     "name": "stdout",
     "text": [
      "shape: (5, 16)\n",
      "┌────────┬────────┬────────┬────────┬──────┬───────┬───┬────────┬────────┬────────┬────────┬───────┐\n",
      "│ Data   ┆ Start_ ┆ End    ┆ Group  ┆ Year ┆ Month ┆ … ┆ Pneumo ┆ Pneumo ┆ Influe ┆ Pneumo ┆ Footn │\n",
      "│ As Of  ┆ Date   ┆ Date   ┆ ---    ┆ ---  ┆ ---   ┆   ┆ nia    ┆ nia    ┆ nza    ┆ nia,   ┆ ote   │\n",
      "│ ---    ┆ ---    ┆ ---    ┆ str    ┆ str  ┆ str   ┆   ┆ Deaths ┆ and    ┆ Deaths ┆ Influe ┆ ---   │\n",
      "│ str    ┆ str    ┆ str    ┆        ┆      ┆       ┆   ┆ ---    ┆ COVID- ┆ ---    ┆ nza,   ┆ str   │\n",
      "│        ┆        ┆        ┆        ┆      ┆       ┆   ┆ i64    ┆ 19     ┆ i64    ┆ or     ┆       │\n",
      "│        ┆        ┆        ┆        ┆      ┆       ┆   ┆        ┆ Deaths ┆        ┆ COVID… ┆       │\n",
      "│        ┆        ┆        ┆        ┆      ┆       ┆   ┆        ┆ ---    ┆        ┆ ---    ┆       │\n",
      "│        ┆        ┆        ┆        ┆      ┆       ┆   ┆        ┆ i64    ┆        ┆ i64    ┆       │\n",
      "╞════════╪════════╪════════╪════════╪══════╪═══════╪═══╪════════╪════════╪════════╪════════╪═══════╡\n",
      "│ 09/27/ ┆ 2020-0 ┆ 09/23/ ┆ By     ┆ null ┆ null  ┆ … ┆ 116284 ┆ 569264 ┆ 22229  ┆ 176009 ┆ null  │\n",
      "│ 2023   ┆ 1-01   ┆ 2023   ┆ Total  ┆      ┆       ┆   ┆ 4      ┆        ┆        ┆ 5      ┆       │\n",
      "│ 09/27/ ┆ 2020-0 ┆ 09/23/ ┆ By     ┆ null ┆ null  ┆ … ┆ 1056   ┆ 95     ┆ 64     ┆ 1541   ┆ null  │\n",
      "│ 2023   ┆ 1-01   ┆ 2023   ┆ Total  ┆      ┆       ┆   ┆        ┆        ┆        ┆        ┆       │\n",
      "│ 09/27/ ┆ 2020-0 ┆ 09/23/ ┆ By     ┆ null ┆ null  ┆ … ┆ 2961   ┆ 424    ┆ 509    ┆ 4716   ┆ null  │\n",
      "│ 2023   ┆ 1-01   ┆ 2023   ┆ Total  ┆      ┆       ┆   ┆        ┆        ┆        ┆        ┆       │\n",
      "│ 09/27/ ┆ 2020-0 ┆ 09/23/ ┆ By     ┆ null ┆ null  ┆ … ┆ 692    ┆ 66     ┆ 177    ┆ 1079   ┆ null  │\n",
      "│ 2023   ┆ 1-01   ┆ 2023   ┆ Total  ┆      ┆       ┆   ┆        ┆        ┆        ┆        ┆       │\n",
      "│ 09/27/ ┆ 2020-0 ┆ 09/23/ ┆ By     ┆ null ┆ null  ┆ … ┆ 818    ┆ 143    ┆ 219    ┆ 1390   ┆ null  │\n",
      "│ 2023   ┆ 1-01   ┆ 2023   ┆ Total  ┆      ┆       ┆   ┆        ┆        ┆        ┆        ┆       │\n",
      "└────────┴────────┴────────┴────────┴──────┴───────┴───┴────────┴────────┴────────┴────────┴───────┘\n"
     ]
    }
   ],
   "source": [
    "print(df_covid.head())"
   ]
  },
  {
   "cell_type": "code",
   "execution_count": null,
   "metadata": {
    "id": "tQ3yEFgoc6_v",
    "outputId": "d091dd29-ec49-4e7d-c9f3-24fdc5b688de",
    "colab": {
     "base_uri": "https://localhost:8080/"
    }
   },
   "outputs": [
    {
     "output_type": "stream",
     "name": "stdout",
     "text": [
      "shape: (2, 16)\n",
      "┌────────┬────────┬────────┬────────┬──────┬───────┬───┬────────┬────────┬────────┬────────┬───────┐\n",
      "│ Data   ┆ Start_ ┆ End    ┆ Group  ┆ Year ┆ Month ┆ … ┆ Pneumo ┆ Pneumo ┆ Influe ┆ Pneumo ┆ Footn │\n",
      "│ As Of  ┆ Date   ┆ Date   ┆ ---    ┆ ---  ┆ ---   ┆   ┆ nia    ┆ nia    ┆ nza    ┆ nia,   ┆ ote   │\n",
      "│ ---    ┆ ---    ┆ ---    ┆ str    ┆ str  ┆ str   ┆   ┆ Deaths ┆ and    ┆ Deaths ┆ Influe ┆ ---   │\n",
      "│ str    ┆ str    ┆ str    ┆        ┆      ┆       ┆   ┆ ---    ┆ COVID- ┆ ---    ┆ nza,   ┆ str   │\n",
      "│        ┆        ┆        ┆        ┆      ┆       ┆   ┆ i64    ┆ 19     ┆ i64    ┆ or     ┆       │\n",
      "│        ┆        ┆        ┆        ┆      ┆       ┆   ┆        ┆ Deaths ┆        ┆ COVID… ┆       │\n",
      "│        ┆        ┆        ┆        ┆      ┆       ┆   ┆        ┆ ---    ┆        ┆ ---    ┆       │\n",
      "│        ┆        ┆        ┆        ┆      ┆       ┆   ┆        ┆ i64    ┆        ┆ i64    ┆       │\n",
      "╞════════╪════════╪════════╪════════╪══════╪═══════╪═══╪════════╪════════╪════════╪════════╪═══════╡\n",
      "│ 09/27/ ┆ 2020-0 ┆ 09/23/ ┆ By     ┆ null ┆ null  ┆ … ┆ 116284 ┆ 569264 ┆ 22229  ┆ 176009 ┆ null  │\n",
      "│ 2023   ┆ 1-01   ┆ 2023   ┆ Total  ┆      ┆       ┆   ┆ 4      ┆        ┆        ┆ 5      ┆       │\n",
      "│ 09/27/ ┆ 2020-0 ┆ 09/23/ ┆ By     ┆ null ┆ null  ┆ … ┆ 1056   ┆ 95     ┆ 64     ┆ 1541   ┆ null  │\n",
      "│ 2023   ┆ 1-01   ┆ 2023   ┆ Total  ┆      ┆       ┆   ┆        ┆        ┆        ┆        ┆       │\n",
      "└────────┴────────┴────────┴────────┴──────┴───────┴───┴────────┴────────┴────────┴────────┴───────┘\n"
     ]
    }
   ],
   "source": [
    "with pl.Config() as config:\n",
    "    config.set_tbl_cols(11)\n",
    "    print(df_covid.head(2))"
   ]
  },
  {
   "cell_type": "code",
   "execution_count": null,
   "metadata": {
    "id": "VkNDrst0c6_v",
    "outputId": "8cab7c97-548d-4c82-bd38-dd32541c8e7f",
    "colab": {
     "base_uri": "https://localhost:8080/"
    }
   },
   "outputs": [
    {
     "output_type": "stream",
     "name": "stdout",
     "text": [
      "shape: (2, 16)\n",
      "┌────────┬────────┬────────┬────────┬──────┬───────┬───┬────────┬────────┬────────┬────────┬───────┐\n",
      "│ Data   ┆ Start_ ┆ End    ┆ Group  ┆ Year ┆ Month ┆ … ┆ Pneumo ┆ Pneumo ┆ Influe ┆ Pneumo ┆ Footn │\n",
      "│ As Of  ┆ Date   ┆ Date   ┆ ---    ┆ ---  ┆ ---   ┆   ┆ nia    ┆ nia    ┆ nza    ┆ nia,   ┆ ote   │\n",
      "│ ---    ┆ ---    ┆ ---    ┆ str    ┆ str  ┆ str   ┆   ┆ Deaths ┆ and    ┆ Deaths ┆ Influe ┆ ---   │\n",
      "│ str    ┆ str    ┆ str    ┆        ┆      ┆       ┆   ┆ ---    ┆ COVID- ┆ ---    ┆ nza,   ┆ str   │\n",
      "│        ┆        ┆        ┆        ┆      ┆       ┆   ┆ i64    ┆ 19     ┆ i64    ┆ or     ┆       │\n",
      "│        ┆        ┆        ┆        ┆      ┆       ┆   ┆        ┆ Deaths ┆        ┆ COVID… ┆       │\n",
      "│        ┆        ┆        ┆        ┆      ┆       ┆   ┆        ┆ ---    ┆        ┆ ---    ┆       │\n",
      "│        ┆        ┆        ┆        ┆      ┆       ┆   ┆        ┆ i64    ┆        ┆ i64    ┆       │\n",
      "╞════════╪════════╪════════╪════════╪══════╪═══════╪═══╪════════╪════════╪════════╪════════╪═══════╡\n",
      "│ 09/27/ ┆ 2020-0 ┆ 09/23/ ┆ By     ┆ null ┆ null  ┆ … ┆ 116284 ┆ 569264 ┆ 22229  ┆ 176009 ┆ null  │\n",
      "│ 2023   ┆ 1-01   ┆ 2023   ┆ Total  ┆      ┆       ┆   ┆ 4      ┆        ┆        ┆ 5      ┆       │\n",
      "│ 09/27/ ┆ 2020-0 ┆ 09/23/ ┆ By     ┆ null ┆ null  ┆ … ┆ 1056   ┆ 95     ┆ 64     ┆ 1541   ┆ null  │\n",
      "│ 2023   ┆ 1-01   ┆ 2023   ┆ Total  ┆      ┆       ┆   ┆        ┆        ┆        ┆        ┆       │\n",
      "└────────┴────────┴────────┴────────┴──────┴───────┴───┴────────┴────────┴────────┴────────┴───────┘\n"
     ]
    }
   ],
   "source": [
    "pl.Config.set_tbl_cols(11)\n",
    "print(df_covid.head(2))"
   ]
  },
  {
   "cell_type": "markdown",
   "metadata": {
    "id": "4HBAKXHRc6_v"
   },
   "source": [
    "## Casting data types"
   ]
  },
  {
   "cell_type": "markdown",
   "metadata": {
    "id": "eu08bUzZc6_v"
   },
   "source": [
    "### How to do it..."
   ]
  },
  {
   "cell_type": "code",
   "execution_count": null,
   "metadata": {
    "id": "1uHu6beac6_w"
   },
   "outputs": [],
   "source": [
    "import polars as pl"
   ]
  },
  {
   "cell_type": "code",
   "execution_count": null,
   "metadata": {
    "id": "xJGsHWJEc6_w",
    "outputId": "c232a65c-e18f-4fa4-c328-2248508a257c",
    "colab": {
     "base_uri": "https://localhost:8080/",
     "height": 255
    }
   },
   "outputs": [
    {
     "output_type": "execute_result",
     "data": {
      "text/plain": [
       "shape: (5, 16)\n",
       "┌────────┬────────┬────────┬────────┬──────┬───────┬───┬────────┬────────┬────────┬────────┬───────┐\n",
       "│ Data   ┆ Start  ┆ End    ┆ Group  ┆ Year ┆ Month ┆ … ┆ Pneumo ┆ Pneumo ┆ Influe ┆ Pneumo ┆ Footn │\n",
       "│ As Of  ┆ Date   ┆ Date   ┆ ---    ┆ ---  ┆ ---   ┆   ┆ nia    ┆ nia    ┆ nza    ┆ nia,   ┆ ote   │\n",
       "│ ---    ┆ ---    ┆ ---    ┆ str    ┆ str  ┆ str   ┆   ┆ Deaths ┆ and    ┆ Deaths ┆ Influe ┆ ---   │\n",
       "│ str    ┆ str    ┆ str    ┆        ┆      ┆       ┆   ┆ ---    ┆ COVID- ┆ ---    ┆ nza,   ┆ str   │\n",
       "│        ┆        ┆        ┆        ┆      ┆       ┆   ┆ i64    ┆ 19     ┆ i64    ┆ or     ┆       │\n",
       "│        ┆        ┆        ┆        ┆      ┆       ┆   ┆        ┆ Deaths ┆        ┆ COVID… ┆       │\n",
       "│        ┆        ┆        ┆        ┆      ┆       ┆   ┆        ┆ ---    ┆        ┆ ---    ┆       │\n",
       "│        ┆        ┆        ┆        ┆      ┆       ┆   ┆        ┆ i64    ┆        ┆ i64    ┆       │\n",
       "╞════════╪════════╪════════╪════════╪══════╪═══════╪═══╪════════╪════════╪════════╪════════╪═══════╡\n",
       "│ 09/27/ ┆ 01/01/ ┆ 09/23/ ┆ By     ┆ null ┆ null  ┆ … ┆ 116284 ┆ 569264 ┆ 22229  ┆ 176009 ┆ null  │\n",
       "│ 2023   ┆ 2020   ┆ 2023   ┆ Total  ┆      ┆       ┆   ┆ 4      ┆        ┆        ┆ 5      ┆       │\n",
       "│ 09/27/ ┆ 01/01/ ┆ 09/23/ ┆ By     ┆ null ┆ null  ┆ … ┆ 1056   ┆ 95     ┆ 64     ┆ 1541   ┆ null  │\n",
       "│ 2023   ┆ 2020   ┆ 2023   ┆ Total  ┆      ┆       ┆   ┆        ┆        ┆        ┆        ┆       │\n",
       "│ 09/27/ ┆ 01/01/ ┆ 09/23/ ┆ By     ┆ null ┆ null  ┆ … ┆ 2961   ┆ 424    ┆ 509    ┆ 4716   ┆ null  │\n",
       "│ 2023   ┆ 2020   ┆ 2023   ┆ Total  ┆      ┆       ┆   ┆        ┆        ┆        ┆        ┆       │\n",
       "│ 09/27/ ┆ 01/01/ ┆ 09/23/ ┆ By     ┆ null ┆ null  ┆ … ┆ 692    ┆ 66     ┆ 177    ┆ 1079   ┆ null  │\n",
       "│ 2023   ┆ 2020   ┆ 2023   ┆ Total  ┆      ┆       ┆   ┆        ┆        ┆        ┆        ┆       │\n",
       "│ 09/27/ ┆ 01/01/ ┆ 09/23/ ┆ By     ┆ null ┆ null  ┆ … ┆ 818    ┆ 143    ┆ 219    ┆ 1390   ┆ null  │\n",
       "│ 2023   ┆ 2020   ┆ 2023   ┆ Total  ┆      ┆       ┆   ┆        ┆        ┆        ┆        ┆       │\n",
       "└────────┴────────┴────────┴────────┴──────┴───────┴───┴────────┴────────┴────────┴────────┴───────┘"
      ],
      "text/html": [
       "<div><style>\n",
       ".dataframe > thead > tr,\n",
       ".dataframe > tbody > tr {\n",
       "  text-align: right;\n",
       "  white-space: pre-wrap;\n",
       "}\n",
       "</style>\n",
       "<small>shape: (5, 16)</small><table border=\"1\" class=\"dataframe\"><thead><tr><th>Data As Of</th><th>Start Date</th><th>End Date</th><th>Group</th><th>Year</th><th>&hellip;</th><th>Pneumonia Deaths</th><th>Pneumonia and COVID-19 Deaths</th><th>Influenza Deaths</th><th>Pneumonia, Influenza, or COVID-19 Deaths</th><th>Footnote</th></tr><tr><td>str</td><td>str</td><td>str</td><td>str</td><td>str</td><td>&hellip;</td><td>i64</td><td>i64</td><td>i64</td><td>i64</td><td>str</td></tr></thead><tbody><tr><td>&quot;09/27/2023&quot;</td><td>&quot;01/01/2020&quot;</td><td>&quot;09/23/2023&quot;</td><td>&quot;By Total&quot;</td><td>null</td><td>&hellip;</td><td>1162844</td><td>569264</td><td>22229</td><td>1760095</td><td>null</td></tr><tr><td>&quot;09/27/2023&quot;</td><td>&quot;01/01/2020&quot;</td><td>&quot;09/23/2023&quot;</td><td>&quot;By Total&quot;</td><td>null</td><td>&hellip;</td><td>1056</td><td>95</td><td>64</td><td>1541</td><td>null</td></tr><tr><td>&quot;09/27/2023&quot;</td><td>&quot;01/01/2020&quot;</td><td>&quot;09/23/2023&quot;</td><td>&quot;By Total&quot;</td><td>null</td><td>&hellip;</td><td>2961</td><td>424</td><td>509</td><td>4716</td><td>null</td></tr><tr><td>&quot;09/27/2023&quot;</td><td>&quot;01/01/2020&quot;</td><td>&quot;09/23/2023&quot;</td><td>&quot;By Total&quot;</td><td>null</td><td>&hellip;</td><td>692</td><td>66</td><td>177</td><td>1079</td><td>null</td></tr><tr><td>&quot;09/27/2023&quot;</td><td>&quot;01/01/2020&quot;</td><td>&quot;09/23/2023&quot;</td><td>&quot;By Total&quot;</td><td>null</td><td>&hellip;</td><td>818</td><td>143</td><td>219</td><td>1390</td><td>null</td></tr></tbody></table></div>"
      ]
     },
     "metadata": {},
     "execution_count": 18
    }
   ],
   "source": [
    " = pl.read_csv('/content/Drive/MyDrive/python_polars/covid_19_deaths.csv')\n",
    "df.head()"
   ]
  },
  {
   "cell_type": "markdown",
   "source": [
    "Date and Year columns are read as string. Let’s work on casting those data types to correct ones."
   ],
   "metadata": {
    "id": "_j6rGZ1P7uKr"
   }
  },
  {
   "cell_type": "code",
   "execution_count": null,
   "metadata": {
    "id": "mE-eOkaXc6_w",
    "outputId": "d0d11a94-452d-41d7-9718-a7160dfc233e",
    "colab": {
     "base_uri": "https://localhost:8080/",
     "height": 255
    }
   },
   "outputs": [
    {
     "output_type": "execute_result",
     "data": {
      "text/plain": [
       "shape: (5, 17)\n",
       "┌────────┬────────┬────────┬────────┬──────┬───────┬───┬────────┬────────┬────────┬────────┬───────┐\n",
       "│ Data   ┆ Start  ┆ End    ┆ Group  ┆ Year ┆ Month ┆ … ┆ Pneumo ┆ Influe ┆ Pneumo ┆ Footno ┆ End   │\n",
       "│ As Of  ┆ Date   ┆ Date   ┆ ---    ┆ ---  ┆ ---   ┆   ┆ nia    ┆ nza    ┆ nia,   ┆ te     ┆ Date  │\n",
       "│ ---    ┆ ---    ┆ ---    ┆ str    ┆ i64  ┆ str   ┆   ┆ and    ┆ Deaths ┆ Influe ┆ ---    ┆ 2     │\n",
       "│ date   ┆ date   ┆ date   ┆        ┆      ┆       ┆   ┆ COVID- ┆ ---    ┆ nza,   ┆ str    ┆ ---   │\n",
       "│        ┆        ┆        ┆        ┆      ┆       ┆   ┆ 19     ┆ i64    ┆ or     ┆        ┆ date  │\n",
       "│        ┆        ┆        ┆        ┆      ┆       ┆   ┆ Deaths ┆        ┆ COVID… ┆        ┆       │\n",
       "│        ┆        ┆        ┆        ┆      ┆       ┆   ┆ ---    ┆        ┆ ---    ┆        ┆       │\n",
       "│        ┆        ┆        ┆        ┆      ┆       ┆   ┆ i64    ┆        ┆ i64    ┆        ┆       │\n",
       "╞════════╪════════╪════════╪════════╪══════╪═══════╪═══╪════════╪════════╪════════╪════════╪═══════╡\n",
       "│ 2023-0 ┆ 2020-0 ┆ 2023-0 ┆ By     ┆ null ┆ null  ┆ … ┆ 569264 ┆ 22229  ┆ 176009 ┆ null   ┆ 2023- │\n",
       "│ 9-27   ┆ 1-01   ┆ 9-23   ┆ Total  ┆      ┆       ┆   ┆        ┆        ┆ 5      ┆        ┆ 09-23 │\n",
       "│ 2023-0 ┆ 2020-0 ┆ 2023-0 ┆ By     ┆ null ┆ null  ┆ … ┆ 95     ┆ 64     ┆ 1541   ┆ null   ┆ 2023- │\n",
       "│ 9-27   ┆ 1-01   ┆ 9-23   ┆ Total  ┆      ┆       ┆   ┆        ┆        ┆        ┆        ┆ 09-23 │\n",
       "│ 2023-0 ┆ 2020-0 ┆ 2023-0 ┆ By     ┆ null ┆ null  ┆ … ┆ 424    ┆ 509    ┆ 4716   ┆ null   ┆ 2023- │\n",
       "│ 9-27   ┆ 1-01   ┆ 9-23   ┆ Total  ┆      ┆       ┆   ┆        ┆        ┆        ┆        ┆ 09-23 │\n",
       "│ 2023-0 ┆ 2020-0 ┆ 2023-0 ┆ By     ┆ null ┆ null  ┆ … ┆ 66     ┆ 177    ┆ 1079   ┆ null   ┆ 2023- │\n",
       "│ 9-27   ┆ 1-01   ┆ 9-23   ┆ Total  ┆      ┆       ┆   ┆        ┆        ┆        ┆        ┆ 09-23 │\n",
       "│ 2023-0 ┆ 2020-0 ┆ 2023-0 ┆ By     ┆ null ┆ null  ┆ … ┆ 143    ┆ 219    ┆ 1390   ┆ null   ┆ 2023- │\n",
       "│ 9-27   ┆ 1-01   ┆ 9-23   ┆ Total  ┆      ┆       ┆   ┆        ┆        ┆        ┆        ┆ 09-23 │\n",
       "└────────┴────────┴────────┴────────┴──────┴───────┴───┴────────┴────────┴────────┴────────┴───────┘"
      ],
      "text/html": [
       "<div><style>\n",
       ".dataframe > thead > tr,\n",
       ".dataframe > tbody > tr {\n",
       "  text-align: right;\n",
       "  white-space: pre-wrap;\n",
       "}\n",
       "</style>\n",
       "<small>shape: (5, 17)</small><table border=\"1\" class=\"dataframe\"><thead><tr><th>Data As Of</th><th>Start Date</th><th>End Date</th><th>Group</th><th>Year</th><th>&hellip;</th><th>Pneumonia and COVID-19 Deaths</th><th>Influenza Deaths</th><th>Pneumonia, Influenza, or COVID-19 Deaths</th><th>Footnote</th><th>End Date 2</th></tr><tr><td>date</td><td>date</td><td>date</td><td>str</td><td>i64</td><td>&hellip;</td><td>i64</td><td>i64</td><td>i64</td><td>str</td><td>date</td></tr></thead><tbody><tr><td>2023-09-27</td><td>2020-01-01</td><td>2023-09-23</td><td>&quot;By Total&quot;</td><td>null</td><td>&hellip;</td><td>569264</td><td>22229</td><td>1760095</td><td>null</td><td>2023-09-23</td></tr><tr><td>2023-09-27</td><td>2020-01-01</td><td>2023-09-23</td><td>&quot;By Total&quot;</td><td>null</td><td>&hellip;</td><td>95</td><td>64</td><td>1541</td><td>null</td><td>2023-09-23</td></tr><tr><td>2023-09-27</td><td>2020-01-01</td><td>2023-09-23</td><td>&quot;By Total&quot;</td><td>null</td><td>&hellip;</td><td>424</td><td>509</td><td>4716</td><td>null</td><td>2023-09-23</td></tr><tr><td>2023-09-27</td><td>2020-01-01</td><td>2023-09-23</td><td>&quot;By Total&quot;</td><td>null</td><td>&hellip;</td><td>66</td><td>177</td><td>1079</td><td>null</td><td>2023-09-23</td></tr><tr><td>2023-09-27</td><td>2020-01-01</td><td>2023-09-23</td><td>&quot;By Total&quot;</td><td>null</td><td>&hellip;</td><td>143</td><td>219</td><td>1390</td><td>null</td><td>2023-09-23</td></tr></tbody></table></div>"
      ]
     },
     "metadata": {},
     "execution_count": 19
    }
   ],
   "source": [
    "#Cast data types of certain columns of the DataFrame\n",
    "df.with_columns(\n",
    "        pl.col('Data As Of').str.strptime(pl.Date, '%m/%d/%Y'),\n",
    "        pl.col('Start Date').str.strptime(pl.Date, '%m/%d/%Y'),\n",
    "        pl.col('End Date').str.strptime(pl.Date, '%m/%d/%Y'),\n",
    "        pl.col('End Date').str.to_date('%m/%d/%Y').alias('End Date 2'),\n",
    "        pl.col('Year').cast(pl.Int64)\n",
    ").head()\n",
    "#pl.col('Data As Of'): This selects the column named 'Data As Of' from the DataFrame.\n",
    "# .str: This indicates we're working with string operations on the selected column.\n",
    "# strptime: This is a method used to parse a string into a date format.\n",
    "#pl.Date: Specifies the target data type as Polars Date.\n",
    "#'%m/%d/%Y': This is the format string that tells strptime how the date is represented in the string (month/day/year).\n",
    "#.str.strptime(pl.Date, '%m/%d/%Y'): This part handles the data type conversion.\n",
    "#cast(pl.Int64): This converts the 'Year' column to a 64-bit integer data type."
   ]
  },
  {
   "cell_type": "code",
   "execution_count": null,
   "metadata": {
    "id": "-uhzRpBJc6_w"
   },
   "outputs": [],
   "source": [
    "#If you want to keep the updated DataFrame, then you can simply assign a new variable\n",
    "updated_df = (\n",
    "    df.with_columns(\n",
    "        pl.col('Data As Of').str.strptime(pl.Date, '%m/%d/%Y'),\n",
    "        pl.col('Start Date').str.strptime(pl.Date, '%m/%d/%Y'),\n",
    "        pl.col('End Date').str.strptime(pl.Date, '%m/%d/%Y'),\n",
    "        pl.col('End Date').str.to_date('%m/%d/%Y').alias('End Date 2'),\n",
    "        pl.col('Year').cast(pl.Int64)\n",
    "    )\n",
    ")"
   ]
  },
  {
   "cell_type": "markdown",
   "source": [
    "##how to cast data types using a LazyFrame in Polars. A LazyFrame is a way to build up a query plan without immediately executing it, which can improve performance for large datasets."
   ],
   "metadata": {
    "id": "z9XmC4XNKJuq"
   }
  },
  {
   "cell_type": "code",
   "execution_count": null,
   "metadata": {
    "id": "P_LecBkzc6_x",
    "outputId": "fb089510-3b9c-43cd-c485-20532bbc46c8",
    "colab": {
     "base_uri": "https://localhost:8080/",
     "height": 255
    }
   },
   "outputs": [
    {
     "output_type": "execute_result",
     "data": {
      "text/plain": [
       "shape: (5, 17)\n",
       "┌────────┬────────┬────────┬────────┬──────┬───────┬───┬────────┬────────┬────────┬────────┬───────┐\n",
       "│ Data   ┆ Start  ┆ End    ┆ Group  ┆ Year ┆ Month ┆ … ┆ Pneumo ┆ Influe ┆ Pneumo ┆ Footno ┆ End   │\n",
       "│ As Of  ┆ Date   ┆ Date   ┆ ---    ┆ ---  ┆ ---   ┆   ┆ nia    ┆ nza    ┆ nia,   ┆ te     ┆ Date  │\n",
       "│ ---    ┆ ---    ┆ ---    ┆ str    ┆ i64  ┆ str   ┆   ┆ and    ┆ Deaths ┆ Influe ┆ ---    ┆ 2     │\n",
       "│ date   ┆ date   ┆ date   ┆        ┆      ┆       ┆   ┆ COVID- ┆ ---    ┆ nza,   ┆ str    ┆ ---   │\n",
       "│        ┆        ┆        ┆        ┆      ┆       ┆   ┆ 19     ┆ i64    ┆ or     ┆        ┆ date  │\n",
       "│        ┆        ┆        ┆        ┆      ┆       ┆   ┆ Deaths ┆        ┆ COVID… ┆        ┆       │\n",
       "│        ┆        ┆        ┆        ┆      ┆       ┆   ┆ ---    ┆        ┆ ---    ┆        ┆       │\n",
       "│        ┆        ┆        ┆        ┆      ┆       ┆   ┆ i64    ┆        ┆ i64    ┆        ┆       │\n",
       "╞════════╪════════╪════════╪════════╪══════╪═══════╪═══╪════════╪════════╪════════╪════════╪═══════╡\n",
       "│ 2023-0 ┆ 2020-0 ┆ 2023-0 ┆ By     ┆ null ┆ null  ┆ … ┆ 569264 ┆ 22229  ┆ 176009 ┆ null   ┆ 2023- │\n",
       "│ 9-27   ┆ 1-01   ┆ 9-23   ┆ Total  ┆      ┆       ┆   ┆        ┆        ┆ 5      ┆        ┆ 09-23 │\n",
       "│ 2023-0 ┆ 2020-0 ┆ 2023-0 ┆ By     ┆ null ┆ null  ┆ … ┆ 95     ┆ 64     ┆ 1541   ┆ null   ┆ 2023- │\n",
       "│ 9-27   ┆ 1-01   ┆ 9-23   ┆ Total  ┆      ┆       ┆   ┆        ┆        ┆        ┆        ┆ 09-23 │\n",
       "│ 2023-0 ┆ 2020-0 ┆ 2023-0 ┆ By     ┆ null ┆ null  ┆ … ┆ 424    ┆ 509    ┆ 4716   ┆ null   ┆ 2023- │\n",
       "│ 9-27   ┆ 1-01   ┆ 9-23   ┆ Total  ┆      ┆       ┆   ┆        ┆        ┆        ┆        ┆ 09-23 │\n",
       "│ 2023-0 ┆ 2020-0 ┆ 2023-0 ┆ By     ┆ null ┆ null  ┆ … ┆ 66     ┆ 177    ┆ 1079   ┆ null   ┆ 2023- │\n",
       "│ 9-27   ┆ 1-01   ┆ 9-23   ┆ Total  ┆      ┆       ┆   ┆        ┆        ┆        ┆        ┆ 09-23 │\n",
       "│ 2023-0 ┆ 2020-0 ┆ 2023-0 ┆ By     ┆ null ┆ null  ┆ … ┆ 143    ┆ 219    ┆ 1390   ┆ null   ┆ 2023- │\n",
       "│ 9-27   ┆ 1-01   ┆ 9-23   ┆ Total  ┆      ┆       ┆   ┆        ┆        ┆        ┆        ┆ 09-23 │\n",
       "└────────┴────────┴────────┴────────┴──────┴───────┴───┴────────┴────────┴────────┴────────┴───────┘"
      ],
      "text/html": [
       "<div><style>\n",
       ".dataframe > thead > tr,\n",
       ".dataframe > tbody > tr {\n",
       "  text-align: right;\n",
       "  white-space: pre-wrap;\n",
       "}\n",
       "</style>\n",
       "<small>shape: (5, 17)</small><table border=\"1\" class=\"dataframe\"><thead><tr><th>Data As Of</th><th>Start Date</th><th>End Date</th><th>Group</th><th>Year</th><th>&hellip;</th><th>Pneumonia and COVID-19 Deaths</th><th>Influenza Deaths</th><th>Pneumonia, Influenza, or COVID-19 Deaths</th><th>Footnote</th><th>End Date 2</th></tr><tr><td>date</td><td>date</td><td>date</td><td>str</td><td>i64</td><td>&hellip;</td><td>i64</td><td>i64</td><td>i64</td><td>str</td><td>date</td></tr></thead><tbody><tr><td>2023-09-27</td><td>2020-01-01</td><td>2023-09-23</td><td>&quot;By Total&quot;</td><td>null</td><td>&hellip;</td><td>569264</td><td>22229</td><td>1760095</td><td>null</td><td>2023-09-23</td></tr><tr><td>2023-09-27</td><td>2020-01-01</td><td>2023-09-23</td><td>&quot;By Total&quot;</td><td>null</td><td>&hellip;</td><td>95</td><td>64</td><td>1541</td><td>null</td><td>2023-09-23</td></tr><tr><td>2023-09-27</td><td>2020-01-01</td><td>2023-09-23</td><td>&quot;By Total&quot;</td><td>null</td><td>&hellip;</td><td>424</td><td>509</td><td>4716</td><td>null</td><td>2023-09-23</td></tr><tr><td>2023-09-27</td><td>2020-01-01</td><td>2023-09-23</td><td>&quot;By Total&quot;</td><td>null</td><td>&hellip;</td><td>66</td><td>177</td><td>1079</td><td>null</td><td>2023-09-23</td></tr><tr><td>2023-09-27</td><td>2020-01-01</td><td>2023-09-23</td><td>&quot;By Total&quot;</td><td>null</td><td>&hellip;</td><td>143</td><td>219</td><td>1390</td><td>null</td><td>2023-09-23</td></tr></tbody></table></div>"
      ]
     },
     "metadata": {},
     "execution_count": 21
    }
   ],
   "source": [
    "#Cast date types with a LazyFrame\n",
    "lf = pl.scan_csv('/content/Drive/MyDrive/python_polars/covid_19_deaths.csv')\n",
    "#This creates a lazy representation of the data, meaning it doesn't load the entire dataset into memory immediately.\n",
    "lf.with_columns(\n",
    "        pl.col('Data As Of').str.strptime(pl.Date, '%m/%d/%Y'),\n",
    "        pl.col('Start Date').str.strptime(pl.Date, '%m/%d/%Y'),\n",
    "        pl.col('End Date').str.strptime(pl.Date, '%m/%d/%Y'),\n",
    "        pl.col('End Date').str.to_date('%m/%d/%Y').alias('End Date 2'),\n",
    "        pl.col('Year').cast(pl.Int64)\n",
    ").collect().head()\n",
    "#collect() is called to trigger the actual execution of the query plan.\n",
    "#This loads the data into memory and applies all the specified transformations."
   ]
  },
  {
   "cell_type": "markdown",
   "metadata": {
    "id": "eA37Rpo0c6_x"
   },
   "source": [
    "## Finding and removing duplicates values"
   ]
  },
  {
   "cell_type": "markdown",
   "metadata": {
    "id": "ZTHYwWoec6_x"
   },
   "source": [
    "### How to do it"
   ]
  },
  {
   "cell_type": "code",
   "execution_count": null,
   "metadata": {
    "id": "BvWVAcZXc6_x"
   },
   "outputs": [],
   "source": [
    "import polars as pl"
   ]
  },
  {
   "cell_type": "code",
   "execution_count": null,
   "metadata": {
    "id": "v0yudPKnc6_x",
    "outputId": "ae5aba7b-e414-41f2-f37e-609bc0880a08",
    "colab": {
     "base_uri": "https://localhost:8080/",
     "height": 255
    }
   },
   "outputs": [
    {
     "output_type": "execute_result",
     "data": {
      "text/plain": [
       "shape: (5, 16)\n",
       "┌────────┬────────┬────────┬────────┬──────┬───────┬───┬────────┬────────┬────────┬────────┬───────┐\n",
       "│ Data   ┆ Start  ┆ End    ┆ Group  ┆ Year ┆ Month ┆ … ┆ Pneumo ┆ Pneumo ┆ Influe ┆ Pneumo ┆ Footn │\n",
       "│ As Of  ┆ Date   ┆ Date   ┆ ---    ┆ ---  ┆ ---   ┆   ┆ nia    ┆ nia    ┆ nza    ┆ nia,   ┆ ote   │\n",
       "│ ---    ┆ ---    ┆ ---    ┆ str    ┆ str  ┆ str   ┆   ┆ Deaths ┆ and    ┆ Deaths ┆ Influe ┆ ---   │\n",
       "│ str    ┆ str    ┆ str    ┆        ┆      ┆       ┆   ┆ ---    ┆ COVID- ┆ ---    ┆ nza,   ┆ str   │\n",
       "│        ┆        ┆        ┆        ┆      ┆       ┆   ┆ i64    ┆ 19     ┆ i64    ┆ or     ┆       │\n",
       "│        ┆        ┆        ┆        ┆      ┆       ┆   ┆        ┆ Deaths ┆        ┆ COVID… ┆       │\n",
       "│        ┆        ┆        ┆        ┆      ┆       ┆   ┆        ┆ ---    ┆        ┆ ---    ┆       │\n",
       "│        ┆        ┆        ┆        ┆      ┆       ┆   ┆        ┆ i64    ┆        ┆ i64    ┆       │\n",
       "╞════════╪════════╪════════╪════════╪══════╪═══════╪═══╪════════╪════════╪════════╪════════╪═══════╡\n",
       "│ 09/27/ ┆ 01/01/ ┆ 09/23/ ┆ By     ┆ null ┆ null  ┆ … ┆ 116284 ┆ 569264 ┆ 22229  ┆ 176009 ┆ null  │\n",
       "│ 2023   ┆ 2020   ┆ 2023   ┆ Total  ┆      ┆       ┆   ┆ 4      ┆        ┆        ┆ 5      ┆       │\n",
       "│ 09/27/ ┆ 01/01/ ┆ 09/23/ ┆ By     ┆ null ┆ null  ┆ … ┆ 1056   ┆ 95     ┆ 64     ┆ 1541   ┆ null  │\n",
       "│ 2023   ┆ 2020   ┆ 2023   ┆ Total  ┆      ┆       ┆   ┆        ┆        ┆        ┆        ┆       │\n",
       "│ 09/27/ ┆ 01/01/ ┆ 09/23/ ┆ By     ┆ null ┆ null  ┆ … ┆ 2961   ┆ 424    ┆ 509    ┆ 4716   ┆ null  │\n",
       "│ 2023   ┆ 2020   ┆ 2023   ┆ Total  ┆      ┆       ┆   ┆        ┆        ┆        ┆        ┆       │\n",
       "│ 09/27/ ┆ 01/01/ ┆ 09/23/ ┆ By     ┆ null ┆ null  ┆ … ┆ 692    ┆ 66     ┆ 177    ┆ 1079   ┆ null  │\n",
       "│ 2023   ┆ 2020   ┆ 2023   ┆ Total  ┆      ┆       ┆   ┆        ┆        ┆        ┆        ┆       │\n",
       "│ 09/27/ ┆ 01/01/ ┆ 09/23/ ┆ By     ┆ null ┆ null  ┆ … ┆ 818    ┆ 143    ┆ 219    ┆ 1390   ┆ null  │\n",
       "│ 2023   ┆ 2020   ┆ 2023   ┆ Total  ┆      ┆       ┆   ┆        ┆        ┆        ┆        ┆       │\n",
       "└────────┴────────┴────────┴────────┴──────┴───────┴───┴────────┴────────┴────────┴────────┴───────┘"
      ],
      "text/html": [
       "<div><style>\n",
       ".dataframe > thead > tr,\n",
       ".dataframe > tbody > tr {\n",
       "  text-align: right;\n",
       "  white-space: pre-wrap;\n",
       "}\n",
       "</style>\n",
       "<small>shape: (5, 16)</small><table border=\"1\" class=\"dataframe\"><thead><tr><th>Data As Of</th><th>Start Date</th><th>End Date</th><th>Group</th><th>Year</th><th>&hellip;</th><th>Pneumonia Deaths</th><th>Pneumonia and COVID-19 Deaths</th><th>Influenza Deaths</th><th>Pneumonia, Influenza, or COVID-19 Deaths</th><th>Footnote</th></tr><tr><td>str</td><td>str</td><td>str</td><td>str</td><td>str</td><td>&hellip;</td><td>i64</td><td>i64</td><td>i64</td><td>i64</td><td>str</td></tr></thead><tbody><tr><td>&quot;09/27/2023&quot;</td><td>&quot;01/01/2020&quot;</td><td>&quot;09/23/2023&quot;</td><td>&quot;By Total&quot;</td><td>null</td><td>&hellip;</td><td>1162844</td><td>569264</td><td>22229</td><td>1760095</td><td>null</td></tr><tr><td>&quot;09/27/2023&quot;</td><td>&quot;01/01/2020&quot;</td><td>&quot;09/23/2023&quot;</td><td>&quot;By Total&quot;</td><td>null</td><td>&hellip;</td><td>1056</td><td>95</td><td>64</td><td>1541</td><td>null</td></tr><tr><td>&quot;09/27/2023&quot;</td><td>&quot;01/01/2020&quot;</td><td>&quot;09/23/2023&quot;</td><td>&quot;By Total&quot;</td><td>null</td><td>&hellip;</td><td>2961</td><td>424</td><td>509</td><td>4716</td><td>null</td></tr><tr><td>&quot;09/27/2023&quot;</td><td>&quot;01/01/2020&quot;</td><td>&quot;09/23/2023&quot;</td><td>&quot;By Total&quot;</td><td>null</td><td>&hellip;</td><td>692</td><td>66</td><td>177</td><td>1079</td><td>null</td></tr><tr><td>&quot;09/27/2023&quot;</td><td>&quot;01/01/2020&quot;</td><td>&quot;09/23/2023&quot;</td><td>&quot;By Total&quot;</td><td>null</td><td>&hellip;</td><td>818</td><td>143</td><td>219</td><td>1390</td><td>null</td></tr></tbody></table></div>"
      ]
     },
     "metadata": {},
     "execution_count": 23
    }
   ],
   "source": [
    "df = pl.read_csv('/content/Drive/MyDrive/python_polars/covid_19_deaths.csv')\n",
    "df.head()"
   ]
  },
  {
   "cell_type": "code",
   "execution_count": null,
   "metadata": {
    "id": "1oXXWrmRc6_y",
    "outputId": "180a4704-4069-4ec8-a7ac-792de737e19d",
    "colab": {
     "base_uri": "https://localhost:8080/"
    }
   },
   "outputs": [
    {
     "output_type": "execute_result",
     "data": {
      "text/plain": [
       "(137700, 16)"
      ]
     },
     "metadata": {},
     "execution_count": 24
    }
   ],
   "source": [
    "df.shape"
   ]
  },
  {
   "cell_type": "code",
   "execution_count": null,
   "metadata": {
    "id": "YEkqP4tLc6_y",
    "outputId": "9350345d-9380-4c35-e0fc-2a3d7c2cc2ea",
    "colab": {
     "base_uri": "https://localhost:8080/"
    }
   },
   "outputs": [
    {
     "output_type": "execute_result",
     "data": {
      "text/plain": [
       "0"
      ]
     },
     "metadata": {},
     "execution_count": 25
    }
   ],
   "source": [
    "df.is_duplicated().sum()"
   ]
  },
  {
   "cell_type": "code",
   "execution_count": null,
   "metadata": {
    "id": "_fN42Flhc6_y",
    "outputId": "58c8983f-d872-4b66-f14f-ac548694dd8a",
    "colab": {
     "base_uri": "https://localhost:8080/"
    }
   },
   "outputs": [
    {
     "output_type": "execute_result",
     "data": {
      "text/plain": [
       "137700"
      ]
     },
     "metadata": {},
     "execution_count": 26
    }
   ],
   "source": [
    "df.is_unique().sum()"
   ]
  },
  {
   "cell_type": "code",
   "execution_count": null,
   "metadata": {
    "id": "al7jYAQdc6_y",
    "outputId": "aceb6afe-5409-46f5-d4e9-9c0f74c05ed4",
    "colab": {
     "base_uri": "https://localhost:8080/"
    }
   },
   "outputs": [
    {
     "output_type": "execute_result",
     "data": {
      "text/plain": [
       "137700"
      ]
     },
     "metadata": {},
     "execution_count": 27
    }
   ],
   "source": [
    "df.n_unique()"
   ]
  },
  {
   "cell_type": "code",
   "execution_count": null,
   "metadata": {
    "id": "J4B19bGXc6_y",
    "outputId": "2a8ccf5a-1aaa-4e85-8fcd-d902386ed766",
    "colab": {
     "base_uri": "https://localhost:8080/",
     "height": 129
    }
   },
   "outputs": [
    {
     "output_type": "execute_result",
     "data": {
      "text/plain": [
       "shape: (1, 16)\n",
       "┌────────┬────────┬────────┬───────┬──────┬───────┬───┬────────┬────────┬────────┬────────┬────────┐\n",
       "│ Data   ┆ Start  ┆ End    ┆ Group ┆ Year ┆ Month ┆ … ┆ Pneumo ┆ Pneumo ┆ Influe ┆ Pneumo ┆ Footno │\n",
       "│ As Of  ┆ Date   ┆ Date   ┆ ---   ┆ ---  ┆ ---   ┆   ┆ nia    ┆ nia    ┆ nza    ┆ nia,   ┆ te     │\n",
       "│ ---    ┆ ---    ┆ ---    ┆ u32   ┆ u32  ┆ u32   ┆   ┆ Deaths ┆ and    ┆ Deaths ┆ Influe ┆ ---    │\n",
       "│ u32    ┆ u32    ┆ u32    ┆       ┆      ┆       ┆   ┆ ---    ┆ COVID- ┆ ---    ┆ nza,   ┆ u32    │\n",
       "│        ┆        ┆        ┆       ┆      ┆       ┆   ┆ u32    ┆ 19     ┆ u32    ┆ or     ┆        │\n",
       "│        ┆        ┆        ┆       ┆      ┆       ┆   ┆        ┆ Deaths ┆        ┆ COVID… ┆        │\n",
       "│        ┆        ┆        ┆       ┆      ┆       ┆   ┆        ┆ ---    ┆        ┆ ---    ┆        │\n",
       "│        ┆        ┆        ┆       ┆      ┆       ┆   ┆        ┆ u32    ┆        ┆ u32    ┆        │\n",
       "╞════════╪════════╪════════╪═══════╪══════╪═══════╪═══╪════════╪════════╪════════╪════════╪════════╡\n",
       "│ 1      ┆ 45     ┆ 45     ┆ 3     ┆ 5    ┆ 13    ┆ … ┆ 3556   ┆ 2533   ┆ 493    ┆ 4264   ┆ 2      │\n",
       "└────────┴────────┴────────┴───────┴──────┴───────┴───┴────────┴────────┴────────┴────────┴────────┘"
      ],
      "text/html": [
       "<div><style>\n",
       ".dataframe > thead > tr,\n",
       ".dataframe > tbody > tr {\n",
       "  text-align: right;\n",
       "  white-space: pre-wrap;\n",
       "}\n",
       "</style>\n",
       "<small>shape: (1, 16)</small><table border=\"1\" class=\"dataframe\"><thead><tr><th>Data As Of</th><th>Start Date</th><th>End Date</th><th>Group</th><th>Year</th><th>&hellip;</th><th>Pneumonia Deaths</th><th>Pneumonia and COVID-19 Deaths</th><th>Influenza Deaths</th><th>Pneumonia, Influenza, or COVID-19 Deaths</th><th>Footnote</th></tr><tr><td>u32</td><td>u32</td><td>u32</td><td>u32</td><td>u32</td><td>&hellip;</td><td>u32</td><td>u32</td><td>u32</td><td>u32</td><td>u32</td></tr></thead><tbody><tr><td>1</td><td>45</td><td>45</td><td>3</td><td>5</td><td>&hellip;</td><td>3556</td><td>2533</td><td>493</td><td>4264</td><td>2</td></tr></tbody></table></div>"
      ]
     },
     "metadata": {},
     "execution_count": 28
    }
   ],
   "source": [
    "df.select(pl.all().n_unique())\n",
    "#pl.all():\"select all columns.\" It's like a wildcard."
   ]
  },
  {
   "cell_type": "code",
   "execution_count": null,
   "metadata": {
    "id": "3-yHGCkrc6_z",
    "outputId": "47305a8d-8c14-4673-9aac-5c950cdc4e24",
    "colab": {
     "base_uri": "https://localhost:8080/"
    }
   },
   "outputs": [
    {
     "output_type": "execute_result",
     "data": {
      "text/plain": [
       "50"
      ]
     },
     "metadata": {},
     "execution_count": 29
    }
   ],
   "source": [
    "df.n_unique(subset=['Start Date', 'End Date'])"
   ]
  },
  {
   "cell_type": "code",
   "execution_count": null,
   "metadata": {
    "id": "9dewxgxmc6_z",
    "outputId": "133494c4-2bb6-47c0-dbee-38e5e266a986",
    "colab": {
     "base_uri": "https://localhost:8080/",
     "height": 255
    }
   },
   "outputs": [
    {
     "output_type": "execute_result",
     "data": {
      "text/plain": [
       "shape: (5, 16)\n",
       "┌────────┬────────┬────────┬────────┬──────┬───────┬───┬────────┬────────┬────────┬────────┬───────┐\n",
       "│ Data   ┆ Start  ┆ End    ┆ Group  ┆ Year ┆ Month ┆ … ┆ Pneumo ┆ Pneumo ┆ Influe ┆ Pneumo ┆ Footn │\n",
       "│ As Of  ┆ Date   ┆ Date   ┆ ---    ┆ ---  ┆ ---   ┆   ┆ nia    ┆ nia    ┆ nza    ┆ nia,   ┆ ote   │\n",
       "│ ---    ┆ ---    ┆ ---    ┆ str    ┆ str  ┆ str   ┆   ┆ Deaths ┆ and    ┆ Deaths ┆ Influe ┆ ---   │\n",
       "│ str    ┆ str    ┆ str    ┆        ┆      ┆       ┆   ┆ ---    ┆ COVID- ┆ ---    ┆ nza,   ┆ str   │\n",
       "│        ┆        ┆        ┆        ┆      ┆       ┆   ┆ i64    ┆ 19     ┆ i64    ┆ or     ┆       │\n",
       "│        ┆        ┆        ┆        ┆      ┆       ┆   ┆        ┆ Deaths ┆        ┆ COVID… ┆       │\n",
       "│        ┆        ┆        ┆        ┆      ┆       ┆   ┆        ┆ ---    ┆        ┆ ---    ┆       │\n",
       "│        ┆        ┆        ┆        ┆      ┆       ┆   ┆        ┆ i64    ┆        ┆ i64    ┆       │\n",
       "╞════════╪════════╪════════╪════════╪══════╪═══════╪═══╪════════╪════════╪════════╪════════╪═══════╡\n",
       "│ 09/27/ ┆ 01/01/ ┆ 01/31/ ┆ By     ┆ 2022 ┆ 1     ┆ … ┆ 59484  ┆ 43699  ┆ 627    ┆ 100272 ┆ null  │\n",
       "│ 2023   ┆ 2022   ┆ 2022   ┆ Month  ┆      ┆       ┆   ┆        ┆        ┆        ┆        ┆       │\n",
       "│ 09/27/ ┆ 02/01/ ┆ 02/28/ ┆ By     ┆ 2021 ┆ 2     ┆ … ┆ 38081  ┆ 26128  ┆ 90     ┆ 60580  ┆ null  │\n",
       "│ 2023   ┆ 2021   ┆ 2021   ┆ Month  ┆      ┆       ┆   ┆        ┆        ┆        ┆        ┆       │\n",
       "│ 09/27/ ┆ 10/01/ ┆ 10/31/ ┆ By     ┆ 2020 ┆ 10    ┆ … ┆ 24327  ┆ 11734  ┆ 69     ┆ 37570  ┆ null  │\n",
       "│ 2023   ┆ 2020   ┆ 2020   ┆ Month  ┆      ┆       ┆   ┆        ┆        ┆        ┆        ┆       │\n",
       "│ 09/27/ ┆ 09/01/ ┆ 09/23/ ┆ By     ┆ 2023 ┆ 9     ┆ … ┆ 6862   ┆ 1180   ┆ 65     ┆ 8616   ┆ null  │\n",
       "│ 2023   ┆ 2023   ┆ 2023   ┆ Month  ┆      ┆       ┆   ┆        ┆        ┆        ┆        ┆       │\n",
       "│ 09/27/ ┆ 10/01/ ┆ 10/31/ ┆ By     ┆ 2022 ┆ 10    ┆ … ┆ 16192  ┆ 3232   ┆ 279    ┆ 22934  ┆ null  │\n",
       "│ 2023   ┆ 2022   ┆ 2022   ┆ Month  ┆      ┆       ┆   ┆        ┆        ┆        ┆        ┆       │\n",
       "└────────┴────────┴────────┴────────┴──────┴───────┴───┴────────┴────────┴────────┴────────┴───────┘"
      ],
      "text/html": [
       "<div><style>\n",
       ".dataframe > thead > tr,\n",
       ".dataframe > tbody > tr {\n",
       "  text-align: right;\n",
       "  white-space: pre-wrap;\n",
       "}\n",
       "</style>\n",
       "<small>shape: (5, 16)</small><table border=\"1\" class=\"dataframe\"><thead><tr><th>Data As Of</th><th>Start Date</th><th>End Date</th><th>Group</th><th>Year</th><th>&hellip;</th><th>Pneumonia Deaths</th><th>Pneumonia and COVID-19 Deaths</th><th>Influenza Deaths</th><th>Pneumonia, Influenza, or COVID-19 Deaths</th><th>Footnote</th></tr><tr><td>str</td><td>str</td><td>str</td><td>str</td><td>str</td><td>&hellip;</td><td>i64</td><td>i64</td><td>i64</td><td>i64</td><td>str</td></tr></thead><tbody><tr><td>&quot;09/27/2023&quot;</td><td>&quot;01/01/2022&quot;</td><td>&quot;01/31/2022&quot;</td><td>&quot;By Month&quot;</td><td>&quot;2022&quot;</td><td>&hellip;</td><td>59484</td><td>43699</td><td>627</td><td>100272</td><td>null</td></tr><tr><td>&quot;09/27/2023&quot;</td><td>&quot;02/01/2021&quot;</td><td>&quot;02/28/2021&quot;</td><td>&quot;By Month&quot;</td><td>&quot;2021&quot;</td><td>&hellip;</td><td>38081</td><td>26128</td><td>90</td><td>60580</td><td>null</td></tr><tr><td>&quot;09/27/2023&quot;</td><td>&quot;10/01/2020&quot;</td><td>&quot;10/31/2020&quot;</td><td>&quot;By Month&quot;</td><td>&quot;2020&quot;</td><td>&hellip;</td><td>24327</td><td>11734</td><td>69</td><td>37570</td><td>null</td></tr><tr><td>&quot;09/27/2023&quot;</td><td>&quot;09/01/2023&quot;</td><td>&quot;09/23/2023&quot;</td><td>&quot;By Month&quot;</td><td>&quot;2023&quot;</td><td>&hellip;</td><td>6862</td><td>1180</td><td>65</td><td>8616</td><td>null</td></tr><tr><td>&quot;09/27/2023&quot;</td><td>&quot;10/01/2022&quot;</td><td>&quot;10/31/2022&quot;</td><td>&quot;By Month&quot;</td><td>&quot;2022&quot;</td><td>&hellip;</td><td>16192</td><td>3232</td><td>279</td><td>22934</td><td>null</td></tr></tbody></table></div>"
      ]
     },
     "metadata": {},
     "execution_count": 30
    }
   ],
   "source": [
    "(\n",
    "    df.unique(subset=['Start Date', 'End Date'], keep='first')\n",
    "    .head()\n",
    ")"
   ]
  },
  {
   "metadata": {},
   "cell_type": "markdown",
   "source": [
    "Let me explain this code using a markdown cell:\n",
    "\n"
   ]
  },
  {
   "metadata": {},
   "cell_type": "code",
   "outputs": [],
   "execution_count": null,
   "source": [
    "df.filter(rows_to_keep).shape\n",
    "#filter function to keep only the rows in the df DataFrame where\n",
    "#the corresponding value in the rows_to_keep Series is True (i.e., the unique rows)."
   ]
  },
  {
   "cell_type": "code",
   "execution_count": null,
   "metadata": {
    "id": "9jqLhSVfc6_z",
    "outputId": "2fbf5e83-4bfc-47be-e0ea-41c4e44c8ab8",
    "colab": {
     "base_uri": "https://localhost:8080/",
     "height": 255
    }
   },
   "outputs": [
    {
     "output_type": "execute_result",
     "data": {
      "text/plain": [
       "shape: (5, 16)\n",
       "┌────────┬────────┬────────┬────────┬──────┬───────┬───┬────────┬────────┬────────┬────────┬───────┐\n",
       "│ Data   ┆ Start  ┆ End    ┆ Group  ┆ Year ┆ Month ┆ … ┆ Pneumo ┆ Pneumo ┆ Influe ┆ Pneumo ┆ Footn │\n",
       "│ As Of  ┆ Date   ┆ Date   ┆ ---    ┆ ---  ┆ ---   ┆   ┆ nia    ┆ nia    ┆ nza    ┆ nia,   ┆ ote   │\n",
       "│ ---    ┆ ---    ┆ ---    ┆ str    ┆ str  ┆ str   ┆   ┆ Deaths ┆ and    ┆ Deaths ┆ Influe ┆ ---   │\n",
       "│ str    ┆ str    ┆ str    ┆        ┆      ┆       ┆   ┆ ---    ┆ COVID- ┆ ---    ┆ nza,   ┆ str   │\n",
       "│        ┆        ┆        ┆        ┆      ┆       ┆   ┆ i64    ┆ 19     ┆ i64    ┆ or     ┆       │\n",
       "│        ┆        ┆        ┆        ┆      ┆       ┆   ┆        ┆ Deaths ┆        ┆ COVID… ┆       │\n",
       "│        ┆        ┆        ┆        ┆      ┆       ┆   ┆        ┆ ---    ┆        ┆ ---    ┆       │\n",
       "│        ┆        ┆        ┆        ┆      ┆       ┆   ┆        ┆ i64    ┆        ┆ i64    ┆       │\n",
       "╞════════╪════════╪════════╪════════╪══════╪═══════╪═══╪════════╪════════╪════════╪════════╪═══════╡\n",
       "│ 09/27/ ┆ 01/01/ ┆ 09/23/ ┆ By     ┆ null ┆ null  ┆ … ┆ 116284 ┆ 569264 ┆ 22229  ┆ 176009 ┆ null  │\n",
       "│ 2023   ┆ 2020   ┆ 2023   ┆ Total  ┆      ┆       ┆   ┆ 4      ┆        ┆        ┆ 5      ┆       │\n",
       "│ 09/27/ ┆ 01/01/ ┆ 09/23/ ┆ By     ┆ null ┆ null  ┆ … ┆ 1056   ┆ 95     ┆ 64     ┆ 1541   ┆ null  │\n",
       "│ 2023   ┆ 2020   ┆ 2023   ┆ Total  ┆      ┆       ┆   ┆        ┆        ┆        ┆        ┆       │\n",
       "│ 09/27/ ┆ 01/01/ ┆ 09/23/ ┆ By     ┆ null ┆ null  ┆ … ┆ 2961   ┆ 424    ┆ 509    ┆ 4716   ┆ null  │\n",
       "│ 2023   ┆ 2020   ┆ 2023   ┆ Total  ┆      ┆       ┆   ┆        ┆        ┆        ┆        ┆       │\n",
       "│ 09/27/ ┆ 01/01/ ┆ 09/23/ ┆ By     ┆ null ┆ null  ┆ … ┆ 692    ┆ 66     ┆ 177    ┆ 1079   ┆ null  │\n",
       "│ 2023   ┆ 2020   ┆ 2023   ┆ Total  ┆      ┆       ┆   ┆        ┆        ┆        ┆        ┆       │\n",
       "│ 09/27/ ┆ 01/01/ ┆ 09/23/ ┆ By     ┆ null ┆ null  ┆ … ┆ 818    ┆ 143    ┆ 219    ┆ 1390   ┆ null  │\n",
       "│ 2023   ┆ 2020   ┆ 2023   ┆ Total  ┆      ┆       ┆   ┆        ┆        ┆        ┆        ┆       │\n",
       "└────────┴────────┴────────┴────────┴──────┴───────┴───┴────────┴────────┴────────┴────────┴───────┘"
      ],
      "text/html": [
       "<div><style>\n",
       ".dataframe > thead > tr,\n",
       ".dataframe > tbody > tr {\n",
       "  text-align: right;\n",
       "  white-space: pre-wrap;\n",
       "}\n",
       "</style>\n",
       "<small>shape: (5, 16)</small><table border=\"1\" class=\"dataframe\"><thead><tr><th>Data As Of</th><th>Start Date</th><th>End Date</th><th>Group</th><th>Year</th><th>&hellip;</th><th>Pneumonia Deaths</th><th>Pneumonia and COVID-19 Deaths</th><th>Influenza Deaths</th><th>Pneumonia, Influenza, or COVID-19 Deaths</th><th>Footnote</th></tr><tr><td>str</td><td>str</td><td>str</td><td>str</td><td>str</td><td>&hellip;</td><td>i64</td><td>i64</td><td>i64</td><td>i64</td><td>str</td></tr></thead><tbody><tr><td>&quot;09/27/2023&quot;</td><td>&quot;01/01/2020&quot;</td><td>&quot;09/23/2023&quot;</td><td>&quot;By Total&quot;</td><td>null</td><td>&hellip;</td><td>1162844</td><td>569264</td><td>22229</td><td>1760095</td><td>null</td></tr><tr><td>&quot;09/27/2023&quot;</td><td>&quot;01/01/2020&quot;</td><td>&quot;09/23/2023&quot;</td><td>&quot;By Total&quot;</td><td>null</td><td>&hellip;</td><td>1056</td><td>95</td><td>64</td><td>1541</td><td>null</td></tr><tr><td>&quot;09/27/2023&quot;</td><td>&quot;01/01/2020&quot;</td><td>&quot;09/23/2023&quot;</td><td>&quot;By Total&quot;</td><td>null</td><td>&hellip;</td><td>2961</td><td>424</td><td>509</td><td>4716</td><td>null</td></tr><tr><td>&quot;09/27/2023&quot;</td><td>&quot;01/01/2020&quot;</td><td>&quot;09/23/2023&quot;</td><td>&quot;By Total&quot;</td><td>null</td><td>&hellip;</td><td>692</td><td>66</td><td>177</td><td>1079</td><td>null</td></tr><tr><td>&quot;09/27/2023&quot;</td><td>&quot;01/01/2020&quot;</td><td>&quot;09/23/2023&quot;</td><td>&quot;By Total&quot;</td><td>null</td><td>&hellip;</td><td>818</td><td>143</td><td>219</td><td>1390</td><td>null</td></tr></tbody></table></div>"
      ]
     },
     "metadata": {},
     "execution_count": 33
    }
   ],
   "source": [
    "df.filter(rows_to_keep).head()"
   ]
  },
  {
   "cell_type": "markdown",
   "metadata": {
    "id": "QnC05SK9c6_0"
   },
   "source": [
    "### There is more..."
   ]
  },
  {
   "cell_type": "markdown",
   "source": [
    ".approx_n_unique(): This is a function applied to each selected column (in this case, all columns because of pl.all()). It calculates the approximate number of unique values in each column. It's called \"approximate\" because it uses an algorithm that's faster for large datasets but might not be perfectly accurate."
   ],
   "metadata": {
    "id": "zbWUe13u9pct"
   }
  },
  {
   "metadata": {},
   "cell_type": "code",
   "outputs": [],
   "execution_count": null,
   "source": "df.select(pl.all().approx_n_unique())\n"
  },
  {
   "metadata": {},
   "cell_type": "markdown",
   "source": "## Masking sensitive data"
  },
  {
   "cell_type": "markdown",
   "metadata": {
    "id": "Qkio90wec6_5"
   },
   "source": [
    "### How to do it..."
   ]
  },
  {
   "cell_type": "code",
   "execution_count": null,
   "metadata": {
    "id": "pL9CQV3jc6_5"
   },
   "outputs": [],
   "source": [
    "import polars as pl"
   ]
  },
  {
   "cell_type": "code",
   "execution_count": null,
   "metadata": {
    "id": "eqzGiqVQc6_5",
    "outputId": "e59f2886-be38-4116-eef7-e3a7eda22de7",
    "colab": {
     "base_uri": "https://localhost:8080/",
     "height": 255
    }
   },
   "outputs": [
    {
     "output_type": "execute_result",
     "data": {
      "text/plain": [
       "shape: (5, 16)\n",
       "┌────────┬────────┬────────┬────────┬──────┬───────┬───┬────────┬────────┬────────┬────────┬───────┐\n",
       "│ Data   ┆ Start  ┆ End    ┆ Group  ┆ Year ┆ Month ┆ … ┆ Pneumo ┆ Pneumo ┆ Influe ┆ Pneumo ┆ Footn │\n",
       "│ As Of  ┆ Date   ┆ Date   ┆ ---    ┆ ---  ┆ ---   ┆   ┆ nia    ┆ nia    ┆ nza    ┆ nia,   ┆ ote   │\n",
       "│ ---    ┆ ---    ┆ ---    ┆ str    ┆ str  ┆ str   ┆   ┆ Deaths ┆ and    ┆ Deaths ┆ Influe ┆ ---   │\n",
       "│ str    ┆ str    ┆ str    ┆        ┆      ┆       ┆   ┆ ---    ┆ COVID- ┆ ---    ┆ nza,   ┆ str   │\n",
       "│        ┆        ┆        ┆        ┆      ┆       ┆   ┆ i64    ┆ 19     ┆ i64    ┆ or     ┆       │\n",
       "│        ┆        ┆        ┆        ┆      ┆       ┆   ┆        ┆ Deaths ┆        ┆ COVID… ┆       │\n",
       "│        ┆        ┆        ┆        ┆      ┆       ┆   ┆        ┆ ---    ┆        ┆ ---    ┆       │\n",
       "│        ┆        ┆        ┆        ┆      ┆       ┆   ┆        ┆ i64    ┆        ┆ i64    ┆       │\n",
       "╞════════╪════════╪════════╪════════╪══════╪═══════╪═══╪════════╪════════╪════════╪════════╪═══════╡\n",
       "│ 09/27/ ┆ 01/01/ ┆ 09/23/ ┆ By     ┆ null ┆ null  ┆ … ┆ 116284 ┆ 569264 ┆ 22229  ┆ 176009 ┆ null  │\n",
       "│ 2023   ┆ 2020   ┆ 2023   ┆ Total  ┆      ┆       ┆   ┆ 4      ┆        ┆        ┆ 5      ┆       │\n",
       "│ 09/27/ ┆ 01/01/ ┆ 09/23/ ┆ By     ┆ null ┆ null  ┆ … ┆ 1056   ┆ 95     ┆ 64     ┆ 1541   ┆ null  │\n",
       "│ 2023   ┆ 2020   ┆ 2023   ┆ Total  ┆      ┆       ┆   ┆        ┆        ┆        ┆        ┆       │\n",
       "│ 09/27/ ┆ 01/01/ ┆ 09/23/ ┆ By     ┆ null ┆ null  ┆ … ┆ 2961   ┆ 424    ┆ 509    ┆ 4716   ┆ null  │\n",
       "│ 2023   ┆ 2020   ┆ 2023   ┆ Total  ┆      ┆       ┆   ┆        ┆        ┆        ┆        ┆       │\n",
       "│ 09/27/ ┆ 01/01/ ┆ 09/23/ ┆ By     ┆ null ┆ null  ┆ … ┆ 692    ┆ 66     ┆ 177    ┆ 1079   ┆ null  │\n",
       "│ 2023   ┆ 2020   ┆ 2023   ┆ Total  ┆      ┆       ┆   ┆        ┆        ┆        ┆        ┆       │\n",
       "│ 09/27/ ┆ 01/01/ ┆ 09/23/ ┆ By     ┆ null ┆ null  ┆ … ┆ 818    ┆ 143    ┆ 219    ┆ 1390   ┆ null  │\n",
       "│ 2023   ┆ 2020   ┆ 2023   ┆ Total  ┆      ┆       ┆   ┆        ┆        ┆        ┆        ┆       │\n",
       "└────────┴────────┴────────┴────────┴──────┴───────┴───┴────────┴────────┴────────┴────────┴───────┘"
      ],
      "text/html": [
       "<div><style>\n",
       ".dataframe > thead > tr,\n",
       ".dataframe > tbody > tr {\n",
       "  text-align: right;\n",
       "  white-space: pre-wrap;\n",
       "}\n",
       "</style>\n",
       "<small>shape: (5, 16)</small><table border=\"1\" class=\"dataframe\"><thead><tr><th>Data As Of</th><th>Start Date</th><th>End Date</th><th>Group</th><th>Year</th><th>&hellip;</th><th>Pneumonia Deaths</th><th>Pneumonia and COVID-19 Deaths</th><th>Influenza Deaths</th><th>Pneumonia, Influenza, or COVID-19 Deaths</th><th>Footnote</th></tr><tr><td>str</td><td>str</td><td>str</td><td>str</td><td>str</td><td>&hellip;</td><td>i64</td><td>i64</td><td>i64</td><td>i64</td><td>str</td></tr></thead><tbody><tr><td>&quot;09/27/2023&quot;</td><td>&quot;01/01/2020&quot;</td><td>&quot;09/23/2023&quot;</td><td>&quot;By Total&quot;</td><td>null</td><td>&hellip;</td><td>1162844</td><td>569264</td><td>22229</td><td>1760095</td><td>null</td></tr><tr><td>&quot;09/27/2023&quot;</td><td>&quot;01/01/2020&quot;</td><td>&quot;09/23/2023&quot;</td><td>&quot;By Total&quot;</td><td>null</td><td>&hellip;</td><td>1056</td><td>95</td><td>64</td><td>1541</td><td>null</td></tr><tr><td>&quot;09/27/2023&quot;</td><td>&quot;01/01/2020&quot;</td><td>&quot;09/23/2023&quot;</td><td>&quot;By Total&quot;</td><td>null</td><td>&hellip;</td><td>2961</td><td>424</td><td>509</td><td>4716</td><td>null</td></tr><tr><td>&quot;09/27/2023&quot;</td><td>&quot;01/01/2020&quot;</td><td>&quot;09/23/2023&quot;</td><td>&quot;By Total&quot;</td><td>null</td><td>&hellip;</td><td>692</td><td>66</td><td>177</td><td>1079</td><td>null</td></tr><tr><td>&quot;09/27/2023&quot;</td><td>&quot;01/01/2020&quot;</td><td>&quot;09/23/2023&quot;</td><td>&quot;By Total&quot;</td><td>null</td><td>&hellip;</td><td>818</td><td>143</td><td>219</td><td>1390</td><td>null</td></tr></tbody></table></div>"
      ]
     },
     "metadata": {},
     "execution_count": 36
    }
   ],
   "source": [
    "df = pl.read_csv('/content/Drive/MyDrive/python_polars/covid_19_deaths.csv')\n",
    "df.head()"
   ]
  },
  {
   "cell_type": "code",
   "execution_count": null,
   "metadata": {
    "id": "7Kl9PsnYc6_6"
   },
   "outputs": [],
   "source": [
    "import random\n",
    "\n",
    "def get_random_nums(num_list, length):\n",
    "    random_nums = ''.join(str(n) for n in random.sample(num_list, length))\n",
    "    return random_nums"
   ]
  },
  {
   "cell_type": "code",
   "execution_count": null,
   "metadata": {
    "id": "cbeCGKr2c6_6",
    "outputId": "17d2f4f2-baf0-49fd-eb64-07f03d35acba",
    "colab": {
     "base_uri": "https://localhost:8080/",
     "height": 255
    }
   },
   "outputs": [
    {
     "output_type": "execute_result",
     "data": {
      "text/plain": [
       "shape: (5, 1)\n",
       "┌─────────────┐\n",
       "│ SSN         │\n",
       "│ ---         │\n",
       "│ str         │\n",
       "╞═════════════╡\n",
       "│ 687-46-8013 │\n",
       "│ 687-07-7432 │\n",
       "│ 017-83-9480 │\n",
       "│ 703-72-1984 │\n",
       "│ 109-54-7503 │\n",
       "└─────────────┘"
      ],
      "text/html": [
       "<div><style>\n",
       ".dataframe > thead > tr,\n",
       ".dataframe > tbody > tr {\n",
       "  text-align: right;\n",
       "  white-space: pre-wrap;\n",
       "}\n",
       "</style>\n",
       "<small>shape: (5, 1)</small><table border=\"1\" class=\"dataframe\"><thead><tr><th>SSN</th></tr><tr><td>str</td></tr></thead><tbody><tr><td>&quot;687-46-8013&quot;</td></tr><tr><td>&quot;687-07-7432&quot;</td></tr><tr><td>&quot;017-83-9480&quot;</td></tr><tr><td>&quot;703-72-1984&quot;</td></tr><tr><td>&quot;109-54-7503&quot;</td></tr></tbody></table></div>"
      ]
     },
     "metadata": {},
     "execution_count": 38
    }
   ],
   "source": [
    "fake_ssns = []\n",
    "nums = [n for n in range(10)]\n",
    "\n",
    "for i in range(df.height):\n",
    "    part_1 = get_random_nums(nums, 3)\n",
    "    part_2 = get_random_nums(nums, 2)\n",
    "    part_3 = get_random_nums(nums, 4)\n",
    "    fake_ssn = f'{part_1}-{part_2}-{part_3}'\n",
    "    fake_ssns.append(fake_ssn)\n",
    "\n",
    "random.seed(10)\n",
    "fake_ssns_df = pl.DataFrame({'SSN': fake_ssns})\n",
    "fake_ssns_df.head()"
   ]
  },
  {
   "cell_type": "code",
   "execution_count": null,
   "metadata": {
    "id": "DX5q0IFAc6_6"
   },
   "outputs": [],
   "source": [
    "df = pl.concat([df, fake_ssns_df], how='horizontal')"
   ]
  },
  {
   "cell_type": "code",
   "execution_count": null,
   "metadata": {
    "id": "y3HVlB0Dc6_6",
    "outputId": "e343d75d-0bd3-4439-a9cc-e68eb0bbbd42",
    "colab": {
     "base_uri": "https://localhost:8080/",
     "height": 255
    }
   },
   "outputs": [
    {
     "output_type": "execute_result",
     "data": {
      "text/plain": [
       "shape: (5, 1)\n",
       "┌─────────────┐\n",
       "│ SSN Masked  │\n",
       "│ ---         │\n",
       "│ str         │\n",
       "╞═════════════╡\n",
       "│ XXX-XX-XX13 │\n",
       "│ XXX-XX-XX32 │\n",
       "│ XXX-XX-XX80 │\n",
       "│ XXX-XX-XX84 │\n",
       "│ XXX-XX-XX03 │\n",
       "└─────────────┘"
      ],
      "text/html": [
       "<div><style>\n",
       ".dataframe > thead > tr,\n",
       ".dataframe > tbody > tr {\n",
       "  text-align: right;\n",
       "  white-space: pre-wrap;\n",
       "}\n",
       "</style>\n",
       "<small>shape: (5, 1)</small><table border=\"1\" class=\"dataframe\"><thead><tr><th>SSN Masked</th></tr><tr><td>str</td></tr></thead><tbody><tr><td>&quot;XXX-XX-XX13&quot;</td></tr><tr><td>&quot;XXX-XX-XX32&quot;</td></tr><tr><td>&quot;XXX-XX-XX80&quot;</td></tr><tr><td>&quot;XXX-XX-XX84&quot;</td></tr><tr><td>&quot;XXX-XX-XX03&quot;</td></tr></tbody></table></div>"
      ]
     },
     "metadata": {},
     "execution_count": 40
    }
   ],
   "source": [
    "df.select(\n",
    "    ('XXX-XX-XX' + pl.col('SSN').str.slice(9, 2)).alias('SSN Masked')\n",
    ").head()"
   ]
  },
  {
   "cell_type": "code",
   "execution_count": null,
   "metadata": {
    "id": "2y_jjrH_c6_6",
    "outputId": "a9a81dbe-6429-4c8e-c5c7-932d7b8e4062",
    "colab": {
     "base_uri": "https://localhost:8080/",
     "height": 255
    }
   },
   "outputs": [
    {
     "output_type": "execute_result",
     "data": {
      "text/plain": [
       "shape: (5, 1)\n",
       "┌─────────────┐\n",
       "│ SSN Masked  │\n",
       "│ ---         │\n",
       "│ str         │\n",
       "╞═════════════╡\n",
       "│ XXX-XX-XX13 │\n",
       "│ XXX-XX-XX32 │\n",
       "│ XXX-XX-XX80 │\n",
       "│ XXX-XX-XX84 │\n",
       "│ XXX-XX-XX03 │\n",
       "└─────────────┘"
      ],
      "text/html": [
       "<div><style>\n",
       ".dataframe > thead > tr,\n",
       ".dataframe > tbody > tr {\n",
       "  text-align: right;\n",
       "  white-space: pre-wrap;\n",
       "}\n",
       "</style>\n",
       "<small>shape: (5, 1)</small><table border=\"1\" class=\"dataframe\"><thead><tr><th>SSN Masked</th></tr><tr><td>str</td></tr></thead><tbody><tr><td>&quot;XXX-XX-XX13&quot;</td></tr><tr><td>&quot;XXX-XX-XX32&quot;</td></tr><tr><td>&quot;XXX-XX-XX80&quot;</td></tr><tr><td>&quot;XXX-XX-XX84&quot;</td></tr><tr><td>&quot;XXX-XX-XX03&quot;</td></tr></tbody></table></div>"
      ]
     },
     "metadata": {},
     "execution_count": 41
    }
   ],
   "source": [
    "df.select(\n",
    "    ('XXX-XX-XX' + pl.col('SSN').str.slice(9, 2)).alias('SSN Masked'),\n",
    "\n",
    ").head()"
   ]
  },
  {
   "cell_type": "code",
   "execution_count": null,
   "metadata": {
    "id": "Hnr5mTbsc6_7",
    "outputId": "cc7a4321-d14d-4e62-f971-01d2b52a5590",
    "colab": {
     "base_uri": "https://localhost:8080/",
     "height": 255
    }
   },
   "outputs": [
    {
     "output_type": "execute_result",
     "data": {
      "text/plain": [
       "shape: (5, 1)\n",
       "┌─────────────────────┐\n",
       "│ SSN                 │\n",
       "│ ---                 │\n",
       "│ u64                 │\n",
       "╞═════════════════════╡\n",
       "│ 5885212812134005248 │\n",
       "│ 6136313658302907506 │\n",
       "│ 3646446825914015667 │\n",
       "│ 8884023145882148663 │\n",
       "│ 5525385389682901544 │\n",
       "└─────────────────────┘"
      ],
      "text/html": [
       "<div><style>\n",
       ".dataframe > thead > tr,\n",
       ".dataframe > tbody > tr {\n",
       "  text-align: right;\n",
       "  white-space: pre-wrap;\n",
       "}\n",
       "</style>\n",
       "<small>shape: (5, 1)</small><table border=\"1\" class=\"dataframe\"><thead><tr><th>SSN</th></tr><tr><td>u64</td></tr></thead><tbody><tr><td>5885212812134005248</td></tr><tr><td>6136313658302907506</td></tr><tr><td>3646446825914015667</td></tr><tr><td>8884023145882148663</td></tr><tr><td>5525385389682901544</td></tr></tbody></table></div>"
      ]
     },
     "metadata": {},
     "execution_count": 42
    }
   ],
   "source": [
    "df.select(\n",
    "    pl.col('SSN').hash()\n",
    ").head()"
   ]
  },
  {
   "cell_type": "markdown",
   "metadata": {
    "id": "VwU3U7Xkc6_7"
   },
   "source": [
    "## Visualizing data using Plotly"
   ]
  },
  {
   "cell_type": "markdown",
   "metadata": {
    "id": "r1aBroW6c6_7"
   },
   "source": [
    "### How to do it..."
   ]
  },
  {
   "cell_type": "code",
   "source": [
    "pip install plotly"
   ],
   "metadata": {
    "id": "yc02r8tIBNoF",
    "colab": {
     "base_uri": "https://localhost:8080/"
    },
    "outputId": "19d9dbb3-71d5-4364-80ab-4384ec4a6d57"
   },
   "execution_count": null,
   "outputs": [
    {
     "output_type": "stream",
     "name": "stdout",
     "text": [
      "Requirement already satisfied: plotly in /usr/local/lib/python3.11/dist-packages (5.24.1)\n",
      "Requirement already satisfied: tenacity>=6.2.0 in /usr/local/lib/python3.11/dist-packages (from plotly) (9.1.2)\n",
      "Requirement already satisfied: packaging in /usr/local/lib/python3.11/dist-packages (from plotly) (24.2)\n"
     ]
    }
   ]
  },
  {
   "cell_type": "code",
   "execution_count": null,
   "metadata": {
    "id": "W_ATryS8c6_7"
   },
   "outputs": [],
   "source": [
    "import polars as pl\n",
    "import plotly.express as px"
   ]
  },
  {
   "cell_type": "code",
   "execution_count": null,
   "metadata": {
    "id": "CcH3iT6Vc6_7",
    "outputId": "a6db54b2-a3f2-4845-eb0a-e0031f63d211",
    "colab": {
     "base_uri": "https://localhost:8080/",
     "height": 255
    }
   },
   "outputs": [
    {
     "output_type": "execute_result",
     "data": {
      "text/plain": [
       "shape: (5, 16)\n",
       "┌────────┬────────┬────────┬────────┬──────┬───────┬───┬────────┬────────┬────────┬────────┬───────┐\n",
       "│ Data   ┆ Start  ┆ End    ┆ Group  ┆ Year ┆ Month ┆ … ┆ Pneumo ┆ Pneumo ┆ Influe ┆ Pneumo ┆ Footn │\n",
       "│ As Of  ┆ Date   ┆ Date   ┆ ---    ┆ ---  ┆ ---   ┆   ┆ nia    ┆ nia    ┆ nza    ┆ nia,   ┆ ote   │\n",
       "│ ---    ┆ ---    ┆ ---    ┆ str    ┆ str  ┆ str   ┆   ┆ Deaths ┆ and    ┆ Deaths ┆ Influe ┆ ---   │\n",
       "│ str    ┆ str    ┆ str    ┆        ┆      ┆       ┆   ┆ ---    ┆ COVID- ┆ ---    ┆ nza,   ┆ str   │\n",
       "│        ┆        ┆        ┆        ┆      ┆       ┆   ┆ i64    ┆ 19     ┆ i64    ┆ or     ┆       │\n",
       "│        ┆        ┆        ┆        ┆      ┆       ┆   ┆        ┆ Deaths ┆        ┆ COVID… ┆       │\n",
       "│        ┆        ┆        ┆        ┆      ┆       ┆   ┆        ┆ ---    ┆        ┆ ---    ┆       │\n",
       "│        ┆        ┆        ┆        ┆      ┆       ┆   ┆        ┆ i64    ┆        ┆ i64    ┆       │\n",
       "╞════════╪════════╪════════╪════════╪══════╪═══════╪═══╪════════╪════════╪════════╪════════╪═══════╡\n",
       "│ 09/27/ ┆ 01/01/ ┆ 01/31/ ┆ By     ┆ 2020 ┆ 1     ┆ … ┆ 17909  ┆ 3      ┆ 2125   ┆ 20037  ┆ null  │\n",
       "│ 2023   ┆ 2020   ┆ 2020   ┆ Month  ┆      ┆       ┆   ┆        ┆        ┆        ┆        ┆       │\n",
       "│ 09/27/ ┆ 01/01/ ┆ 01/31/ ┆ By     ┆ 2020 ┆ 1     ┆ … ┆ 90     ┆ 0      ┆ 63     ┆ 153    ┆ null  │\n",
       "│ 2023   ┆ 2020   ┆ 2020   ┆ Month  ┆      ┆       ┆   ┆        ┆        ┆        ┆        ┆       │\n",
       "│ 09/27/ ┆ 01/01/ ┆ 01/31/ ┆ By     ┆ 2020 ┆ 1     ┆ … ┆ 114    ┆ 0      ┆ 54     ┆ 168    ┆ null  │\n",
       "│ 2023   ┆ 2020   ┆ 2020   ┆ Month  ┆      ┆       ┆   ┆        ┆        ┆        ┆        ┆       │\n",
       "│ 09/27/ ┆ 01/01/ ┆ 01/31/ ┆ By     ┆ 2020 ┆ 1     ┆ … ┆ 246    ┆ 0      ┆ 112    ┆ 358    ┆ null  │\n",
       "│ 2023   ┆ 2020   ┆ 2020   ┆ Month  ┆      ┆       ┆   ┆        ┆        ┆        ┆        ┆       │\n",
       "│ 09/27/ ┆ 01/01/ ┆ 01/31/ ┆ By     ┆ 2020 ┆ 1     ┆ … ┆ 485    ┆ 0      ┆ 151    ┆ 636    ┆ null  │\n",
       "│ 2023   ┆ 2020   ┆ 2020   ┆ Month  ┆      ┆       ┆   ┆        ┆        ┆        ┆        ┆       │\n",
       "└────────┴────────┴────────┴────────┴──────┴───────┴───┴────────┴────────┴────────┴────────┴───────┘"
      ],
      "text/html": [
       "<div><style>\n",
       ".dataframe > thead > tr,\n",
       ".dataframe > tbody > tr {\n",
       "  text-align: right;\n",
       "  white-space: pre-wrap;\n",
       "}\n",
       "</style>\n",
       "<small>shape: (5, 16)</small><table border=\"1\" class=\"dataframe\"><thead><tr><th>Data As Of</th><th>Start Date</th><th>End Date</th><th>Group</th><th>Year</th><th>&hellip;</th><th>Pneumonia Deaths</th><th>Pneumonia and COVID-19 Deaths</th><th>Influenza Deaths</th><th>Pneumonia, Influenza, or COVID-19 Deaths</th><th>Footnote</th></tr><tr><td>str</td><td>str</td><td>str</td><td>str</td><td>str</td><td>&hellip;</td><td>i64</td><td>i64</td><td>i64</td><td>i64</td><td>str</td></tr></thead><tbody><tr><td>&quot;09/27/2023&quot;</td><td>&quot;01/01/2020&quot;</td><td>&quot;01/31/2020&quot;</td><td>&quot;By Month&quot;</td><td>&quot;2020&quot;</td><td>&hellip;</td><td>17909</td><td>3</td><td>2125</td><td>20037</td><td>null</td></tr><tr><td>&quot;09/27/2023&quot;</td><td>&quot;01/01/2020&quot;</td><td>&quot;01/31/2020&quot;</td><td>&quot;By Month&quot;</td><td>&quot;2020&quot;</td><td>&hellip;</td><td>90</td><td>0</td><td>63</td><td>153</td><td>null</td></tr><tr><td>&quot;09/27/2023&quot;</td><td>&quot;01/01/2020&quot;</td><td>&quot;01/31/2020&quot;</td><td>&quot;By Month&quot;</td><td>&quot;2020&quot;</td><td>&hellip;</td><td>114</td><td>0</td><td>54</td><td>168</td><td>null</td></tr><tr><td>&quot;09/27/2023&quot;</td><td>&quot;01/01/2020&quot;</td><td>&quot;01/31/2020&quot;</td><td>&quot;By Month&quot;</td><td>&quot;2020&quot;</td><td>&hellip;</td><td>246</td><td>0</td><td>112</td><td>358</td><td>null</td></tr><tr><td>&quot;09/27/2023&quot;</td><td>&quot;01/01/2020&quot;</td><td>&quot;01/31/2020&quot;</td><td>&quot;By Month&quot;</td><td>&quot;2020&quot;</td><td>&hellip;</td><td>485</td><td>0</td><td>151</td><td>636</td><td>null</td></tr></tbody></table></div>"
      ]
     },
     "metadata": {},
     "execution_count": 45
    }
   ],
   "source": [
    "age_groups = ['0-17 years', '18-29 years', '30-39 years', '40-49 years', '50-64 years', '65-74 years', '75-84 years', '85 years and over', 'All Ages']\n",
    "\n",
    "df = (\n",
    "    pl.read_csv('/content/Drive/MyDrive/python_polars/covid_19_deaths.csv')\n",
    "    .filter(\n",
    "        pl.col('Month').is_not_null(),\n",
    "        pl.col('Age Group').is_in(age_groups),\n",
    "    )\n",
    ")\n",
    "df.head()"
   ]
  },
  {
   "cell_type": "code",
   "source": [
    "#Make sure you import the library in your Python code.\n",
    "# We use Plotly Express in this recipe, which is a high-level interface for Plotly:\n",
    "df = (\n",
    "    pl.read_csv('/content/Drive/MyDrive/python_polars/covid_19_deaths.csv') # Reload the dataframe to ensure original dtypes\n",
    "    .filter(\n",
    "        pl.col('Month').is_not_null(),\n",
    "        pl.col('Age Group').is_in(age_groups),\n",
    "    )\n",
    "    .with_columns(\n",
    "        pl.col('Data As Of').str.strptime(pl.Date, '%m/%d/%Y'),\n",
    "        pl.col('Start Date').str.strptime(pl.Date, '%m/%d/%Y'),\n",
    "        pl.col('End Date').str.strptime(pl.Date, '%m/%d/%Y'),\n",
    "        pl.col('Year').cast(pl.Int64),\n",
    "        pl.col('Month').cast(pl.Int64)\n",
    "    )\n",
    ")\n",
    "df.head()"
   ],
   "metadata": {
    "colab": {
     "base_uri": "https://localhost:8080/",
     "height": 255
    },
    "id": "CcOBmshGDPxA",
    "outputId": "595cebbf-3ba0-4b48-ee98-6b7a29d3f616"
   },
   "execution_count": null,
   "outputs": [
    {
     "output_type": "execute_result",
     "data": {
      "text/plain": [
       "shape: (5, 16)\n",
       "┌────────┬────────┬────────┬────────┬──────┬───────┬───┬────────┬────────┬────────┬────────┬───────┐\n",
       "│ Data   ┆ Start  ┆ End    ┆ Group  ┆ Year ┆ Month ┆ … ┆ Pneumo ┆ Pneumo ┆ Influe ┆ Pneumo ┆ Footn │\n",
       "│ As Of  ┆ Date   ┆ Date   ┆ ---    ┆ ---  ┆ ---   ┆   ┆ nia    ┆ nia    ┆ nza    ┆ nia,   ┆ ote   │\n",
       "│ ---    ┆ ---    ┆ ---    ┆ str    ┆ i64  ┆ i64   ┆   ┆ Deaths ┆ and    ┆ Deaths ┆ Influe ┆ ---   │\n",
       "│ date   ┆ date   ┆ date   ┆        ┆      ┆       ┆   ┆ ---    ┆ COVID- ┆ ---    ┆ nza,   ┆ str   │\n",
       "│        ┆        ┆        ┆        ┆      ┆       ┆   ┆ i64    ┆ 19     ┆ i64    ┆ or     ┆       │\n",
       "│        ┆        ┆        ┆        ┆      ┆       ┆   ┆        ┆ Deaths ┆        ┆ COVID… ┆       │\n",
       "│        ┆        ┆        ┆        ┆      ┆       ┆   ┆        ┆ ---    ┆        ┆ ---    ┆       │\n",
       "│        ┆        ┆        ┆        ┆      ┆       ┆   ┆        ┆ i64    ┆        ┆ i64    ┆       │\n",
       "╞════════╪════════╪════════╪════════╪══════╪═══════╪═══╪════════╪════════╪════════╪════════╪═══════╡\n",
       "│ 2023-0 ┆ 2020-0 ┆ 2020-0 ┆ By     ┆ 2020 ┆ 1     ┆ … ┆ 17909  ┆ 3      ┆ 2125   ┆ 20037  ┆ null  │\n",
       "│ 9-27   ┆ 1-01   ┆ 1-31   ┆ Month  ┆      ┆       ┆   ┆        ┆        ┆        ┆        ┆       │\n",
       "│ 2023-0 ┆ 2020-0 ┆ 2020-0 ┆ By     ┆ 2020 ┆ 1     ┆ … ┆ 90     ┆ 0      ┆ 63     ┆ 153    ┆ null  │\n",
       "│ 9-27   ┆ 1-01   ┆ 1-31   ┆ Month  ┆      ┆       ┆   ┆        ┆        ┆        ┆        ┆       │\n",
       "│ 2023-0 ┆ 2020-0 ┆ 2020-0 ┆ By     ┆ 2020 ┆ 1     ┆ … ┆ 114    ┆ 0      ┆ 54     ┆ 168    ┆ null  │\n",
       "│ 9-27   ┆ 1-01   ┆ 1-31   ┆ Month  ┆      ┆       ┆   ┆        ┆        ┆        ┆        ┆       │\n",
       "│ 2023-0 ┆ 2020-0 ┆ 2020-0 ┆ By     ┆ 2020 ┆ 1     ┆ … ┆ 246    ┆ 0      ┆ 112    ┆ 358    ┆ null  │\n",
       "│ 9-27   ┆ 1-01   ┆ 1-31   ┆ Month  ┆      ┆       ┆   ┆        ┆        ┆        ┆        ┆       │\n",
       "│ 2023-0 ┆ 2020-0 ┆ 2020-0 ┆ By     ┆ 2020 ┆ 1     ┆ … ┆ 485    ┆ 0      ┆ 151    ┆ 636    ┆ null  │\n",
       "│ 9-27   ┆ 1-01   ┆ 1-31   ┆ Month  ┆      ┆       ┆   ┆        ┆        ┆        ┆        ┆       │\n",
       "└────────┴────────┴────────┴────────┴──────┴───────┴───┴────────┴────────┴────────┴────────┴───────┘"
      ],
      "text/html": [
       "<div><style>\n",
       ".dataframe > thead > tr,\n",
       ".dataframe > tbody > tr {\n",
       "  text-align: right;\n",
       "  white-space: pre-wrap;\n",
       "}\n",
       "</style>\n",
       "<small>shape: (5, 16)</small><table border=\"1\" class=\"dataframe\"><thead><tr><th>Data As Of</th><th>Start Date</th><th>End Date</th><th>Group</th><th>Year</th><th>&hellip;</th><th>Pneumonia Deaths</th><th>Pneumonia and COVID-19 Deaths</th><th>Influenza Deaths</th><th>Pneumonia, Influenza, or COVID-19 Deaths</th><th>Footnote</th></tr><tr><td>date</td><td>date</td><td>date</td><td>str</td><td>i64</td><td>&hellip;</td><td>i64</td><td>i64</td><td>i64</td><td>i64</td><td>str</td></tr></thead><tbody><tr><td>2023-09-27</td><td>2020-01-01</td><td>2020-01-31</td><td>&quot;By Month&quot;</td><td>2020</td><td>&hellip;</td><td>17909</td><td>3</td><td>2125</td><td>20037</td><td>null</td></tr><tr><td>2023-09-27</td><td>2020-01-01</td><td>2020-01-31</td><td>&quot;By Month&quot;</td><td>2020</td><td>&hellip;</td><td>90</td><td>0</td><td>63</td><td>153</td><td>null</td></tr><tr><td>2023-09-27</td><td>2020-01-01</td><td>2020-01-31</td><td>&quot;By Month&quot;</td><td>2020</td><td>&hellip;</td><td>114</td><td>0</td><td>54</td><td>168</td><td>null</td></tr><tr><td>2023-09-27</td><td>2020-01-01</td><td>2020-01-31</td><td>&quot;By Month&quot;</td><td>2020</td><td>&hellip;</td><td>246</td><td>0</td><td>112</td><td>358</td><td>null</td></tr><tr><td>2023-09-27</td><td>2020-01-01</td><td>2020-01-31</td><td>&quot;By Month&quot;</td><td>2020</td><td>&hellip;</td><td>485</td><td>0</td><td>151</td><td>636</td><td>null</td></tr></tbody></table></div>"
      ]
     },
     "metadata": {},
     "execution_count": 46
    }
   ]
  },
  {
   "cell_type": "markdown",
   "source": [
    "#Show COVID deaths in 2023 in the US by age group?"
   ],
   "metadata": {
    "id": "kDHmAkBHLEUr"
   }
  },
  {
   "cell_type": "code",
   "execution_count": null,
   "metadata": {
    "id": "7DbcLC2kc6_8",
    "outputId": "7b10b302-bc47-4980-f2d0-3d3f434d3faa",
    "colab": {
     "base_uri": "https://localhost:8080/",
     "height": 542
    }
   },
   "outputs": [
    {
     "output_type": "display_data",
     "data": {
      "text/html": [
       "<html>\n",
       "<head><meta charset=\"utf-8\" /></head>\n",
       "<body>\n",
       "    <div>            <script src=\"https://cdnjs.cloudflare.com/ajax/libs/mathjax/2.7.5/MathJax.js?config=TeX-AMS-MML_SVG\"></script><script type=\"text/javascript\">if (window.MathJax && window.MathJax.Hub && window.MathJax.Hub.Config) {window.MathJax.Hub.Config({SVG: {font: \"STIX-Web\"}});}</script>                <script type=\"text/javascript\">window.PlotlyConfig = {MathJaxConfig: 'local'};</script>\n",
       "        <script charset=\"utf-8\" src=\"https://cdn.plot.ly/plotly-2.35.2.min.js\"></script>                <div id=\"b9262d13-789e-4ad7-a093-17c3abc38cd1\" class=\"plotly-graph-div\" style=\"height:525px; width:100%;\"></div>            <script type=\"text/javascript\">                                    window.PLOTLYENV=window.PLOTLYENV || {};                                    if (document.getElementById(\"b9262d13-789e-4ad7-a093-17c3abc38cd1\")) {                    Plotly.newPlot(                        \"b9262d13-789e-4ad7-a093-17c3abc38cd1\",                        [{\"alignmentgroup\":\"True\",\"hovertemplate\":\"Age Group=%{x}\\u003cbr\\u003eCOVID-19 Deaths=%{y}\\u003cextra\\u003e\\u003c\\u002fextra\\u003e\",\"legendgroup\":\"\",\"marker\":{\"color\":\"#636efa\",\"pattern\":{\"shape\":\"\"}},\"name\":\"\",\"offsetgroup\":\"\",\"orientation\":\"v\",\"showlegend\":false,\"textposition\":\"auto\",\"x\":[\"85 years and over\",\"75-84 years\",\"65-74 years\",\"50-64 years\",\"40-49 years\",\"30-39 years\",\"18-29 years\",\"0-17 years\"],\"xaxis\":\"x\",\"y\":[20391,15686,9264,4762,835,426,183,137],\"yaxis\":\"y\",\"type\":\"bar\"}],                        {\"template\":{\"data\":{\"histogram2dcontour\":[{\"type\":\"histogram2dcontour\",\"colorbar\":{\"outlinewidth\":0,\"ticks\":\"\"},\"colorscale\":[[0.0,\"#0d0887\"],[0.1111111111111111,\"#46039f\"],[0.2222222222222222,\"#7201a8\"],[0.3333333333333333,\"#9c179e\"],[0.4444444444444444,\"#bd3786\"],[0.5555555555555556,\"#d8576b\"],[0.6666666666666666,\"#ed7953\"],[0.7777777777777778,\"#fb9f3a\"],[0.8888888888888888,\"#fdca26\"],[1.0,\"#f0f921\"]]}],\"choropleth\":[{\"type\":\"choropleth\",\"colorbar\":{\"outlinewidth\":0,\"ticks\":\"\"}}],\"histogram2d\":[{\"type\":\"histogram2d\",\"colorbar\":{\"outlinewidth\":0,\"ticks\":\"\"},\"colorscale\":[[0.0,\"#0d0887\"],[0.1111111111111111,\"#46039f\"],[0.2222222222222222,\"#7201a8\"],[0.3333333333333333,\"#9c179e\"],[0.4444444444444444,\"#bd3786\"],[0.5555555555555556,\"#d8576b\"],[0.6666666666666666,\"#ed7953\"],[0.7777777777777778,\"#fb9f3a\"],[0.8888888888888888,\"#fdca26\"],[1.0,\"#f0f921\"]]}],\"heatmap\":[{\"type\":\"heatmap\",\"colorbar\":{\"outlinewidth\":0,\"ticks\":\"\"},\"colorscale\":[[0.0,\"#0d0887\"],[0.1111111111111111,\"#46039f\"],[0.2222222222222222,\"#7201a8\"],[0.3333333333333333,\"#9c179e\"],[0.4444444444444444,\"#bd3786\"],[0.5555555555555556,\"#d8576b\"],[0.6666666666666666,\"#ed7953\"],[0.7777777777777778,\"#fb9f3a\"],[0.8888888888888888,\"#fdca26\"],[1.0,\"#f0f921\"]]}],\"heatmapgl\":[{\"type\":\"heatmapgl\",\"colorbar\":{\"outlinewidth\":0,\"ticks\":\"\"},\"colorscale\":[[0.0,\"#0d0887\"],[0.1111111111111111,\"#46039f\"],[0.2222222222222222,\"#7201a8\"],[0.3333333333333333,\"#9c179e\"],[0.4444444444444444,\"#bd3786\"],[0.5555555555555556,\"#d8576b\"],[0.6666666666666666,\"#ed7953\"],[0.7777777777777778,\"#fb9f3a\"],[0.8888888888888888,\"#fdca26\"],[1.0,\"#f0f921\"]]}],\"contourcarpet\":[{\"type\":\"contourcarpet\",\"colorbar\":{\"outlinewidth\":0,\"ticks\":\"\"}}],\"contour\":[{\"type\":\"contour\",\"colorbar\":{\"outlinewidth\":0,\"ticks\":\"\"},\"colorscale\":[[0.0,\"#0d0887\"],[0.1111111111111111,\"#46039f\"],[0.2222222222222222,\"#7201a8\"],[0.3333333333333333,\"#9c179e\"],[0.4444444444444444,\"#bd3786\"],[0.5555555555555556,\"#d8576b\"],[0.6666666666666666,\"#ed7953\"],[0.7777777777777778,\"#fb9f3a\"],[0.8888888888888888,\"#fdca26\"],[1.0,\"#f0f921\"]]}],\"surface\":[{\"type\":\"surface\",\"colorbar\":{\"outlinewidth\":0,\"ticks\":\"\"},\"colorscale\":[[0.0,\"#0d0887\"],[0.1111111111111111,\"#46039f\"],[0.2222222222222222,\"#7201a8\"],[0.3333333333333333,\"#9c179e\"],[0.4444444444444444,\"#bd3786\"],[0.5555555555555556,\"#d8576b\"],[0.6666666666666666,\"#ed7953\"],[0.7777777777777778,\"#fb9f3a\"],[0.8888888888888888,\"#fdca26\"],[1.0,\"#f0f921\"]]}],\"mesh3d\":[{\"type\":\"mesh3d\",\"colorbar\":{\"outlinewidth\":0,\"ticks\":\"\"}}],\"scatter\":[{\"fillpattern\":{\"fillmode\":\"overlay\",\"size\":10,\"solidity\":0.2},\"type\":\"scatter\"}],\"parcoords\":[{\"type\":\"parcoords\",\"line\":{\"colorbar\":{\"outlinewidth\":0,\"ticks\":\"\"}}}],\"scatterpolargl\":[{\"type\":\"scatterpolargl\",\"marker\":{\"colorbar\":{\"outlinewidth\":0,\"ticks\":\"\"}}}],\"bar\":[{\"error_x\":{\"color\":\"#2a3f5f\"},\"error_y\":{\"color\":\"#2a3f5f\"},\"marker\":{\"line\":{\"color\":\"#E5ECF6\",\"width\":0.5},\"pattern\":{\"fillmode\":\"overlay\",\"size\":10,\"solidity\":0.2}},\"type\":\"bar\"}],\"scattergeo\":[{\"type\":\"scattergeo\",\"marker\":{\"colorbar\":{\"outlinewidth\":0,\"ticks\":\"\"}}}],\"scatterpolar\":[{\"type\":\"scatterpolar\",\"marker\":{\"colorbar\":{\"outlinewidth\":0,\"ticks\":\"\"}}}],\"histogram\":[{\"marker\":{\"pattern\":{\"fillmode\":\"overlay\",\"size\":10,\"solidity\":0.2}},\"type\":\"histogram\"}],\"scattergl\":[{\"type\":\"scattergl\",\"marker\":{\"colorbar\":{\"outlinewidth\":0,\"ticks\":\"\"}}}],\"scatter3d\":[{\"type\":\"scatter3d\",\"line\":{\"colorbar\":{\"outlinewidth\":0,\"ticks\":\"\"}},\"marker\":{\"colorbar\":{\"outlinewidth\":0,\"ticks\":\"\"}}}],\"scattermapbox\":[{\"type\":\"scattermapbox\",\"marker\":{\"colorbar\":{\"outlinewidth\":0,\"ticks\":\"\"}}}],\"scatterternary\":[{\"type\":\"scatterternary\",\"marker\":{\"colorbar\":{\"outlinewidth\":0,\"ticks\":\"\"}}}],\"scattercarpet\":[{\"type\":\"scattercarpet\",\"marker\":{\"colorbar\":{\"outlinewidth\":0,\"ticks\":\"\"}}}],\"carpet\":[{\"aaxis\":{\"endlinecolor\":\"#2a3f5f\",\"gridcolor\":\"white\",\"linecolor\":\"white\",\"minorgridcolor\":\"white\",\"startlinecolor\":\"#2a3f5f\"},\"baxis\":{\"endlinecolor\":\"#2a3f5f\",\"gridcolor\":\"white\",\"linecolor\":\"white\",\"minorgridcolor\":\"white\",\"startlinecolor\":\"#2a3f5f\"},\"type\":\"carpet\"}],\"table\":[{\"cells\":{\"fill\":{\"color\":\"#EBF0F8\"},\"line\":{\"color\":\"white\"}},\"header\":{\"fill\":{\"color\":\"#C8D4E3\"},\"line\":{\"color\":\"white\"}},\"type\":\"table\"}],\"barpolar\":[{\"marker\":{\"line\":{\"color\":\"#E5ECF6\",\"width\":0.5},\"pattern\":{\"fillmode\":\"overlay\",\"size\":10,\"solidity\":0.2}},\"type\":\"barpolar\"}],\"pie\":[{\"automargin\":true,\"type\":\"pie\"}]},\"layout\":{\"autotypenumbers\":\"strict\",\"colorway\":[\"#636efa\",\"#EF553B\",\"#00cc96\",\"#ab63fa\",\"#FFA15A\",\"#19d3f3\",\"#FF6692\",\"#B6E880\",\"#FF97FF\",\"#FECB52\"],\"font\":{\"color\":\"#2a3f5f\"},\"hovermode\":\"closest\",\"hoverlabel\":{\"align\":\"left\"},\"paper_bgcolor\":\"white\",\"plot_bgcolor\":\"#E5ECF6\",\"polar\":{\"bgcolor\":\"#E5ECF6\",\"angularaxis\":{\"gridcolor\":\"white\",\"linecolor\":\"white\",\"ticks\":\"\"},\"radialaxis\":{\"gridcolor\":\"white\",\"linecolor\":\"white\",\"ticks\":\"\"}},\"ternary\":{\"bgcolor\":\"#E5ECF6\",\"aaxis\":{\"gridcolor\":\"white\",\"linecolor\":\"white\",\"ticks\":\"\"},\"baxis\":{\"gridcolor\":\"white\",\"linecolor\":\"white\",\"ticks\":\"\"},\"caxis\":{\"gridcolor\":\"white\",\"linecolor\":\"white\",\"ticks\":\"\"}},\"coloraxis\":{\"colorbar\":{\"outlinewidth\":0,\"ticks\":\"\"}},\"colorscale\":{\"sequential\":[[0.0,\"#0d0887\"],[0.1111111111111111,\"#46039f\"],[0.2222222222222222,\"#7201a8\"],[0.3333333333333333,\"#9c179e\"],[0.4444444444444444,\"#bd3786\"],[0.5555555555555556,\"#d8576b\"],[0.6666666666666666,\"#ed7953\"],[0.7777777777777778,\"#fb9f3a\"],[0.8888888888888888,\"#fdca26\"],[1.0,\"#f0f921\"]],\"sequentialminus\":[[0.0,\"#0d0887\"],[0.1111111111111111,\"#46039f\"],[0.2222222222222222,\"#7201a8\"],[0.3333333333333333,\"#9c179e\"],[0.4444444444444444,\"#bd3786\"],[0.5555555555555556,\"#d8576b\"],[0.6666666666666666,\"#ed7953\"],[0.7777777777777778,\"#fb9f3a\"],[0.8888888888888888,\"#fdca26\"],[1.0,\"#f0f921\"]],\"diverging\":[[0,\"#8e0152\"],[0.1,\"#c51b7d\"],[0.2,\"#de77ae\"],[0.3,\"#f1b6da\"],[0.4,\"#fde0ef\"],[0.5,\"#f7f7f7\"],[0.6,\"#e6f5d0\"],[0.7,\"#b8e186\"],[0.8,\"#7fbc41\"],[0.9,\"#4d9221\"],[1,\"#276419\"]]},\"xaxis\":{\"gridcolor\":\"white\",\"linecolor\":\"white\",\"ticks\":\"\",\"title\":{\"standoff\":15},\"zerolinecolor\":\"white\",\"automargin\":true,\"zerolinewidth\":2},\"yaxis\":{\"gridcolor\":\"white\",\"linecolor\":\"white\",\"ticks\":\"\",\"title\":{\"standoff\":15},\"zerolinecolor\":\"white\",\"automargin\":true,\"zerolinewidth\":2},\"scene\":{\"xaxis\":{\"backgroundcolor\":\"#E5ECF6\",\"gridcolor\":\"white\",\"linecolor\":\"white\",\"showbackground\":true,\"ticks\":\"\",\"zerolinecolor\":\"white\",\"gridwidth\":2},\"yaxis\":{\"backgroundcolor\":\"#E5ECF6\",\"gridcolor\":\"white\",\"linecolor\":\"white\",\"showbackground\":true,\"ticks\":\"\",\"zerolinecolor\":\"white\",\"gridwidth\":2},\"zaxis\":{\"backgroundcolor\":\"#E5ECF6\",\"gridcolor\":\"white\",\"linecolor\":\"white\",\"showbackground\":true,\"ticks\":\"\",\"zerolinecolor\":\"white\",\"gridwidth\":2}},\"shapedefaults\":{\"line\":{\"color\":\"#2a3f5f\"}},\"annotationdefaults\":{\"arrowcolor\":\"#2a3f5f\",\"arrowhead\":0,\"arrowwidth\":1},\"geo\":{\"bgcolor\":\"white\",\"landcolor\":\"#E5ECF6\",\"subunitcolor\":\"white\",\"showland\":true,\"showlakes\":true,\"lakecolor\":\"white\"},\"title\":{\"x\":0.05},\"mapbox\":{\"style\":\"light\"}}},\"xaxis\":{\"anchor\":\"y\",\"domain\":[0.0,1.0],\"title\":{}},\"yaxis\":{\"anchor\":\"x\",\"domain\":[0.0,1.0],\"title\":{\"text\":\"COVID-19 Deaths\"}},\"legend\":{\"tracegroupgap\":0},\"title\":{\"text\":\"COVID Deaths 2023 by Age Group - As of 9\\u002f27\\u002f23\"},\"barmode\":\"relative\"},                        {\"responsive\": true}                    ).then(function(){\n",
       "                            \n",
       "var gd = document.getElementById('b9262d13-789e-4ad7-a093-17c3abc38cd1');\n",
       "var x = new MutationObserver(function (mutations, observer) {{\n",
       "        var display = window.getComputedStyle(gd).display;\n",
       "        if (!display || display === 'none') {{\n",
       "            console.log([gd, 'removed!']);\n",
       "            Plotly.purge(gd);\n",
       "            observer.disconnect();\n",
       "        }}\n",
       "}});\n",
       "\n",
       "// Listen for the removal of the full notebook cells\n",
       "var notebookContainer = gd.closest('#notebook-container');\n",
       "if (notebookContainer) {{\n",
       "    x.observe(notebookContainer, {childList: true});\n",
       "}}\n",
       "\n",
       "// Listen for the clearing of the current output cell\n",
       "var outputEl = gd.closest('.output');\n",
       "if (outputEl) {{\n",
       "    x.observe(outputEl, {childList: true});\n",
       "}}\n",
       "\n",
       "                        })                };                            </script>        </div>\n",
       "</body>\n",
       "</html>"
      ]
     },
     "metadata": {}
    }
   ],
   "source": [
    "covid_deaths_by_age = (\n",
    "    df\n",
    "    .filter(\n",
    "        pl.col('State')=='United States',\n",
    "        pl.col('Year') == 2023,\n",
    "        pl.col('Age Group') != 'All Ages',\n",
    "        pl.col('Sex') == 'All Sexes'\n",
    "    )\n",
    "    .group_by('Age Group')\n",
    "    .agg(pl.col('COVID-19 Deaths').sum())\n",
    "    .sort(by='COVID-19 Deaths', descending=True)\n",
    ")\n",
    "\n",
    "fig = px.bar(\n",
    "    covid_deaths_by_age,\n",
    "    x='Age Group',\n",
    "    y='COVID-19 Deaths',\n",
    "    title='COVID Deaths 2023 by Age Group - As of 9/27/23'\n",
    ")\n",
    "\n",
    "fig.update_layout(xaxis_title=None)\n",
    "fig.show()\n"
   ]
  },
  {
   "cell_type": "markdown",
   "source": [
    "#Display the number of COVID deaths in 2023 in the US by the top five states?"
   ],
   "metadata": {
    "id": "aZX0dPx0LNqi"
   }
  },
  {
   "cell_type": "code",
   "execution_count": null,
   "metadata": {
    "id": "m9dJWnIqc6_8",
    "outputId": "b8087a8b-5360-4abe-fec5-66c2ab016903",
    "colab": {
     "base_uri": "https://localhost:8080/",
     "height": 542
    }
   },
   "outputs": [
    {
     "output_type": "display_data",
     "data": {
      "text/html": [
       "<html>\n",
       "<head><meta charset=\"utf-8\" /></head>\n",
       "<body>\n",
       "    <div>            <script src=\"https://cdnjs.cloudflare.com/ajax/libs/mathjax/2.7.5/MathJax.js?config=TeX-AMS-MML_SVG\"></script><script type=\"text/javascript\">if (window.MathJax && window.MathJax.Hub && window.MathJax.Hub.Config) {window.MathJax.Hub.Config({SVG: {font: \"STIX-Web\"}});}</script>                <script type=\"text/javascript\">window.PlotlyConfig = {MathJaxConfig: 'local'};</script>\n",
       "        <script charset=\"utf-8\" src=\"https://cdn.plot.ly/plotly-2.35.2.min.js\"></script>                <div id=\"8ffff313-ceea-4f23-a74e-bb85e234780f\" class=\"plotly-graph-div\" style=\"height:525px; width:100%;\"></div>            <script type=\"text/javascript\">                                    window.PLOTLYENV=window.PLOTLYENV || {};                                    if (document.getElementById(\"8ffff313-ceea-4f23-a74e-bb85e234780f\")) {                    Plotly.newPlot(                        \"8ffff313-ceea-4f23-a74e-bb85e234780f\",                        [{\"alignmentgroup\":\"True\",\"hovertemplate\":\"State=%{x}\\u003cbr\\u003eCOVID-19 Deaths=%{y}\\u003cextra\\u003e\\u003c\\u002fextra\\u003e\",\"legendgroup\":\"\",\"marker\":{\"color\":\"#636efa\",\"pattern\":{\"shape\":\"\"}},\"name\":\"\",\"offsetgroup\":\"\",\"orientation\":\"v\",\"showlegend\":false,\"textposition\":\"auto\",\"x\":[\"California\",\"Florida\",\"Texas\",\"Pennsylvania\",\"New York\"],\"xaxis\":\"x\",\"y\":[4914,4296,3478,2454,2186],\"yaxis\":\"y\",\"type\":\"bar\"}],                        {\"template\":{\"data\":{\"histogram2dcontour\":[{\"type\":\"histogram2dcontour\",\"colorbar\":{\"outlinewidth\":0,\"ticks\":\"\"},\"colorscale\":[[0.0,\"#0d0887\"],[0.1111111111111111,\"#46039f\"],[0.2222222222222222,\"#7201a8\"],[0.3333333333333333,\"#9c179e\"],[0.4444444444444444,\"#bd3786\"],[0.5555555555555556,\"#d8576b\"],[0.6666666666666666,\"#ed7953\"],[0.7777777777777778,\"#fb9f3a\"],[0.8888888888888888,\"#fdca26\"],[1.0,\"#f0f921\"]]}],\"choropleth\":[{\"type\":\"choropleth\",\"colorbar\":{\"outlinewidth\":0,\"ticks\":\"\"}}],\"histogram2d\":[{\"type\":\"histogram2d\",\"colorbar\":{\"outlinewidth\":0,\"ticks\":\"\"},\"colorscale\":[[0.0,\"#0d0887\"],[0.1111111111111111,\"#46039f\"],[0.2222222222222222,\"#7201a8\"],[0.3333333333333333,\"#9c179e\"],[0.4444444444444444,\"#bd3786\"],[0.5555555555555556,\"#d8576b\"],[0.6666666666666666,\"#ed7953\"],[0.7777777777777778,\"#fb9f3a\"],[0.8888888888888888,\"#fdca26\"],[1.0,\"#f0f921\"]]}],\"heatmap\":[{\"type\":\"heatmap\",\"colorbar\":{\"outlinewidth\":0,\"ticks\":\"\"},\"colorscale\":[[0.0,\"#0d0887\"],[0.1111111111111111,\"#46039f\"],[0.2222222222222222,\"#7201a8\"],[0.3333333333333333,\"#9c179e\"],[0.4444444444444444,\"#bd3786\"],[0.5555555555555556,\"#d8576b\"],[0.6666666666666666,\"#ed7953\"],[0.7777777777777778,\"#fb9f3a\"],[0.8888888888888888,\"#fdca26\"],[1.0,\"#f0f921\"]]}],\"heatmapgl\":[{\"type\":\"heatmapgl\",\"colorbar\":{\"outlinewidth\":0,\"ticks\":\"\"},\"colorscale\":[[0.0,\"#0d0887\"],[0.1111111111111111,\"#46039f\"],[0.2222222222222222,\"#7201a8\"],[0.3333333333333333,\"#9c179e\"],[0.4444444444444444,\"#bd3786\"],[0.5555555555555556,\"#d8576b\"],[0.6666666666666666,\"#ed7953\"],[0.7777777777777778,\"#fb9f3a\"],[0.8888888888888888,\"#fdca26\"],[1.0,\"#f0f921\"]]}],\"contourcarpet\":[{\"type\":\"contourcarpet\",\"colorbar\":{\"outlinewidth\":0,\"ticks\":\"\"}}],\"contour\":[{\"type\":\"contour\",\"colorbar\":{\"outlinewidth\":0,\"ticks\":\"\"},\"colorscale\":[[0.0,\"#0d0887\"],[0.1111111111111111,\"#46039f\"],[0.2222222222222222,\"#7201a8\"],[0.3333333333333333,\"#9c179e\"],[0.4444444444444444,\"#bd3786\"],[0.5555555555555556,\"#d8576b\"],[0.6666666666666666,\"#ed7953\"],[0.7777777777777778,\"#fb9f3a\"],[0.8888888888888888,\"#fdca26\"],[1.0,\"#f0f921\"]]}],\"surface\":[{\"type\":\"surface\",\"colorbar\":{\"outlinewidth\":0,\"ticks\":\"\"},\"colorscale\":[[0.0,\"#0d0887\"],[0.1111111111111111,\"#46039f\"],[0.2222222222222222,\"#7201a8\"],[0.3333333333333333,\"#9c179e\"],[0.4444444444444444,\"#bd3786\"],[0.5555555555555556,\"#d8576b\"],[0.6666666666666666,\"#ed7953\"],[0.7777777777777778,\"#fb9f3a\"],[0.8888888888888888,\"#fdca26\"],[1.0,\"#f0f921\"]]}],\"mesh3d\":[{\"type\":\"mesh3d\",\"colorbar\":{\"outlinewidth\":0,\"ticks\":\"\"}}],\"scatter\":[{\"fillpattern\":{\"fillmode\":\"overlay\",\"size\":10,\"solidity\":0.2},\"type\":\"scatter\"}],\"parcoords\":[{\"type\":\"parcoords\",\"line\":{\"colorbar\":{\"outlinewidth\":0,\"ticks\":\"\"}}}],\"scatterpolargl\":[{\"type\":\"scatterpolargl\",\"marker\":{\"colorbar\":{\"outlinewidth\":0,\"ticks\":\"\"}}}],\"bar\":[{\"error_x\":{\"color\":\"#2a3f5f\"},\"error_y\":{\"color\":\"#2a3f5f\"},\"marker\":{\"line\":{\"color\":\"#E5ECF6\",\"width\":0.5},\"pattern\":{\"fillmode\":\"overlay\",\"size\":10,\"solidity\":0.2}},\"type\":\"bar\"}],\"scattergeo\":[{\"type\":\"scattergeo\",\"marker\":{\"colorbar\":{\"outlinewidth\":0,\"ticks\":\"\"}}}],\"scatterpolar\":[{\"type\":\"scatterpolar\",\"marker\":{\"colorbar\":{\"outlinewidth\":0,\"ticks\":\"\"}}}],\"histogram\":[{\"marker\":{\"pattern\":{\"fillmode\":\"overlay\",\"size\":10,\"solidity\":0.2}},\"type\":\"histogram\"}],\"scattergl\":[{\"type\":\"scattergl\",\"marker\":{\"colorbar\":{\"outlinewidth\":0,\"ticks\":\"\"}}}],\"scatter3d\":[{\"type\":\"scatter3d\",\"line\":{\"colorbar\":{\"outlinewidth\":0,\"ticks\":\"\"}},\"marker\":{\"colorbar\":{\"outlinewidth\":0,\"ticks\":\"\"}}}],\"scattermapbox\":[{\"type\":\"scattermapbox\",\"marker\":{\"colorbar\":{\"outlinewidth\":0,\"ticks\":\"\"}}}],\"scatterternary\":[{\"type\":\"scatterternary\",\"marker\":{\"colorbar\":{\"outlinewidth\":0,\"ticks\":\"\"}}}],\"scattercarpet\":[{\"type\":\"scattercarpet\",\"marker\":{\"colorbar\":{\"outlinewidth\":0,\"ticks\":\"\"}}}],\"carpet\":[{\"aaxis\":{\"endlinecolor\":\"#2a3f5f\",\"gridcolor\":\"white\",\"linecolor\":\"white\",\"minorgridcolor\":\"white\",\"startlinecolor\":\"#2a3f5f\"},\"baxis\":{\"endlinecolor\":\"#2a3f5f\",\"gridcolor\":\"white\",\"linecolor\":\"white\",\"minorgridcolor\":\"white\",\"startlinecolor\":\"#2a3f5f\"},\"type\":\"carpet\"}],\"table\":[{\"cells\":{\"fill\":{\"color\":\"#EBF0F8\"},\"line\":{\"color\":\"white\"}},\"header\":{\"fill\":{\"color\":\"#C8D4E3\"},\"line\":{\"color\":\"white\"}},\"type\":\"table\"}],\"barpolar\":[{\"marker\":{\"line\":{\"color\":\"#E5ECF6\",\"width\":0.5},\"pattern\":{\"fillmode\":\"overlay\",\"size\":10,\"solidity\":0.2}},\"type\":\"barpolar\"}],\"pie\":[{\"automargin\":true,\"type\":\"pie\"}]},\"layout\":{\"autotypenumbers\":\"strict\",\"colorway\":[\"#636efa\",\"#EF553B\",\"#00cc96\",\"#ab63fa\",\"#FFA15A\",\"#19d3f3\",\"#FF6692\",\"#B6E880\",\"#FF97FF\",\"#FECB52\"],\"font\":{\"color\":\"#2a3f5f\"},\"hovermode\":\"closest\",\"hoverlabel\":{\"align\":\"left\"},\"paper_bgcolor\":\"white\",\"plot_bgcolor\":\"#E5ECF6\",\"polar\":{\"bgcolor\":\"#E5ECF6\",\"angularaxis\":{\"gridcolor\":\"white\",\"linecolor\":\"white\",\"ticks\":\"\"},\"radialaxis\":{\"gridcolor\":\"white\",\"linecolor\":\"white\",\"ticks\":\"\"}},\"ternary\":{\"bgcolor\":\"#E5ECF6\",\"aaxis\":{\"gridcolor\":\"white\",\"linecolor\":\"white\",\"ticks\":\"\"},\"baxis\":{\"gridcolor\":\"white\",\"linecolor\":\"white\",\"ticks\":\"\"},\"caxis\":{\"gridcolor\":\"white\",\"linecolor\":\"white\",\"ticks\":\"\"}},\"coloraxis\":{\"colorbar\":{\"outlinewidth\":0,\"ticks\":\"\"}},\"colorscale\":{\"sequential\":[[0.0,\"#0d0887\"],[0.1111111111111111,\"#46039f\"],[0.2222222222222222,\"#7201a8\"],[0.3333333333333333,\"#9c179e\"],[0.4444444444444444,\"#bd3786\"],[0.5555555555555556,\"#d8576b\"],[0.6666666666666666,\"#ed7953\"],[0.7777777777777778,\"#fb9f3a\"],[0.8888888888888888,\"#fdca26\"],[1.0,\"#f0f921\"]],\"sequentialminus\":[[0.0,\"#0d0887\"],[0.1111111111111111,\"#46039f\"],[0.2222222222222222,\"#7201a8\"],[0.3333333333333333,\"#9c179e\"],[0.4444444444444444,\"#bd3786\"],[0.5555555555555556,\"#d8576b\"],[0.6666666666666666,\"#ed7953\"],[0.7777777777777778,\"#fb9f3a\"],[0.8888888888888888,\"#fdca26\"],[1.0,\"#f0f921\"]],\"diverging\":[[0,\"#8e0152\"],[0.1,\"#c51b7d\"],[0.2,\"#de77ae\"],[0.3,\"#f1b6da\"],[0.4,\"#fde0ef\"],[0.5,\"#f7f7f7\"],[0.6,\"#e6f5d0\"],[0.7,\"#b8e186\"],[0.8,\"#7fbc41\"],[0.9,\"#4d9221\"],[1,\"#276419\"]]},\"xaxis\":{\"gridcolor\":\"white\",\"linecolor\":\"white\",\"ticks\":\"\",\"title\":{\"standoff\":15},\"zerolinecolor\":\"white\",\"automargin\":true,\"zerolinewidth\":2},\"yaxis\":{\"gridcolor\":\"white\",\"linecolor\":\"white\",\"ticks\":\"\",\"title\":{\"standoff\":15},\"zerolinecolor\":\"white\",\"automargin\":true,\"zerolinewidth\":2},\"scene\":{\"xaxis\":{\"backgroundcolor\":\"#E5ECF6\",\"gridcolor\":\"white\",\"linecolor\":\"white\",\"showbackground\":true,\"ticks\":\"\",\"zerolinecolor\":\"white\",\"gridwidth\":2},\"yaxis\":{\"backgroundcolor\":\"#E5ECF6\",\"gridcolor\":\"white\",\"linecolor\":\"white\",\"showbackground\":true,\"ticks\":\"\",\"zerolinecolor\":\"white\",\"gridwidth\":2},\"zaxis\":{\"backgroundcolor\":\"#E5ECF6\",\"gridcolor\":\"white\",\"linecolor\":\"white\",\"showbackground\":true,\"ticks\":\"\",\"zerolinecolor\":\"white\",\"gridwidth\":2}},\"shapedefaults\":{\"line\":{\"color\":\"#2a3f5f\"}},\"annotationdefaults\":{\"arrowcolor\":\"#2a3f5f\",\"arrowhead\":0,\"arrowwidth\":1},\"geo\":{\"bgcolor\":\"white\",\"landcolor\":\"#E5ECF6\",\"subunitcolor\":\"white\",\"showland\":true,\"showlakes\":true,\"lakecolor\":\"white\"},\"title\":{\"x\":0.05},\"mapbox\":{\"style\":\"light\"}}},\"xaxis\":{\"anchor\":\"y\",\"domain\":[0.0,1.0],\"title\":{}},\"yaxis\":{\"anchor\":\"x\",\"domain\":[0.0,1.0],\"title\":{\"text\":\"COVID-19 Deaths\"}},\"legend\":{\"tracegroupgap\":0},\"title\":{\"text\":\"COVID Deaths 2023 by Top 5 States - As of 9\\u002f27\\u002f23\"},\"barmode\":\"relative\"},                        {\"responsive\": true}                    ).then(function(){\n",
       "                            \n",
       "var gd = document.getElementById('8ffff313-ceea-4f23-a74e-bb85e234780f');\n",
       "var x = new MutationObserver(function (mutations, observer) {{\n",
       "        var display = window.getComputedStyle(gd).display;\n",
       "        if (!display || display === 'none') {{\n",
       "            console.log([gd, 'removed!']);\n",
       "            Plotly.purge(gd);\n",
       "            observer.disconnect();\n",
       "        }}\n",
       "}});\n",
       "\n",
       "// Listen for the removal of the full notebook cells\n",
       "var notebookContainer = gd.closest('#notebook-container');\n",
       "if (notebookContainer) {{\n",
       "    x.observe(notebookContainer, {childList: true});\n",
       "}}\n",
       "\n",
       "// Listen for the clearing of the current output cell\n",
       "var outputEl = gd.closest('.output');\n",
       "if (outputEl) {{\n",
       "    x.observe(outputEl, {childList: true});\n",
       "}}\n",
       "\n",
       "                        })                };                            </script>        </div>\n",
       "</body>\n",
       "</html>"
      ]
     },
     "metadata": {}
    }
   ],
   "source": [
    "covid_deaths_by_top_5_states = (\n",
    "    df\n",
    "    .filter(\n",
    "        pl.col('State') != 'United States',\n",
    "        pl.col('Year') == 2023,\n",
    "        pl.col('Age Group') == 'All Ages',\n",
    "        pl.col('Sex') == 'All Sexes'\n",
    "    )\n",
    "    .group_by('State')\n",
    "    .agg(pl.col('COVID-19 Deaths').sum())\n",
    "    .sort(by='COVID-19 Deaths', descending=True)\n",
    "    .head()\n",
    ")\n",
    "\n",
    "fig = px.bar(\n",
    "    covid_deaths_by_top_5_states,\n",
    "    x='State',\n",
    "    y='COVID-19 Deaths',\n",
    "    title='COVID Deaths 2023 by Top 5 States - As of 9/27/23',\n",
    ")\n",
    "\n",
    "fig.update_layout(xaxis_title=None)\n",
    "fig.show()"
   ]
  },
  {
   "cell_type": "markdown",
   "source": [
    "#Display COVID deaths in 2023 in the US by sex, with data labels?"
   ],
   "metadata": {
    "id": "h4t0rc2lLYCI"
   }
  },
  {
   "cell_type": "code",
   "execution_count": null,
   "metadata": {
    "id": "ufoP1k0nc6_8",
    "outputId": "efff5e50-e5d2-463b-98e2-568ef9b5a81e",
    "colab": {
     "base_uri": "https://localhost:8080/",
     "height": 542
    }
   },
   "outputs": [
    {
     "output_type": "display_data",
     "data": {
      "text/html": [
       "<html>\n",
       "<head><meta charset=\"utf-8\" /></head>\n",
       "<body>\n",
       "    <div>            <script src=\"https://cdnjs.cloudflare.com/ajax/libs/mathjax/2.7.5/MathJax.js?config=TeX-AMS-MML_SVG\"></script><script type=\"text/javascript\">if (window.MathJax && window.MathJax.Hub && window.MathJax.Hub.Config) {window.MathJax.Hub.Config({SVG: {font: \"STIX-Web\"}});}</script>                <script type=\"text/javascript\">window.PlotlyConfig = {MathJaxConfig: 'local'};</script>\n",
       "        <script charset=\"utf-8\" src=\"https://cdn.plot.ly/plotly-2.35.2.min.js\"></script>                <div id=\"ccc82046-2390-48d1-9006-841ea70cff35\" class=\"plotly-graph-div\" style=\"height:525px; width:100%;\"></div>            <script type=\"text/javascript\">                                    window.PLOTLYENV=window.PLOTLYENV || {};                                    if (document.getElementById(\"ccc82046-2390-48d1-9006-841ea70cff35\")) {                    Plotly.newPlot(                        \"ccc82046-2390-48d1-9006-841ea70cff35\",                        [{\"alignmentgroup\":\"True\",\"hovertemplate\":\"Sex=%{x}\\u003cbr\\u003eCOVID-19 Deaths=%{y}\\u003cextra\\u003e\\u003c\\u002fextra\\u003e\",\"legendgroup\":\"\",\"marker\":{\"color\":\"#636efa\",\"pattern\":{\"shape\":\"\"}},\"name\":\"\",\"offsetgroup\":\"\",\"orientation\":\"v\",\"showlegend\":false,\"textposition\":\"inside\",\"texttemplate\":\"%{y:.2s}\",\"x\":[\"Male\",\"Female\"],\"xaxis\":\"x\",\"y\":[26585,25099],\"yaxis\":\"y\",\"type\":\"bar\",\"textfont\":{\"size\":12},\"textangle\":0,\"width\":0.3}],                        {\"template\":{\"data\":{\"histogram2dcontour\":[{\"type\":\"histogram2dcontour\",\"colorbar\":{\"outlinewidth\":0,\"ticks\":\"\"},\"colorscale\":[[0.0,\"#0d0887\"],[0.1111111111111111,\"#46039f\"],[0.2222222222222222,\"#7201a8\"],[0.3333333333333333,\"#9c179e\"],[0.4444444444444444,\"#bd3786\"],[0.5555555555555556,\"#d8576b\"],[0.6666666666666666,\"#ed7953\"],[0.7777777777777778,\"#fb9f3a\"],[0.8888888888888888,\"#fdca26\"],[1.0,\"#f0f921\"]]}],\"choropleth\":[{\"type\":\"choropleth\",\"colorbar\":{\"outlinewidth\":0,\"ticks\":\"\"}}],\"histogram2d\":[{\"type\":\"histogram2d\",\"colorbar\":{\"outlinewidth\":0,\"ticks\":\"\"},\"colorscale\":[[0.0,\"#0d0887\"],[0.1111111111111111,\"#46039f\"],[0.2222222222222222,\"#7201a8\"],[0.3333333333333333,\"#9c179e\"],[0.4444444444444444,\"#bd3786\"],[0.5555555555555556,\"#d8576b\"],[0.6666666666666666,\"#ed7953\"],[0.7777777777777778,\"#fb9f3a\"],[0.8888888888888888,\"#fdca26\"],[1.0,\"#f0f921\"]]}],\"heatmap\":[{\"type\":\"heatmap\",\"colorbar\":{\"outlinewidth\":0,\"ticks\":\"\"},\"colorscale\":[[0.0,\"#0d0887\"],[0.1111111111111111,\"#46039f\"],[0.2222222222222222,\"#7201a8\"],[0.3333333333333333,\"#9c179e\"],[0.4444444444444444,\"#bd3786\"],[0.5555555555555556,\"#d8576b\"],[0.6666666666666666,\"#ed7953\"],[0.7777777777777778,\"#fb9f3a\"],[0.8888888888888888,\"#fdca26\"],[1.0,\"#f0f921\"]]}],\"heatmapgl\":[{\"type\":\"heatmapgl\",\"colorbar\":{\"outlinewidth\":0,\"ticks\":\"\"},\"colorscale\":[[0.0,\"#0d0887\"],[0.1111111111111111,\"#46039f\"],[0.2222222222222222,\"#7201a8\"],[0.3333333333333333,\"#9c179e\"],[0.4444444444444444,\"#bd3786\"],[0.5555555555555556,\"#d8576b\"],[0.6666666666666666,\"#ed7953\"],[0.7777777777777778,\"#fb9f3a\"],[0.8888888888888888,\"#fdca26\"],[1.0,\"#f0f921\"]]}],\"contourcarpet\":[{\"type\":\"contourcarpet\",\"colorbar\":{\"outlinewidth\":0,\"ticks\":\"\"}}],\"contour\":[{\"type\":\"contour\",\"colorbar\":{\"outlinewidth\":0,\"ticks\":\"\"},\"colorscale\":[[0.0,\"#0d0887\"],[0.1111111111111111,\"#46039f\"],[0.2222222222222222,\"#7201a8\"],[0.3333333333333333,\"#9c179e\"],[0.4444444444444444,\"#bd3786\"],[0.5555555555555556,\"#d8576b\"],[0.6666666666666666,\"#ed7953\"],[0.7777777777777778,\"#fb9f3a\"],[0.8888888888888888,\"#fdca26\"],[1.0,\"#f0f921\"]]}],\"surface\":[{\"type\":\"surface\",\"colorbar\":{\"outlinewidth\":0,\"ticks\":\"\"},\"colorscale\":[[0.0,\"#0d0887\"],[0.1111111111111111,\"#46039f\"],[0.2222222222222222,\"#7201a8\"],[0.3333333333333333,\"#9c179e\"],[0.4444444444444444,\"#bd3786\"],[0.5555555555555556,\"#d8576b\"],[0.6666666666666666,\"#ed7953\"],[0.7777777777777778,\"#fb9f3a\"],[0.8888888888888888,\"#fdca26\"],[1.0,\"#f0f921\"]]}],\"mesh3d\":[{\"type\":\"mesh3d\",\"colorbar\":{\"outlinewidth\":0,\"ticks\":\"\"}}],\"scatter\":[{\"fillpattern\":{\"fillmode\":\"overlay\",\"size\":10,\"solidity\":0.2},\"type\":\"scatter\"}],\"parcoords\":[{\"type\":\"parcoords\",\"line\":{\"colorbar\":{\"outlinewidth\":0,\"ticks\":\"\"}}}],\"scatterpolargl\":[{\"type\":\"scatterpolargl\",\"marker\":{\"colorbar\":{\"outlinewidth\":0,\"ticks\":\"\"}}}],\"bar\":[{\"error_x\":{\"color\":\"#2a3f5f\"},\"error_y\":{\"color\":\"#2a3f5f\"},\"marker\":{\"line\":{\"color\":\"#E5ECF6\",\"width\":0.5},\"pattern\":{\"fillmode\":\"overlay\",\"size\":10,\"solidity\":0.2}},\"type\":\"bar\"}],\"scattergeo\":[{\"type\":\"scattergeo\",\"marker\":{\"colorbar\":{\"outlinewidth\":0,\"ticks\":\"\"}}}],\"scatterpolar\":[{\"type\":\"scatterpolar\",\"marker\":{\"colorbar\":{\"outlinewidth\":0,\"ticks\":\"\"}}}],\"histogram\":[{\"marker\":{\"pattern\":{\"fillmode\":\"overlay\",\"size\":10,\"solidity\":0.2}},\"type\":\"histogram\"}],\"scattergl\":[{\"type\":\"scattergl\",\"marker\":{\"colorbar\":{\"outlinewidth\":0,\"ticks\":\"\"}}}],\"scatter3d\":[{\"type\":\"scatter3d\",\"line\":{\"colorbar\":{\"outlinewidth\":0,\"ticks\":\"\"}},\"marker\":{\"colorbar\":{\"outlinewidth\":0,\"ticks\":\"\"}}}],\"scattermapbox\":[{\"type\":\"scattermapbox\",\"marker\":{\"colorbar\":{\"outlinewidth\":0,\"ticks\":\"\"}}}],\"scatterternary\":[{\"type\":\"scatterternary\",\"marker\":{\"colorbar\":{\"outlinewidth\":0,\"ticks\":\"\"}}}],\"scattercarpet\":[{\"type\":\"scattercarpet\",\"marker\":{\"colorbar\":{\"outlinewidth\":0,\"ticks\":\"\"}}}],\"carpet\":[{\"aaxis\":{\"endlinecolor\":\"#2a3f5f\",\"gridcolor\":\"white\",\"linecolor\":\"white\",\"minorgridcolor\":\"white\",\"startlinecolor\":\"#2a3f5f\"},\"baxis\":{\"endlinecolor\":\"#2a3f5f\",\"gridcolor\":\"white\",\"linecolor\":\"white\",\"minorgridcolor\":\"white\",\"startlinecolor\":\"#2a3f5f\"},\"type\":\"carpet\"}],\"table\":[{\"cells\":{\"fill\":{\"color\":\"#EBF0F8\"},\"line\":{\"color\":\"white\"}},\"header\":{\"fill\":{\"color\":\"#C8D4E3\"},\"line\":{\"color\":\"white\"}},\"type\":\"table\"}],\"barpolar\":[{\"marker\":{\"line\":{\"color\":\"#E5ECF6\",\"width\":0.5},\"pattern\":{\"fillmode\":\"overlay\",\"size\":10,\"solidity\":0.2}},\"type\":\"barpolar\"}],\"pie\":[{\"automargin\":true,\"type\":\"pie\"}]},\"layout\":{\"autotypenumbers\":\"strict\",\"colorway\":[\"#636efa\",\"#EF553B\",\"#00cc96\",\"#ab63fa\",\"#FFA15A\",\"#19d3f3\",\"#FF6692\",\"#B6E880\",\"#FF97FF\",\"#FECB52\"],\"font\":{\"color\":\"#2a3f5f\"},\"hovermode\":\"closest\",\"hoverlabel\":{\"align\":\"left\"},\"paper_bgcolor\":\"white\",\"plot_bgcolor\":\"#E5ECF6\",\"polar\":{\"bgcolor\":\"#E5ECF6\",\"angularaxis\":{\"gridcolor\":\"white\",\"linecolor\":\"white\",\"ticks\":\"\"},\"radialaxis\":{\"gridcolor\":\"white\",\"linecolor\":\"white\",\"ticks\":\"\"}},\"ternary\":{\"bgcolor\":\"#E5ECF6\",\"aaxis\":{\"gridcolor\":\"white\",\"linecolor\":\"white\",\"ticks\":\"\"},\"baxis\":{\"gridcolor\":\"white\",\"linecolor\":\"white\",\"ticks\":\"\"},\"caxis\":{\"gridcolor\":\"white\",\"linecolor\":\"white\",\"ticks\":\"\"}},\"coloraxis\":{\"colorbar\":{\"outlinewidth\":0,\"ticks\":\"\"}},\"colorscale\":{\"sequential\":[[0.0,\"#0d0887\"],[0.1111111111111111,\"#46039f\"],[0.2222222222222222,\"#7201a8\"],[0.3333333333333333,\"#9c179e\"],[0.4444444444444444,\"#bd3786\"],[0.5555555555555556,\"#d8576b\"],[0.6666666666666666,\"#ed7953\"],[0.7777777777777778,\"#fb9f3a\"],[0.8888888888888888,\"#fdca26\"],[1.0,\"#f0f921\"]],\"sequentialminus\":[[0.0,\"#0d0887\"],[0.1111111111111111,\"#46039f\"],[0.2222222222222222,\"#7201a8\"],[0.3333333333333333,\"#9c179e\"],[0.4444444444444444,\"#bd3786\"],[0.5555555555555556,\"#d8576b\"],[0.6666666666666666,\"#ed7953\"],[0.7777777777777778,\"#fb9f3a\"],[0.8888888888888888,\"#fdca26\"],[1.0,\"#f0f921\"]],\"diverging\":[[0,\"#8e0152\"],[0.1,\"#c51b7d\"],[0.2,\"#de77ae\"],[0.3,\"#f1b6da\"],[0.4,\"#fde0ef\"],[0.5,\"#f7f7f7\"],[0.6,\"#e6f5d0\"],[0.7,\"#b8e186\"],[0.8,\"#7fbc41\"],[0.9,\"#4d9221\"],[1,\"#276419\"]]},\"xaxis\":{\"gridcolor\":\"white\",\"linecolor\":\"white\",\"ticks\":\"\",\"title\":{\"standoff\":15},\"zerolinecolor\":\"white\",\"automargin\":true,\"zerolinewidth\":2},\"yaxis\":{\"gridcolor\":\"white\",\"linecolor\":\"white\",\"ticks\":\"\",\"title\":{\"standoff\":15},\"zerolinecolor\":\"white\",\"automargin\":true,\"zerolinewidth\":2},\"scene\":{\"xaxis\":{\"backgroundcolor\":\"#E5ECF6\",\"gridcolor\":\"white\",\"linecolor\":\"white\",\"showbackground\":true,\"ticks\":\"\",\"zerolinecolor\":\"white\",\"gridwidth\":2},\"yaxis\":{\"backgroundcolor\":\"#E5ECF6\",\"gridcolor\":\"white\",\"linecolor\":\"white\",\"showbackground\":true,\"ticks\":\"\",\"zerolinecolor\":\"white\",\"gridwidth\":2},\"zaxis\":{\"backgroundcolor\":\"#E5ECF6\",\"gridcolor\":\"white\",\"linecolor\":\"white\",\"showbackground\":true,\"ticks\":\"\",\"zerolinecolor\":\"white\",\"gridwidth\":2}},\"shapedefaults\":{\"line\":{\"color\":\"#2a3f5f\"}},\"annotationdefaults\":{\"arrowcolor\":\"#2a3f5f\",\"arrowhead\":0,\"arrowwidth\":1},\"geo\":{\"bgcolor\":\"white\",\"landcolor\":\"#E5ECF6\",\"subunitcolor\":\"white\",\"showland\":true,\"showlakes\":true,\"lakecolor\":\"white\"},\"title\":{\"x\":0.05},\"mapbox\":{\"style\":\"light\"}}},\"xaxis\":{\"anchor\":\"y\",\"domain\":[0.0,1.0],\"title\":{}},\"yaxis\":{\"anchor\":\"x\",\"domain\":[0.0,1.0],\"title\":{\"text\":\"COVID-19 Deaths\"}},\"legend\":{\"tracegroupgap\":0},\"title\":{\"text\":\"COVID Deaths 2023 by Sex - As of 9\\u002f27\\u002f23\"},\"barmode\":\"relative\"},                        {\"responsive\": true}                    ).then(function(){\n",
       "                            \n",
       "var gd = document.getElementById('ccc82046-2390-48d1-9006-841ea70cff35');\n",
       "var x = new MutationObserver(function (mutations, observer) {{\n",
       "        var display = window.getComputedStyle(gd).display;\n",
       "        if (!display || display === 'none') {{\n",
       "            console.log([gd, 'removed!']);\n",
       "            Plotly.purge(gd);\n",
       "            observer.disconnect();\n",
       "        }}\n",
       "}});\n",
       "\n",
       "// Listen for the removal of the full notebook cells\n",
       "var notebookContainer = gd.closest('#notebook-container');\n",
       "if (notebookContainer) {{\n",
       "    x.observe(notebookContainer, {childList: true});\n",
       "}}\n",
       "\n",
       "// Listen for the clearing of the current output cell\n",
       "var outputEl = gd.closest('.output');\n",
       "if (outputEl) {{\n",
       "    x.observe(outputEl, {childList: true});\n",
       "}}\n",
       "\n",
       "                        })                };                            </script>        </div>\n",
       "</body>\n",
       "</html>"
      ]
     },
     "metadata": {}
    }
   ],
   "source": [
    "covid_deaths_by_sex = (\n",
    "    df\n",
    "    .filter(\n",
    "        pl.col('State') == 'United States',\n",
    "        pl.col('Year') == 2023,\n",
    "        pl.col('Age Group') == 'All Ages',\n",
    "        pl.col('Sex') != 'All Sexes'\n",
    "    )\n",
    "    .group_by('Sex')\n",
    "    .agg(pl.col('COVID-19 Deaths').sum())\n",
    "    .sort(by='COVID-19 Deaths', descending=True)\n",
    "    .head()\n",
    ")\n",
    "\n",
    "fig = px.bar(\n",
    "    covid_deaths_by_sex,\n",
    "    x='Sex',\n",
    "    y='COVID-19 Deaths',\n",
    "    title='COVID Deaths 2023 by Sex - As of 9/27/23',\n",
    "    text_auto='.2s'\n",
    ")\n",
    "\n",
    "fig.update_layout(xaxis_title=None)\n",
    "fig.update_traces(width = 0.3, textfont_size=12, textangle=0, textposition='inside')\n",
    "fig.show()"
   ]
  },
  {
   "cell_type": "markdown",
   "source": [
    "#Build a scatterplot to analyze multiple variables. ?"
   ],
   "metadata": {
    "id": "SpTBNGkrLgu2"
   }
  },
  {
   "cell_type": "code",
   "source": [
    "!pip install us\n",
    "import us\n",
    "\n"
   ],
   "metadata": {
    "colab": {
     "base_uri": "https://localhost:8080/"
    },
    "id": "PE4ZgSuJMOhn",
    "outputId": "b05bd9f3-78bb-43f2-e0cd-ad49ed1404c6"
   },
   "execution_count": 71,
   "outputs": [
    {
     "output_type": "stream",
     "name": "stdout",
     "text": [
      "Requirement already satisfied: us in /usr/local/lib/python3.11/dist-packages (3.2.0)\n",
      "Requirement already satisfied: jellyfish in /usr/local/lib/python3.11/dist-packages (from us) (1.2.0)\n"
     ]
    }
   ]
  },
  {
   "cell_type": "code",
   "source": [
    "!pip install us\n",
    "!pip install pandas\n",
    "import us\n",
    "import pandas as pd\n",
    "!pip install us\n",
    "!pip install pandas\n",
    "import us\n",
    "import pandas as pd\n",
    "\n",
    "# Define us_state_division_dict if us_state_mappings module is unavailable\n",
    "us_state_division_dict = {\n",
    "    'Alabama': 'East South Central',\n",
    "    'Alaska': 'Pacific',\n",
    "    'Arizona': 'Mountain',\n",
    "    'Arkansas': 'West South Central',\n",
    "    'California': 'Pacific',\n",
    "    'Colorado': 'Mountain',\n",
    "    'Connecticut': 'New England',\n",
    "    'Delaware': 'South Atlantic',\n",
    "    'Florida': 'South Atlantic',\n",
    "    'Georgia': 'South Atlantic',\n",
    "    'Hawaii': 'Pacific',\n",
    "    'Idaho': 'Mountain',\n",
    "    'Illinois': 'East North Central',\n",
    "    'Indiana': 'East North Central',\n",
    "    'Iowa': 'West North Central',\n",
    "    'Kansas': 'West North Central',\n",
    "    'Kentucky': 'East South Central',\n",
    "    'Louisiana': 'West South Central',\n",
    "    'Maine': 'New England',\n",
    "    'Maryland': 'South Atlantic',\n",
    "    'Massachusetts': 'New England',\n",
    "    'Michigan': 'East North Central',\n",
    "    'Minnesota': 'West North Central',\n",
    "    'Mississippi': 'East South Central',\n",
    "    'Missouri': 'West North Central',\n",
    "    'Montana': 'Mountain',\n",
    "    'Nebraska': 'West North Central',\n",
    "    'Nevada': 'Mountain',\n",
    "    'New Hampshire': 'New England',\n",
    "    'New Jersey': 'Mid-Atlantic',\n",
    "    'New Mexico': 'Mountain',\n",
    "    'New York': 'Mid-Atlantic',\n",
    "    'North Carolina': 'South Atlantic',\n",
    "    'North Dakota': 'West North Central'\n",
    "}\n",
    ""
   ],
   "metadata": {
    "colab": {
     "base_uri": "https://localhost:8080/"
    },
    "id": "W9NvgI5NWHfk",
    "outputId": "3fa4a4ea-d536-4c37-cbac-f40abfc777a9"
   },
   "execution_count": 77,
   "outputs": [
    {
     "output_type": "stream",
     "name": "stdout",
     "text": [
      "Requirement already satisfied: us in /usr/local/lib/python3.11/dist-packages (3.2.0)\n",
      "Requirement already satisfied: jellyfish in /usr/local/lib/python3.11/dist-packages (from us) (1.2.0)\n",
      "Requirement already satisfied: pandas in /usr/local/lib/python3.11/dist-packages (2.2.2)\n",
      "Requirement already satisfied: numpy>=1.23.2 in /usr/local/lib/python3.11/dist-packages (from pandas) (2.0.2)\n",
      "Requirement already satisfied: python-dateutil>=2.8.2 in /usr/local/lib/python3.11/dist-packages (from pandas) (2.9.0.post0)\n",
      "Requirement already satisfied: pytz>=2020.1 in /usr/local/lib/python3.11/dist-packages (from pandas) (2025.2)\n",
      "Requirement already satisfied: tzdata>=2022.7 in /usr/local/lib/python3.11/dist-packages (from pandas) (2025.2)\n",
      "Requirement already satisfied: six>=1.5 in /usr/local/lib/python3.11/dist-packages (from python-dateutil>=2.8.2->pandas) (1.17.0)\n",
      "Requirement already satisfied: us in /usr/local/lib/python3.11/dist-packages (3.2.0)\n",
      "Requirement already satisfied: jellyfish in /usr/local/lib/python3.11/dist-packages (from us) (1.2.0)\n",
      "Requirement already satisfied: pandas in /usr/local/lib/python3.11/dist-packages (2.2.2)\n",
      "Requirement already satisfied: numpy>=1.23.2 in /usr/local/lib/python3.11/dist-packages (from pandas) (2.0.2)\n",
      "Requirement already satisfied: python-dateutil>=2.8.2 in /usr/local/lib/python3.11/dist-packages (from pandas) (2.9.0.post0)\n",
      "Requirement already satisfied: pytz>=2020.1 in /usr/local/lib/python3.11/dist-packages (from pandas) (2025.2)\n",
      "Requirement already satisfied: tzdata>=2022.7 in /usr/local/lib/python3.11/dist-packages (from pandas) (2025.2)\n",
      "Requirement already satisfied: six>=1.5 in /usr/local/lib/python3.11/dist-packages (from python-dateutil>=2.8.2->pandas) (1.17.0)\n"
     ]
    }
   ]
  },
  {
   "cell_type": "code",
   "execution_count": 78,
   "metadata": {
    "id": "qTXjQs1Gc6_9",
    "outputId": "2aad6ad8-f548-40cf-b5de-92aa0d86678a",
    "colab": {
     "base_uri": "https://localhost:8080/",
     "height": 454
    }
   },
   "outputs": [
    {
     "output_type": "error",
     "ename": "ModuleNotFoundError",
     "evalue": "No module named 'us_state_mappings'",
     "traceback": [
      "\u001B[0;31m---------------------------------------------------------------------------\u001B[0m",
      "\u001B[0;31mModuleNotFoundError\u001B[0m                       Traceback (most recent call last)",
      "\u001B[0;32m<ipython-input-78-06e32986bd28>\u001B[0m in \u001B[0;36m<cell line: 0>\u001B[0;34m()\u001B[0m\n\u001B[0;32m----> 1\u001B[0;31m \u001B[0;32mfrom\u001B[0m \u001B[0mus_state_mappings\u001B[0m \u001B[0;32mimport\u001B[0m \u001B[0mus_state_division_dict\u001B[0m\u001B[0;34m\u001B[0m\u001B[0;34m\u001B[0m\u001B[0m\n\u001B[0m\u001B[1;32m      2\u001B[0m \u001B[0;34m\u001B[0m\u001B[0m\n\u001B[1;32m      3\u001B[0m covid_deaths_vs_flu_deaths = (\n\u001B[1;32m      4\u001B[0m     \u001B[0mdf\u001B[0m\u001B[0;34m\u001B[0m\u001B[0;34m\u001B[0m\u001B[0m\n\u001B[1;32m      5\u001B[0m     .with_columns(\n",
      "\u001B[0;31mModuleNotFoundError\u001B[0m: No module named 'us_state_mappings'",
      "",
      "\u001B[0;31m---------------------------------------------------------------------------\u001B[0;32m\nNOTE: If your import is failing due to a missing package, you can\nmanually install dependencies using either !pip or !apt.\n\nTo view examples of installing some common dependencies, click the\n\"Open Examples\" button below.\n\u001B[0;31m---------------------------------------------------------------------------\u001B[0m\n"
     ],
     "errorDetails": {
      "actions": [
       {
        "action": "open_url",
        "actionText": "Open Examples",
        "url": "/notebooks/snippets/importing_libraries.ipynb"
       }
      ]
     }
    }
   ],
   "source": [
    "from us_state_mappings import us_state_division_dict\n",
    "\n",
    "covid_deaths_vs_flu_deaths = (\n",
    "    df\n",
    "    .with_columns(\n",
    "        pl.col('State').replace_strict(us_state_division_dict, default='Others').alias('Division')\n",
    "    )\n",
    "    .filter(\n",
    "        pl.col('State') != 'United States',\n",
    "        pl.col('Age Group') != 'All Ages',\n",
    "        pl.col('Sex') != 'All Sexes',\n",
    "        pl.col('Year') == 2023\n",
    "    )\n",
    "    .group_by('State', 'Division')\n",
    "    .agg(\n",
    "        pl.col('COVID-19 Deaths').sum(),\n",
    "        pl.col('Influenza Deaths').sum(),\n",
    "        pl.col('Pneumonia Deaths').sum()\n",
    "    )\n",
    ")\n",
    "\n",
    "fig = px.scatter(\n",
    "    covid_deaths_vs_flu_deaths,\n",
    "    x='COVID-19 Deaths',\n",
    "    y='Influenza Deaths',\n",
    "    color='Division',\n",
    "    size='Pneumonia Deaths',\n",
    "    hover_name='State',\n",
    "    title='COVID-19, Influenza, and Pneumonia Deaths 2023 by US States and Divisions'\n",
    ")\n",
    "\n",
    "fig.show()"
   ]
  },
  {
   "cell_type": "code",
   "execution_count": null,
   "metadata": {
    "id": "kYVNeOmHc6_9"
   },
   "outputs": [],
   "source": [
    "monthly_treand_by_year = (\n",
    "    df\n",
    "    .filter(\n",
    "        pl.col('State') == 'United States',\n",
    "        pl.col('Age Group') == 'All Ages',\n",
    "        pl.col('Sex') == 'All Sexes'\n",
    "    )\n",
    "    .group_by('Year', 'Month')\n",
    "    .agg(\n",
    "        pl.col('COVID-19 Deaths').sum(),\n",
    "    )\n",
    "    .sort(by='Month')\n",
    ")\n",
    "\n",
    "fig = px.line(\n",
    "    monthly_treand_by_year,\n",
    "    x='Month',\n",
    "    y='COVID-19 Deaths',\n",
    "    color='Year',\n",
    "    title='COVID-19 Deaths Monthly Trend - United States',\n",
    "    line_shape='spline'\n",
    ")\n",
    "\n",
    "fig.update_xaxes(dtick = 1)\n",
    "fig.update_layout(legend_traceorder='reversed')\n",
    "fig.show()"
   ]
  },
  {
   "cell_type": "markdown",
   "metadata": {
    "id": "tWC9LSNJc6_9"
   },
   "source": [
    "## Detecting and handling outliers  "
   ]
  },
  {
   "cell_type": "markdown",
   "metadata": {
    "id": "fL0H3QKhc6_9"
   },
   "source": [
    "### How to do it..."
   ]
  },
  {
   "cell_type": "code",
   "execution_count": null,
   "metadata": {
    "id": "b-peIrp7c6_-",
    "outputId": "95e2f64b-68b7-434e-cb33-4982839e60b3",
    "colab": {
     "base_uri": "https://localhost:8080/",
     "height": 255
    }
   },
   "outputs": [
    {
     "output_type": "execute_result",
     "data": {
      "text/plain": [
       "shape: (5, 6)\n",
       "┌──────────────┬─────────────┬──────────────┬─────────────┬─────────┬────────────┐\n",
       "│ sepal_length ┆ sepal_width ┆ petal_length ┆ petal_width ┆ species ┆ species_id │\n",
       "│ ---          ┆ ---         ┆ ---          ┆ ---         ┆ ---     ┆ ---        │\n",
       "│ f64          ┆ f64         ┆ f64          ┆ f64         ┆ str     ┆ i64        │\n",
       "╞══════════════╪═════════════╪══════════════╪═════════════╪═════════╪════════════╡\n",
       "│ 5.1          ┆ 3.5         ┆ 1.4          ┆ 0.2         ┆ setosa  ┆ 1          │\n",
       "│ 4.9          ┆ 3.0         ┆ 1.4          ┆ 0.2         ┆ setosa  ┆ 1          │\n",
       "│ 4.7          ┆ 3.2         ┆ 1.3          ┆ 0.2         ┆ setosa  ┆ 1          │\n",
       "│ 4.6          ┆ 3.1         ┆ 1.5          ┆ 0.2         ┆ setosa  ┆ 1          │\n",
       "│ 5.0          ┆ 3.6         ┆ 1.4          ┆ 0.2         ┆ setosa  ┆ 1          │\n",
       "└──────────────┴─────────────┴──────────────┴─────────────┴─────────┴────────────┘"
      ],
      "text/html": [
       "<div><style>\n",
       ".dataframe > thead > tr,\n",
       ".dataframe > tbody > tr {\n",
       "  text-align: right;\n",
       "  white-space: pre-wrap;\n",
       "}\n",
       "</style>\n",
       "<small>shape: (5, 6)</small><table border=\"1\" class=\"dataframe\"><thead><tr><th>sepal_length</th><th>sepal_width</th><th>petal_length</th><th>petal_width</th><th>species</th><th>species_id</th></tr><tr><td>f64</td><td>f64</td><td>f64</td><td>f64</td><td>str</td><td>i64</td></tr></thead><tbody><tr><td>5.1</td><td>3.5</td><td>1.4</td><td>0.2</td><td>&quot;setosa&quot;</td><td>1</td></tr><tr><td>4.9</td><td>3.0</td><td>1.4</td><td>0.2</td><td>&quot;setosa&quot;</td><td>1</td></tr><tr><td>4.7</td><td>3.2</td><td>1.3</td><td>0.2</td><td>&quot;setosa&quot;</td><td>1</td></tr><tr><td>4.6</td><td>3.1</td><td>1.5</td><td>0.2</td><td>&quot;setosa&quot;</td><td>1</td></tr><tr><td>5.0</td><td>3.6</td><td>1.4</td><td>0.2</td><td>&quot;setosa&quot;</td><td>1</td></tr></tbody></table></div>"
      ]
     },
     "metadata": {},
     "execution_count": 55
    }
   ],
   "source": [
    "import polars as pl\n",
    "import plotly\n",
    "df = pl.from_pandas(plotly.data.iris())\n",
    "df.head()"
   ]
  },
  {
   "cell_type": "code",
   "execution_count": null,
   "metadata": {
    "id": "iGBDDCq9c6_-",
    "outputId": "6d2663fd-ecd3-4cce-8310-a06a1cead6fa",
    "colab": {
     "base_uri": "https://localhost:8080/",
     "height": 542
    }
   },
   "outputs": [
    {
     "output_type": "display_data",
     "data": {
      "text/html": [
       "<html>\n",
       "<head><meta charset=\"utf-8\" /></head>\n",
       "<body>\n",
       "    <div>            <script src=\"https://cdnjs.cloudflare.com/ajax/libs/mathjax/2.7.5/MathJax.js?config=TeX-AMS-MML_SVG\"></script><script type=\"text/javascript\">if (window.MathJax && window.MathJax.Hub && window.MathJax.Hub.Config) {window.MathJax.Hub.Config({SVG: {font: \"STIX-Web\"}});}</script>                <script type=\"text/javascript\">window.PlotlyConfig = {MathJaxConfig: 'local'};</script>\n",
       "        <script charset=\"utf-8\" src=\"https://cdn.plot.ly/plotly-2.35.2.min.js\"></script>                <div id=\"3de42b29-5897-4296-85e0-1f2c24c881c0\" class=\"plotly-graph-div\" style=\"height:525px; width:500px;\"></div>            <script type=\"text/javascript\">                                    window.PLOTLYENV=window.PLOTLYENV || {};                                    if (document.getElementById(\"3de42b29-5897-4296-85e0-1f2c24c881c0\")) {                    Plotly.newPlot(                        \"3de42b29-5897-4296-85e0-1f2c24c881c0\",                        [{\"alignmentgroup\":\"True\",\"hovertemplate\":\"sepal_width=%{y}\\u003cextra\\u003e\\u003c\\u002fextra\\u003e\",\"legendgroup\":\"\",\"marker\":{\"color\":\"#636efa\"},\"name\":\"\",\"notched\":false,\"offsetgroup\":\"\",\"orientation\":\"v\",\"showlegend\":false,\"x0\":\" \",\"xaxis\":\"x\",\"y\":[3.5,3.0,3.2,3.1,3.6,3.9,3.4,3.4,2.9,3.1,3.7,3.4,3.0,3.0,4.0,4.4,3.9,3.5,3.8,3.8,3.4,3.7,3.6,3.3,3.4,3.0,3.4,3.5,3.4,3.2,3.1,3.4,4.1,4.2,3.1,3.2,3.5,3.1,3.0,3.4,3.5,2.3,3.2,3.5,3.8,3.0,3.8,3.2,3.7,3.3,3.2,3.2,3.1,2.3,2.8,2.8,3.3,2.4,2.9,2.7,2.0,3.0,2.2,2.9,2.9,3.1,3.0,2.7,2.2,2.5,3.2,2.8,2.5,2.8,2.9,3.0,2.8,3.0,2.9,2.6,2.4,2.4,2.7,2.7,3.0,3.4,3.1,2.3,3.0,2.5,2.6,3.0,2.6,2.3,2.7,3.0,2.9,2.9,2.5,2.8,3.3,2.7,3.0,2.9,3.0,3.0,2.5,2.9,2.5,3.6,3.2,2.7,3.0,2.5,2.8,3.2,3.0,3.8,2.6,2.2,3.2,2.8,2.8,2.7,3.3,3.2,2.8,3.0,2.8,3.0,2.8,3.8,2.8,2.8,2.6,3.0,3.4,3.1,3.0,3.1,3.1,3.1,2.7,3.2,3.3,3.0,2.5,3.0,3.4,3.0],\"y0\":\" \",\"yaxis\":\"y\",\"type\":\"box\"}],                        {\"template\":{\"data\":{\"histogram2dcontour\":[{\"type\":\"histogram2dcontour\",\"colorbar\":{\"outlinewidth\":0,\"ticks\":\"\"},\"colorscale\":[[0.0,\"#0d0887\"],[0.1111111111111111,\"#46039f\"],[0.2222222222222222,\"#7201a8\"],[0.3333333333333333,\"#9c179e\"],[0.4444444444444444,\"#bd3786\"],[0.5555555555555556,\"#d8576b\"],[0.6666666666666666,\"#ed7953\"],[0.7777777777777778,\"#fb9f3a\"],[0.8888888888888888,\"#fdca26\"],[1.0,\"#f0f921\"]]}],\"choropleth\":[{\"type\":\"choropleth\",\"colorbar\":{\"outlinewidth\":0,\"ticks\":\"\"}}],\"histogram2d\":[{\"type\":\"histogram2d\",\"colorbar\":{\"outlinewidth\":0,\"ticks\":\"\"},\"colorscale\":[[0.0,\"#0d0887\"],[0.1111111111111111,\"#46039f\"],[0.2222222222222222,\"#7201a8\"],[0.3333333333333333,\"#9c179e\"],[0.4444444444444444,\"#bd3786\"],[0.5555555555555556,\"#d8576b\"],[0.6666666666666666,\"#ed7953\"],[0.7777777777777778,\"#fb9f3a\"],[0.8888888888888888,\"#fdca26\"],[1.0,\"#f0f921\"]]}],\"heatmap\":[{\"type\":\"heatmap\",\"colorbar\":{\"outlinewidth\":0,\"ticks\":\"\"},\"colorscale\":[[0.0,\"#0d0887\"],[0.1111111111111111,\"#46039f\"],[0.2222222222222222,\"#7201a8\"],[0.3333333333333333,\"#9c179e\"],[0.4444444444444444,\"#bd3786\"],[0.5555555555555556,\"#d8576b\"],[0.6666666666666666,\"#ed7953\"],[0.7777777777777778,\"#fb9f3a\"],[0.8888888888888888,\"#fdca26\"],[1.0,\"#f0f921\"]]}],\"heatmapgl\":[{\"type\":\"heatmapgl\",\"colorbar\":{\"outlinewidth\":0,\"ticks\":\"\"},\"colorscale\":[[0.0,\"#0d0887\"],[0.1111111111111111,\"#46039f\"],[0.2222222222222222,\"#7201a8\"],[0.3333333333333333,\"#9c179e\"],[0.4444444444444444,\"#bd3786\"],[0.5555555555555556,\"#d8576b\"],[0.6666666666666666,\"#ed7953\"],[0.7777777777777778,\"#fb9f3a\"],[0.8888888888888888,\"#fdca26\"],[1.0,\"#f0f921\"]]}],\"contourcarpet\":[{\"type\":\"contourcarpet\",\"colorbar\":{\"outlinewidth\":0,\"ticks\":\"\"}}],\"contour\":[{\"type\":\"contour\",\"colorbar\":{\"outlinewidth\":0,\"ticks\":\"\"},\"colorscale\":[[0.0,\"#0d0887\"],[0.1111111111111111,\"#46039f\"],[0.2222222222222222,\"#7201a8\"],[0.3333333333333333,\"#9c179e\"],[0.4444444444444444,\"#bd3786\"],[0.5555555555555556,\"#d8576b\"],[0.6666666666666666,\"#ed7953\"],[0.7777777777777778,\"#fb9f3a\"],[0.8888888888888888,\"#fdca26\"],[1.0,\"#f0f921\"]]}],\"surface\":[{\"type\":\"surface\",\"colorbar\":{\"outlinewidth\":0,\"ticks\":\"\"},\"colorscale\":[[0.0,\"#0d0887\"],[0.1111111111111111,\"#46039f\"],[0.2222222222222222,\"#7201a8\"],[0.3333333333333333,\"#9c179e\"],[0.4444444444444444,\"#bd3786\"],[0.5555555555555556,\"#d8576b\"],[0.6666666666666666,\"#ed7953\"],[0.7777777777777778,\"#fb9f3a\"],[0.8888888888888888,\"#fdca26\"],[1.0,\"#f0f921\"]]}],\"mesh3d\":[{\"type\":\"mesh3d\",\"colorbar\":{\"outlinewidth\":0,\"ticks\":\"\"}}],\"scatter\":[{\"fillpattern\":{\"fillmode\":\"overlay\",\"size\":10,\"solidity\":0.2},\"type\":\"scatter\"}],\"parcoords\":[{\"type\":\"parcoords\",\"line\":{\"colorbar\":{\"outlinewidth\":0,\"ticks\":\"\"}}}],\"scatterpolargl\":[{\"type\":\"scatterpolargl\",\"marker\":{\"colorbar\":{\"outlinewidth\":0,\"ticks\":\"\"}}}],\"bar\":[{\"error_x\":{\"color\":\"#2a3f5f\"},\"error_y\":{\"color\":\"#2a3f5f\"},\"marker\":{\"line\":{\"color\":\"#E5ECF6\",\"width\":0.5},\"pattern\":{\"fillmode\":\"overlay\",\"size\":10,\"solidity\":0.2}},\"type\":\"bar\"}],\"scattergeo\":[{\"type\":\"scattergeo\",\"marker\":{\"colorbar\":{\"outlinewidth\":0,\"ticks\":\"\"}}}],\"scatterpolar\":[{\"type\":\"scatterpolar\",\"marker\":{\"colorbar\":{\"outlinewidth\":0,\"ticks\":\"\"}}}],\"histogram\":[{\"marker\":{\"pattern\":{\"fillmode\":\"overlay\",\"size\":10,\"solidity\":0.2}},\"type\":\"histogram\"}],\"scattergl\":[{\"type\":\"scattergl\",\"marker\":{\"colorbar\":{\"outlinewidth\":0,\"ticks\":\"\"}}}],\"scatter3d\":[{\"type\":\"scatter3d\",\"line\":{\"colorbar\":{\"outlinewidth\":0,\"ticks\":\"\"}},\"marker\":{\"colorbar\":{\"outlinewidth\":0,\"ticks\":\"\"}}}],\"scattermapbox\":[{\"type\":\"scattermapbox\",\"marker\":{\"colorbar\":{\"outlinewidth\":0,\"ticks\":\"\"}}}],\"scatterternary\":[{\"type\":\"scatterternary\",\"marker\":{\"colorbar\":{\"outlinewidth\":0,\"ticks\":\"\"}}}],\"scattercarpet\":[{\"type\":\"scattercarpet\",\"marker\":{\"colorbar\":{\"outlinewidth\":0,\"ticks\":\"\"}}}],\"carpet\":[{\"aaxis\":{\"endlinecolor\":\"#2a3f5f\",\"gridcolor\":\"white\",\"linecolor\":\"white\",\"minorgridcolor\":\"white\",\"startlinecolor\":\"#2a3f5f\"},\"baxis\":{\"endlinecolor\":\"#2a3f5f\",\"gridcolor\":\"white\",\"linecolor\":\"white\",\"minorgridcolor\":\"white\",\"startlinecolor\":\"#2a3f5f\"},\"type\":\"carpet\"}],\"table\":[{\"cells\":{\"fill\":{\"color\":\"#EBF0F8\"},\"line\":{\"color\":\"white\"}},\"header\":{\"fill\":{\"color\":\"#C8D4E3\"},\"line\":{\"color\":\"white\"}},\"type\":\"table\"}],\"barpolar\":[{\"marker\":{\"line\":{\"color\":\"#E5ECF6\",\"width\":0.5},\"pattern\":{\"fillmode\":\"overlay\",\"size\":10,\"solidity\":0.2}},\"type\":\"barpolar\"}],\"pie\":[{\"automargin\":true,\"type\":\"pie\"}]},\"layout\":{\"autotypenumbers\":\"strict\",\"colorway\":[\"#636efa\",\"#EF553B\",\"#00cc96\",\"#ab63fa\",\"#FFA15A\",\"#19d3f3\",\"#FF6692\",\"#B6E880\",\"#FF97FF\",\"#FECB52\"],\"font\":{\"color\":\"#2a3f5f\"},\"hovermode\":\"closest\",\"hoverlabel\":{\"align\":\"left\"},\"paper_bgcolor\":\"white\",\"plot_bgcolor\":\"#E5ECF6\",\"polar\":{\"bgcolor\":\"#E5ECF6\",\"angularaxis\":{\"gridcolor\":\"white\",\"linecolor\":\"white\",\"ticks\":\"\"},\"radialaxis\":{\"gridcolor\":\"white\",\"linecolor\":\"white\",\"ticks\":\"\"}},\"ternary\":{\"bgcolor\":\"#E5ECF6\",\"aaxis\":{\"gridcolor\":\"white\",\"linecolor\":\"white\",\"ticks\":\"\"},\"baxis\":{\"gridcolor\":\"white\",\"linecolor\":\"white\",\"ticks\":\"\"},\"caxis\":{\"gridcolor\":\"white\",\"linecolor\":\"white\",\"ticks\":\"\"}},\"coloraxis\":{\"colorbar\":{\"outlinewidth\":0,\"ticks\":\"\"}},\"colorscale\":{\"sequential\":[[0.0,\"#0d0887\"],[0.1111111111111111,\"#46039f\"],[0.2222222222222222,\"#7201a8\"],[0.3333333333333333,\"#9c179e\"],[0.4444444444444444,\"#bd3786\"],[0.5555555555555556,\"#d8576b\"],[0.6666666666666666,\"#ed7953\"],[0.7777777777777778,\"#fb9f3a\"],[0.8888888888888888,\"#fdca26\"],[1.0,\"#f0f921\"]],\"sequentialminus\":[[0.0,\"#0d0887\"],[0.1111111111111111,\"#46039f\"],[0.2222222222222222,\"#7201a8\"],[0.3333333333333333,\"#9c179e\"],[0.4444444444444444,\"#bd3786\"],[0.5555555555555556,\"#d8576b\"],[0.6666666666666666,\"#ed7953\"],[0.7777777777777778,\"#fb9f3a\"],[0.8888888888888888,\"#fdca26\"],[1.0,\"#f0f921\"]],\"diverging\":[[0,\"#8e0152\"],[0.1,\"#c51b7d\"],[0.2,\"#de77ae\"],[0.3,\"#f1b6da\"],[0.4,\"#fde0ef\"],[0.5,\"#f7f7f7\"],[0.6,\"#e6f5d0\"],[0.7,\"#b8e186\"],[0.8,\"#7fbc41\"],[0.9,\"#4d9221\"],[1,\"#276419\"]]},\"xaxis\":{\"gridcolor\":\"white\",\"linecolor\":\"white\",\"ticks\":\"\",\"title\":{\"standoff\":15},\"zerolinecolor\":\"white\",\"automargin\":true,\"zerolinewidth\":2},\"yaxis\":{\"gridcolor\":\"white\",\"linecolor\":\"white\",\"ticks\":\"\",\"title\":{\"standoff\":15},\"zerolinecolor\":\"white\",\"automargin\":true,\"zerolinewidth\":2},\"scene\":{\"xaxis\":{\"backgroundcolor\":\"#E5ECF6\",\"gridcolor\":\"white\",\"linecolor\":\"white\",\"showbackground\":true,\"ticks\":\"\",\"zerolinecolor\":\"white\",\"gridwidth\":2},\"yaxis\":{\"backgroundcolor\":\"#E5ECF6\",\"gridcolor\":\"white\",\"linecolor\":\"white\",\"showbackground\":true,\"ticks\":\"\",\"zerolinecolor\":\"white\",\"gridwidth\":2},\"zaxis\":{\"backgroundcolor\":\"#E5ECF6\",\"gridcolor\":\"white\",\"linecolor\":\"white\",\"showbackground\":true,\"ticks\":\"\",\"zerolinecolor\":\"white\",\"gridwidth\":2}},\"shapedefaults\":{\"line\":{\"color\":\"#2a3f5f\"}},\"annotationdefaults\":{\"arrowcolor\":\"#2a3f5f\",\"arrowhead\":0,\"arrowwidth\":1},\"geo\":{\"bgcolor\":\"white\",\"landcolor\":\"#E5ECF6\",\"subunitcolor\":\"white\",\"showland\":true,\"showlakes\":true,\"lakecolor\":\"white\"},\"title\":{\"x\":0.05},\"mapbox\":{\"style\":\"light\"}}},\"xaxis\":{\"anchor\":\"y\",\"domain\":[0.0,1.0]},\"yaxis\":{\"anchor\":\"x\",\"domain\":[0.0,1.0],\"title\":{\"text\":\"sepal_width\"}},\"legend\":{\"tracegroupgap\":0},\"margin\":{\"t\":60},\"boxmode\":\"group\",\"width\":500},                        {\"responsive\": true}                    ).then(function(){\n",
       "                            \n",
       "var gd = document.getElementById('3de42b29-5897-4296-85e0-1f2c24c881c0');\n",
       "var x = new MutationObserver(function (mutations, observer) {{\n",
       "        var display = window.getComputedStyle(gd).display;\n",
       "        if (!display || display === 'none') {{\n",
       "            console.log([gd, 'removed!']);\n",
       "            Plotly.purge(gd);\n",
       "            observer.disconnect();\n",
       "        }}\n",
       "}});\n",
       "\n",
       "// Listen for the removal of the full notebook cells\n",
       "var notebookContainer = gd.closest('#notebook-container');\n",
       "if (notebookContainer) {{\n",
       "    x.observe(notebookContainer, {childList: true});\n",
       "}}\n",
       "\n",
       "// Listen for the clearing of the current output cell\n",
       "var outputEl = gd.closest('.output');\n",
       "if (outputEl) {{\n",
       "    x.observe(outputEl, {childList: true});\n",
       "}}\n",
       "\n",
       "                        })                };                            </script>        </div>\n",
       "</body>\n",
       "</html>"
      ]
     },
     "metadata": {}
    }
   ],
   "source": [
    "import plotly.express as px\n",
    "\n",
    "fig = px.box(df, y='sepal_width', width=500)\n",
    "fig.show()"
   ]
  },
  {
   "cell_type": "code",
   "execution_count": null,
   "metadata": {
    "id": "fS3akfR1c6_-"
   },
   "outputs": [],
   "source": [
    "# Calculate the IQR\n",
    "q1 = pl.col('sepal_width').quantile(0.25)\n",
    "q3 = pl.col('sepal_width').quantile(0.75)\n",
    "iqr = q3 - q1\n",
    "threshold = 1.5\n",
    "lower_limit = q1 - iqr * threshold\n",
    "upper_limit = q3 + iqr * threshold\n",
    "\n",
    "df.filter(\n",
    "    (pl.col('sepal_width') < lower_limit) | (pl.col('sepal_width') > upper_limit)\n",
    ").head()"
   ]
  },
  {
   "cell_type": "code",
   "execution_count": null,
   "metadata": {
    "id": "XzCFVymoc6_-"
   },
   "outputs": [],
   "source": [
    "# remove the outliers\n",
    "is_outlier_iqr = (pl.col('sepal_width') < lower_limit) | (pl.col('sepal_width') > upper_limit)\n",
    "df_iqr_outlier_removed = (\n",
    "    df\n",
    "    .filter(is_outlier_iqr.not_())\n",
    ")\n",
    "df_iqr_outlier_removed.filter(is_outlier_iqr)"
   ]
  },
  {
   "cell_type": "markdown",
   "source": [
    "#Replace the outliers with the median and check there are no outliers after replacing them"
   ],
   "metadata": {
    "id": "-73VNXA6Pp6f"
   }
  },
  {
   "cell_type": "code",
   "execution_count": null,
   "metadata": {
    "id": "iU15R7UNc6__",
    "outputId": "49e96719-f4e4-49d6-e2ec-3664016c18b1",
    "colab": {
     "base_uri": "https://localhost:8080/",
     "height": 98
    }
   },
   "outputs": [
    {
     "output_type": "execute_result",
     "data": {
      "text/plain": [
       "shape: (0, 6)\n",
       "┌──────────────┬─────────────┬──────────────┬─────────────┬─────────┬────────────┐\n",
       "│ sepal_length ┆ sepal_width ┆ petal_length ┆ petal_width ┆ species ┆ species_id │\n",
       "│ ---          ┆ ---         ┆ ---          ┆ ---         ┆ ---     ┆ ---        │\n",
       "│ f64          ┆ f64         ┆ f64          ┆ f64         ┆ str     ┆ i64        │\n",
       "╞══════════════╪═════════════╪══════════════╪═════════════╪═════════╪════════════╡\n",
       "└──────────────┴─────────────┴──────────────┴─────────────┴─────────┴────────────┘"
      ],
      "text/html": [
       "<div><style>\n",
       ".dataframe > thead > tr,\n",
       ".dataframe > tbody > tr {\n",
       "  text-align: right;\n",
       "  white-space: pre-wrap;\n",
       "}\n",
       "</style>\n",
       "<small>shape: (0, 6)</small><table border=\"1\" class=\"dataframe\"><thead><tr><th>sepal_length</th><th>sepal_width</th><th>petal_length</th><th>petal_width</th><th>species</th><th>species_id</th></tr><tr><td>f64</td><td>f64</td><td>f64</td><td>f64</td><td>str</td><td>i64</td></tr></thead><tbody></tbody></table></div>"
      ]
     },
     "metadata": {},
     "execution_count": 69
    }
   ],
   "source": [
    "df_iqr_outlier_replaced = (\n",
    "    df\n",
    "    .with_columns(\n",
    "        pl.when(is_outlier_iqr)\n",
    "        .then(pl.col('sepal_width').median())\n",
    "        .otherwise(pl.col('sepal_width'))\n",
    "        .alias('sepal_width')\n",
    "    )\n",
    ")\n",
    "df_iqr_outlier_replaced.filter(is_outlier_iqr)"
   ]
  },
  {
   "cell_type": "markdown",
   "source": [
    "Confirmed outliers are no longer in the dataset."
   ],
   "metadata": {
    "id": "-OP_eJEWPxDh"
   }
  },
  {
   "cell_type": "markdown",
   "source": [
    "#Detect outliers with the z-score. Add a new column that calculates the z-score for every data point for the sepal_length column"
   ],
   "metadata": {
    "id": "Nm3EacSwP3hM"
   }
  },
  {
   "cell_type": "code",
   "execution_count": null,
   "metadata": {
    "id": "iex1RRNyc6__",
    "outputId": "d60820ac-bbc8-4478-fdea-f0efbd4a430a"
   },
   "outputs": [
    {
     "data": {
      "text/html": [
       "<div><style>\n",
       ".dataframe > thead > tr,\n",
       ".dataframe > tbody > tr {\n",
       "  text-align: right;\n",
       "  white-space: pre-wrap;\n",
       "}\n",
       "</style>\n",
       "<small>shape: (5, 7)</small><table border=\"1\" class=\"dataframe\"><thead><tr><th>sepal_length</th><th>sepal_width</th><th>petal_length</th><th>petal_width</th><th>species</th><th>species_id</th><th>sepal_width_zscore</th></tr><tr><td>f64</td><td>f64</td><td>f64</td><td>f64</td><td>str</td><td>i64</td><td>f64</td></tr></thead><tbody><tr><td>5.1</td><td>3.5</td><td>1.4</td><td>0.2</td><td>&quot;setosa&quot;</td><td>1</td><td>1.028611</td></tr><tr><td>4.9</td><td>3.0</td><td>1.4</td><td>0.2</td><td>&quot;setosa&quot;</td><td>1</td><td>-0.12454</td></tr><tr><td>4.7</td><td>3.2</td><td>1.3</td><td>0.2</td><td>&quot;setosa&quot;</td><td>1</td><td>0.33672</td></tr><tr><td>4.6</td><td>3.1</td><td>1.5</td><td>0.2</td><td>&quot;setosa&quot;</td><td>1</td><td>0.10609</td></tr><tr><td>5.0</td><td>3.6</td><td>1.4</td><td>0.2</td><td>&quot;setosa&quot;</td><td>1</td><td>1.259242</td></tr></tbody></table></div>"
      ],
      "text/plain": [
       "shape: (5, 7)\n",
       "┌──────────────┬─────────────┬──────────────┬─────────────┬─────────┬────────────┬─────────────────┐\n",
       "│ sepal_length ┆ sepal_width ┆ petal_length ┆ petal_width ┆ species ┆ species_id ┆ sepal_width_zsc │\n",
       "│ ---          ┆ ---         ┆ ---          ┆ ---         ┆ ---     ┆ ---        ┆ ore             │\n",
       "│ f64          ┆ f64         ┆ f64          ┆ f64         ┆ str     ┆ i64        ┆ ---             │\n",
       "│              ┆             ┆              ┆             ┆         ┆            ┆ f64             │\n",
       "╞══════════════╪═════════════╪══════════════╪═════════════╪═════════╪════════════╪═════════════════╡\n",
       "│ 5.1          ┆ 3.5         ┆ 1.4          ┆ 0.2         ┆ setosa  ┆ 1          ┆ 1.028611        │\n",
       "│ 4.9          ┆ 3.0         ┆ 1.4          ┆ 0.2         ┆ setosa  ┆ 1          ┆ -0.12454        │\n",
       "│ 4.7          ┆ 3.2         ┆ 1.3          ┆ 0.2         ┆ setosa  ┆ 1          ┆ 0.33672         │\n",
       "│ 4.6          ┆ 3.1         ┆ 1.5          ┆ 0.2         ┆ setosa  ┆ 1          ┆ 0.10609         │\n",
       "│ 5.0          ┆ 3.6         ┆ 1.4          ┆ 0.2         ┆ setosa  ┆ 1          ┆ 1.259242        │\n",
       "└──────────────┴─────────────┴──────────────┴─────────────┴─────────┴────────────┴─────────────────┘"
      ]
     },
     "execution_count": 51,
     "metadata": {},
     "output_type": "execute_result"
    }
   ],
   "source": [
    "df_zscore = (\n",
    "    df.with_columns(\n",
    "       sepal_width_zscore=(pl.col('sepal_width') - pl.col('sepal_width').mean()) / pl.col('sepal_width').std()\n",
    "    )\n",
    ")\n",
    "df_zscore.head()"
   ]
  },
  {
   "cell_type": "markdown",
   "source": [
    "#Remove or replace outliers with the z-score."
   ],
   "metadata": {
    "id": "2GTMdf0gQAqN"
   }
  },
  {
   "cell_type": "code",
   "execution_count": null,
   "metadata": {
    "id": "3XlWD8p0c6__",
    "colab": {
     "base_uri": "https://localhost:8080/",
     "height": 176
    },
    "outputId": "fe58a253-9611-492d-a962-49e07e4b8ace"
   },
   "outputs": [
    {
     "output_type": "error",
     "ename": "NameError",
     "evalue": "name 'df_zscore' is not defined",
     "traceback": [
      "\u001B[0;31m---------------------------------------------------------------------------\u001B[0m",
      "\u001B[0;31mNameError\u001B[0m                                 Traceback (most recent call last)",
      "\u001B[0;32m<ipython-input-70-7186eae0a438>\u001B[0m in \u001B[0;36m<cell line: 0>\u001B[0;34m()\u001B[0m\n\u001B[1;32m      1\u001B[0m \u001B[0;31m#Remove the outlier\u001B[0m\u001B[0;34m\u001B[0m\u001B[0;34m\u001B[0m\u001B[0m\n\u001B[1;32m      2\u001B[0m \u001B[0mis_outlier_z_score\u001B[0m \u001B[0;34m=\u001B[0m \u001B[0;34m(\u001B[0m\u001B[0mpl\u001B[0m\u001B[0;34m.\u001B[0m\u001B[0mcol\u001B[0m\u001B[0;34m(\u001B[0m\u001B[0;34m'sepal_width_zscore'\u001B[0m\u001B[0;34m)\u001B[0m \u001B[0;34m>\u001B[0m \u001B[0;36m3\u001B[0m\u001B[0;34m)\u001B[0m \u001B[0;34m|\u001B[0m \u001B[0;34m(\u001B[0m\u001B[0mpl\u001B[0m\u001B[0;34m.\u001B[0m\u001B[0mcol\u001B[0m\u001B[0;34m(\u001B[0m\u001B[0;34m'sepal_width_zscore'\u001B[0m\u001B[0;34m)\u001B[0m \u001B[0;34m<\u001B[0m \u001B[0;34m-\u001B[0m\u001B[0;36m3\u001B[0m\u001B[0;34m)\u001B[0m\u001B[0;34m\u001B[0m\u001B[0;34m\u001B[0m\u001B[0m\n\u001B[0;32m----> 3\u001B[0;31m \u001B[0mdf_zscore_outliers_removed\u001B[0m \u001B[0;34m=\u001B[0m \u001B[0mdf_zscore\u001B[0m\u001B[0;34m.\u001B[0m\u001B[0mfilter\u001B[0m\u001B[0;34m(\u001B[0m\u001B[0mis_outlier_z_score\u001B[0m\u001B[0;34m.\u001B[0m\u001B[0mnot_\u001B[0m\u001B[0;34m(\u001B[0m\u001B[0;34m)\u001B[0m\u001B[0;34m)\u001B[0m\u001B[0;34m\u001B[0m\u001B[0;34m\u001B[0m\u001B[0m\n\u001B[0m",
      "\u001B[0;31mNameError\u001B[0m: name 'df_zscore' is not defined"
     ]
    }
   ],
   "source": [
    "#Remove the outlier\n",
    "is_outlier_z_score = (pl.col('sepal_width_zscore') > 3) | (pl.col('sepal_width_zscore') < -3)\n",
    "df_zscore_outliers_removed = df_zscore.filter(is_outlier_z_score.not_())"
   ]
  },
  {
   "cell_type": "code",
   "source": [
    "import polars as pl\n",
    "import plotly\n",
    "\n",
    "df = pl.from_pandas(plotly.data.iris())\n",
    "df.head()\n",
    "\n",
    "# Calculate the z-score and create df_zscore\n",
    "df_zscore = (\n",
    "    df.with_columns(\n",
    "       sepal_width_zscore=(pl.col('sepal_width') - pl.col('sepal_width').mean()) / pl.col('sepal_width').std()\n",
    "    )\n",
    ")\n",
    "\n",
    "# Remove the outlier using df_zscore\n",
    "is_outlier_z_score = (pl.col('sepal_width_zscore') > 3) | (pl.col('sepal_width_zscore') < -3)\n",
    "df_zscore_outliers_removed = df_zscore.filter(is_outlier_z_score.not_())"
   ],
   "metadata": {
    "id": "06U7GvH-QVcC"
   },
   "execution_count": null,
   "outputs": []
  },
  {
   "cell_type": "code",
   "execution_count": null,
   "metadata": {
    "id": "uZdJJP18c6__",
    "outputId": "bb8b38a8-8bab-41be-accf-5a98a52c7e8b",
    "colab": {
     "base_uri": "https://localhost:8080/",
     "height": 129
    }
   },
   "outputs": [
    {
     "output_type": "execute_result",
     "data": {
      "text/plain": [
       "shape: (1, 7)\n",
       "┌──────────────┬─────────────┬──────────────┬─────────────┬─────────┬────────────┬─────────────────┐\n",
       "│ sepal_length ┆ sepal_width ┆ petal_length ┆ petal_width ┆ species ┆ species_id ┆ sepal_width_zsc │\n",
       "│ ---          ┆ ---         ┆ ---          ┆ ---         ┆ ---     ┆ ---        ┆ ore             │\n",
       "│ f64          ┆ f64         ┆ f64          ┆ f64         ┆ str     ┆ i64        ┆ ---             │\n",
       "│              ┆             ┆              ┆             ┆         ┆            ┆ f64             │\n",
       "╞══════════════╪═════════════╪══════════════╪═════════════╪═════════╪════════════╪═════════════════╡\n",
       "│ 5.7          ┆ 4.4         ┆ 1.5          ┆ 0.4         ┆ setosa  ┆ 1          ┆ 3.104284        │\n",
       "└──────────────┴─────────────┴──────────────┴─────────────┴─────────┴────────────┴─────────────────┘"
      ],
      "text/html": [
       "<div><style>\n",
       ".dataframe > thead > tr,\n",
       ".dataframe > tbody > tr {\n",
       "  text-align: right;\n",
       "  white-space: pre-wrap;\n",
       "}\n",
       "</style>\n",
       "<small>shape: (1, 7)</small><table border=\"1\" class=\"dataframe\"><thead><tr><th>sepal_length</th><th>sepal_width</th><th>petal_length</th><th>petal_width</th><th>species</th><th>species_id</th><th>sepal_width_zscore</th></tr><tr><td>f64</td><td>f64</td><td>f64</td><td>f64</td><td>str</td><td>i64</td><td>f64</td></tr></thead><tbody><tr><td>5.7</td><td>4.4</td><td>1.5</td><td>0.4</td><td>&quot;setosa&quot;</td><td>1</td><td>3.104284</td></tr></tbody></table></div>"
      ]
     },
     "metadata": {},
     "execution_count": 73
    }
   ],
   "source": [
    "#Check how many points were outliers\n",
    "df_zscore.filter(is_outlier_z_score)\n",
    "# show the outlier based on Z- Score"
   ]
  },
  {
   "cell_type": "code",
   "execution_count": null,
   "metadata": {
    "id": "e8tMELU_c6__",
    "outputId": "4a3496e9-c937-44f0-873c-f1ab4cc6cfd2",
    "colab": {
     "base_uri": "https://localhost:8080/",
     "height": 98
    }
   },
   "outputs": [
    {
     "output_type": "execute_result",
     "data": {
      "text/plain": [
       "shape: (0, 7)\n",
       "┌──────────────┬─────────────┬──────────────┬─────────────┬─────────┬────────────┬─────────────────┐\n",
       "│ sepal_length ┆ sepal_width ┆ petal_length ┆ petal_width ┆ species ┆ species_id ┆ sepal_width_zsc │\n",
       "│ ---          ┆ ---         ┆ ---          ┆ ---         ┆ ---     ┆ ---        ┆ ore             │\n",
       "│ f64          ┆ f64         ┆ f64          ┆ f64         ┆ str     ┆ i64        ┆ ---             │\n",
       "│              ┆             ┆              ┆             ┆         ┆            ┆ f64             │\n",
       "╞══════════════╪═════════════╪══════════════╪═════════════╪═════════╪════════════╪═════════════════╡\n",
       "└──────────────┴─────────────┴──────────────┴─────────────┴─────────┴────────────┴─────────────────┘"
      ],
      "text/html": [
       "<div><style>\n",
       ".dataframe > thead > tr,\n",
       ".dataframe > tbody > tr {\n",
       "  text-align: right;\n",
       "  white-space: pre-wrap;\n",
       "}\n",
       "</style>\n",
       "<small>shape: (0, 7)</small><table border=\"1\" class=\"dataframe\"><thead><tr><th>sepal_length</th><th>sepal_width</th><th>petal_length</th><th>petal_width</th><th>species</th><th>species_id</th><th>sepal_width_zscore</th></tr><tr><td>f64</td><td>f64</td><td>f64</td><td>f64</td><td>str</td><td>i64</td><td>f64</td></tr></thead><tbody></tbody></table></div>"
      ]
     },
     "metadata": {},
     "execution_count": 74
    }
   ],
   "source": [
    "# check the outliers were removed\n",
    "df_zscore_outliers_removed.filter(is_outlier_z_score)"
   ]
  },
  {
   "cell_type": "code",
   "execution_count": null,
   "metadata": {
    "id": "X39C3fj3c7AA"
   },
   "outputs": [],
   "source": [
    "# Replace the outliers with the. mean\n",
    "df_zscore_outliers_replaced = (\n",
    "    df_zscore\n",
    "    .with_columns(\n",
    "        pl.when(is_outlier_z_score)\n",
    "        .then(pl.col('sepal_width').mean())\n",
    "        .otherwise(pl.col('sepal_width'))\n",
    "        .alias('sepal_width')\n",
    "    )\n",
    ")"
   ]
  },
  {
   "cell_type": "code",
   "execution_count": null,
   "metadata": {
    "id": "ZJ8oL1MBc7AA",
    "outputId": "53748237-a432-49b7-b427-1325a5bc4d96",
    "colab": {
     "base_uri": "https://localhost:8080/",
     "height": 129
    }
   },
   "outputs": [
    {
     "output_type": "execute_result",
     "data": {
      "text/plain": [
       "shape: (1, 7)\n",
       "┌──────────────┬─────────────┬──────────────┬─────────────┬─────────┬────────────┬─────────────────┐\n",
       "│ sepal_length ┆ sepal_width ┆ petal_length ┆ petal_width ┆ species ┆ species_id ┆ sepal_width_zsc │\n",
       "│ ---          ┆ ---         ┆ ---          ┆ ---         ┆ ---     ┆ ---        ┆ ore             │\n",
       "│ f64          ┆ f64         ┆ f64          ┆ f64         ┆ str     ┆ i64        ┆ ---             │\n",
       "│              ┆             ┆              ┆             ┆         ┆            ┆ f64             │\n",
       "╞══════════════╪═════════════╪══════════════╪═════════════╪═════════╪════════════╪═════════════════╡\n",
       "│ 5.7          ┆ 3.054       ┆ 1.5          ┆ 0.4         ┆ setosa  ┆ 1          ┆ 3.104284        │\n",
       "└──────────────┴─────────────┴──────────────┴─────────────┴─────────┴────────────┴─────────────────┘"
      ],
      "text/html": [
       "<div><style>\n",
       ".dataframe > thead > tr,\n",
       ".dataframe > tbody > tr {\n",
       "  text-align: right;\n",
       "  white-space: pre-wrap;\n",
       "}\n",
       "</style>\n",
       "<small>shape: (1, 7)</small><table border=\"1\" class=\"dataframe\"><thead><tr><th>sepal_length</th><th>sepal_width</th><th>petal_length</th><th>petal_width</th><th>species</th><th>species_id</th><th>sepal_width_zscore</th></tr><tr><td>f64</td><td>f64</td><td>f64</td><td>f64</td><td>str</td><td>i64</td><td>f64</td></tr></thead><tbody><tr><td>5.7</td><td>3.054</td><td>1.5</td><td>0.4</td><td>&quot;setosa&quot;</td><td>1</td><td>3.104284</td></tr></tbody></table></div>"
      ]
     },
     "metadata": {},
     "execution_count": 76
    }
   ],
   "source": [
    "df_zscore_outliers_replaced.filter(is_outlier_z_score)"
   ]
  },
  {
   "cell_type": "code",
   "source": [
    "# @title\n",
    "is_outlier_iqr = (pl.col('sepal_width') < lower_limit) | (pl.col('sepal_width') > upper_limit)"
   ],
   "metadata": {
    "id": "9HRFb23nRihl",
    "cellView": "form"
   },
   "execution_count": null,
   "outputs": []
  }
 ],
 "metadata": {
  "kernelspec": {
   "display_name": ".venv",
   "language": "python",
   "name": "python3"
  },
  "language_info": {
   "codemirror_mode": {
    "name": "ipython",
    "version": 3
   },
   "file_extension": ".py",
   "mimetype": "text/x-python",
   "name": "python",
   "nbconvert_exporter": "python",
   "pygments_lexer": "ipython3",
   "version": "3.11.3"
  },
  "colab": {
   "provenance": []
  }
 },
 "nbformat": 4,
 "nbformat_minor": 0
}
